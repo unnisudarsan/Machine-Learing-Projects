{
 "cells": [
  {
   "cell_type": "code",
   "execution_count": 1,
   "metadata": {},
   "outputs": [],
   "source": [
    "import pandas as pd\n",
    "import numpy as np\n",
    "import matplotlib.pyplot as plt"
   ]
  },
  {
   "cell_type": "code",
   "execution_count": 2,
   "metadata": {},
   "outputs": [],
   "source": [
    "data = pd.read_csv('/home/user/Downloads/ML/Loksabha2019.csv')"
   ]
  },
  {
   "cell_type": "code",
   "execution_count": 3,
   "metadata": {
    "scrolled": true
   },
   "outputs": [
    {
     "data": {
      "text/html": [
       "<div>\n",
       "<style scoped>\n",
       "    .dataframe tbody tr th:only-of-type {\n",
       "        vertical-align: middle;\n",
       "    }\n",
       "\n",
       "    .dataframe tbody tr th {\n",
       "        vertical-align: top;\n",
       "    }\n",
       "\n",
       "    .dataframe thead th {\n",
       "        text-align: right;\n",
       "    }\n",
       "</style>\n",
       "<table border=\"1\" class=\"dataframe\">\n",
       "  <thead>\n",
       "    <tr style=\"text-align: right;\">\n",
       "      <th></th>\n",
       "      <th>STATE</th>\n",
       "      <th>CONSTITUENCY</th>\n",
       "      <th>NAME</th>\n",
       "      <th>WINNER</th>\n",
       "      <th>PARTY</th>\n",
       "      <th>SYMBOL</th>\n",
       "      <th>GENDER</th>\n",
       "      <th>CRIMINAL\\r\\nCASES</th>\n",
       "      <th>AGE</th>\n",
       "      <th>CATEGORY</th>\n",
       "      <th>EDUCATION</th>\n",
       "      <th>ASSETS</th>\n",
       "      <th>LIABILITIES</th>\n",
       "      <th>GENERAL\\r\\nVOTES</th>\n",
       "      <th>POSTAL\\r\\nVOTES</th>\n",
       "      <th>TOTAL\\r\\nVOTES</th>\n",
       "      <th>OVER TOTAL ELECTORS \\r\\nIN CONSTITUENCY</th>\n",
       "      <th>OVER TOTAL VOTES POLLED \\r\\nIN CONSTITUENCY</th>\n",
       "      <th>TOTAL ELECTORS</th>\n",
       "    </tr>\n",
       "  </thead>\n",
       "  <tbody>\n",
       "    <tr>\n",
       "      <th>0</th>\n",
       "      <td>Telangana</td>\n",
       "      <td>ADILABAD</td>\n",
       "      <td>SOYAM BAPU RAO</td>\n",
       "      <td>1</td>\n",
       "      <td>BJP</td>\n",
       "      <td>Lotus</td>\n",
       "      <td>MALE</td>\n",
       "      <td>52</td>\n",
       "      <td>52.0</td>\n",
       "      <td>ST</td>\n",
       "      <td>12th Pass</td>\n",
       "      <td>Rs 30,99,414\\r\\n ~ 30 Lacs+</td>\n",
       "      <td>Rs 2,31,450\\r\\n ~ 2 Lacs+</td>\n",
       "      <td>376892</td>\n",
       "      <td>482</td>\n",
       "      <td>377374</td>\n",
       "      <td>25.330684</td>\n",
       "      <td>35.468248</td>\n",
       "      <td>1489790</td>\n",
       "    </tr>\n",
       "    <tr>\n",
       "      <th>1</th>\n",
       "      <td>Telangana</td>\n",
       "      <td>ADILABAD</td>\n",
       "      <td>Godam Nagesh</td>\n",
       "      <td>0</td>\n",
       "      <td>TRS</td>\n",
       "      <td>Car</td>\n",
       "      <td>MALE</td>\n",
       "      <td>0</td>\n",
       "      <td>54.0</td>\n",
       "      <td>ST</td>\n",
       "      <td>Post Graduate</td>\n",
       "      <td>Rs 1,84,77,888\\r\\n ~ 1 Crore+</td>\n",
       "      <td>Rs 8,47,000\\r\\n ~ 8 Lacs+</td>\n",
       "      <td>318665</td>\n",
       "      <td>149</td>\n",
       "      <td>318814</td>\n",
       "      <td>21.399929</td>\n",
       "      <td>29.964370</td>\n",
       "      <td>1489790</td>\n",
       "    </tr>\n",
       "    <tr>\n",
       "      <th>2</th>\n",
       "      <td>Telangana</td>\n",
       "      <td>ADILABAD</td>\n",
       "      <td>RATHOD RAMESH</td>\n",
       "      <td>0</td>\n",
       "      <td>INC</td>\n",
       "      <td>Hand</td>\n",
       "      <td>MALE</td>\n",
       "      <td>3</td>\n",
       "      <td>52.0</td>\n",
       "      <td>ST</td>\n",
       "      <td>12th Pass</td>\n",
       "      <td>Rs 3,64,91,000\\r\\n ~ 3 Crore+</td>\n",
       "      <td>Rs 1,53,00,000\\r\\n ~ 1 Crore+</td>\n",
       "      <td>314057</td>\n",
       "      <td>181</td>\n",
       "      <td>314238</td>\n",
       "      <td>21.092771</td>\n",
       "      <td>29.534285</td>\n",
       "      <td>1489790</td>\n",
       "    </tr>\n",
       "    <tr>\n",
       "      <th>3</th>\n",
       "      <td>Telangana</td>\n",
       "      <td>ADILABAD</td>\n",
       "      <td>NOTA</td>\n",
       "      <td>0</td>\n",
       "      <td>NOTA</td>\n",
       "      <td>NaN</td>\n",
       "      <td>NaN</td>\n",
       "      <td>NaN</td>\n",
       "      <td>NaN</td>\n",
       "      <td>NaN</td>\n",
       "      <td>NaN</td>\n",
       "      <td>NaN</td>\n",
       "      <td>NaN</td>\n",
       "      <td>13030</td>\n",
       "      <td>6</td>\n",
       "      <td>13036</td>\n",
       "      <td>0.875023</td>\n",
       "      <td>1.225214</td>\n",
       "      <td>1489790</td>\n",
       "    </tr>\n",
       "    <tr>\n",
       "      <th>4</th>\n",
       "      <td>Uttar Pradesh</td>\n",
       "      <td>AGRA</td>\n",
       "      <td>Satyapal Singh Baghel</td>\n",
       "      <td>1</td>\n",
       "      <td>BJP</td>\n",
       "      <td>Lotus</td>\n",
       "      <td>MALE</td>\n",
       "      <td>5</td>\n",
       "      <td>58.0</td>\n",
       "      <td>SC</td>\n",
       "      <td>Doctorate</td>\n",
       "      <td>Rs 7,42,74,036\\r\\n ~ 7 Crore+</td>\n",
       "      <td>Rs 86,06,522\\r\\n ~ 86 Lacs+</td>\n",
       "      <td>644459</td>\n",
       "      <td>2416</td>\n",
       "      <td>646875</td>\n",
       "      <td>33.383823</td>\n",
       "      <td>56.464615</td>\n",
       "      <td>1937690</td>\n",
       "    </tr>\n",
       "  </tbody>\n",
       "</table>\n",
       "</div>"
      ],
      "text/plain": [
       "           STATE CONSTITUENCY                   NAME  WINNER PARTY SYMBOL  \\\n",
       "0      Telangana     ADILABAD         SOYAM BAPU RAO       1   BJP  Lotus   \n",
       "1      Telangana     ADILABAD           Godam Nagesh       0   TRS    Car   \n",
       "2      Telangana     ADILABAD          RATHOD RAMESH       0   INC   Hand   \n",
       "3      Telangana     ADILABAD                   NOTA       0  NOTA    NaN   \n",
       "4  Uttar Pradesh         AGRA  Satyapal Singh Baghel       1   BJP  Lotus   \n",
       "\n",
       "  GENDER CRIMINAL\\r\\nCASES   AGE CATEGORY      EDUCATION  \\\n",
       "0   MALE                52  52.0       ST      12th Pass   \n",
       "1   MALE                 0  54.0       ST  Post Graduate   \n",
       "2   MALE                 3  52.0       ST      12th Pass   \n",
       "3    NaN               NaN   NaN      NaN            NaN   \n",
       "4   MALE                 5  58.0       SC      Doctorate   \n",
       "\n",
       "                          ASSETS                    LIABILITIES  \\\n",
       "0    Rs 30,99,414\\r\\n ~ 30 Lacs+      Rs 2,31,450\\r\\n ~ 2 Lacs+   \n",
       "1  Rs 1,84,77,888\\r\\n ~ 1 Crore+      Rs 8,47,000\\r\\n ~ 8 Lacs+   \n",
       "2  Rs 3,64,91,000\\r\\n ~ 3 Crore+  Rs 1,53,00,000\\r\\n ~ 1 Crore+   \n",
       "3                            NaN                            NaN   \n",
       "4  Rs 7,42,74,036\\r\\n ~ 7 Crore+    Rs 86,06,522\\r\\n ~ 86 Lacs+   \n",
       "\n",
       "   GENERAL\\r\\nVOTES  POSTAL\\r\\nVOTES  TOTAL\\r\\nVOTES  \\\n",
       "0            376892              482          377374   \n",
       "1            318665              149          318814   \n",
       "2            314057              181          314238   \n",
       "3             13030                6           13036   \n",
       "4            644459             2416          646875   \n",
       "\n",
       "   OVER TOTAL ELECTORS \\r\\nIN CONSTITUENCY  \\\n",
       "0                                25.330684   \n",
       "1                                21.399929   \n",
       "2                                21.092771   \n",
       "3                                 0.875023   \n",
       "4                                33.383823   \n",
       "\n",
       "   OVER TOTAL VOTES POLLED \\r\\nIN CONSTITUENCY  TOTAL ELECTORS  \n",
       "0                                    35.468248         1489790  \n",
       "1                                    29.964370         1489790  \n",
       "2                                    29.534285         1489790  \n",
       "3                                     1.225214         1489790  \n",
       "4                                    56.464615         1937690  "
      ]
     },
     "execution_count": 3,
     "metadata": {},
     "output_type": "execute_result"
    }
   ],
   "source": [
    "data.head()"
   ]
  },
  {
   "cell_type": "code",
   "execution_count": 4,
   "metadata": {},
   "outputs": [
    {
     "data": {
      "text/plain": [
       "STATE                                           object\n",
       "CONSTITUENCY                                    object\n",
       "NAME                                            object\n",
       "WINNER                                           int64\n",
       "PARTY                                           object\n",
       "SYMBOL                                          object\n",
       "GENDER                                          object\n",
       "CRIMINAL\\r\\nCASES                               object\n",
       "AGE                                            float64\n",
       "CATEGORY                                        object\n",
       "EDUCATION                                       object\n",
       "ASSETS                                          object\n",
       "LIABILITIES                                     object\n",
       "GENERAL\\r\\nVOTES                                 int64\n",
       "POSTAL\\r\\nVOTES                                  int64\n",
       "TOTAL\\r\\nVOTES                                   int64\n",
       "OVER TOTAL ELECTORS \\r\\nIN CONSTITUENCY        float64\n",
       "OVER TOTAL VOTES POLLED \\r\\nIN CONSTITUENCY    float64\n",
       "TOTAL ELECTORS                                   int64\n",
       "dtype: object"
      ]
     },
     "execution_count": 4,
     "metadata": {},
     "output_type": "execute_result"
    }
   ],
   "source": [
    "data.dtypes"
   ]
  },
  {
   "cell_type": "code",
   "execution_count": 5,
   "metadata": {},
   "outputs": [
    {
     "data": {
      "text/plain": [
       "STATE                                            0\n",
       "CONSTITUENCY                                     0\n",
       "NAME                                             0\n",
       "WINNER                                           0\n",
       "PARTY                                            0\n",
       "SYMBOL                                         245\n",
       "GENDER                                         245\n",
       "CRIMINAL\\r\\nCASES                              245\n",
       "AGE                                            245\n",
       "CATEGORY                                       245\n",
       "EDUCATION                                      245\n",
       "ASSETS                                         245\n",
       "LIABILITIES                                    245\n",
       "GENERAL\\r\\nVOTES                                 0\n",
       "POSTAL\\r\\nVOTES                                  0\n",
       "TOTAL\\r\\nVOTES                                   0\n",
       "OVER TOTAL ELECTORS \\r\\nIN CONSTITUENCY          0\n",
       "OVER TOTAL VOTES POLLED \\r\\nIN CONSTITUENCY      0\n",
       "TOTAL ELECTORS                                   0\n",
       "dtype: int64"
      ]
     },
     "execution_count": 5,
     "metadata": {},
     "output_type": "execute_result"
    }
   ],
   "source": [
    "data.isna().sum()"
   ]
  },
  {
   "cell_type": "code",
   "execution_count": 6,
   "metadata": {},
   "outputs": [],
   "source": [
    "# data['CRIMINAL\\r\\nCASES'] = data['CRIMINAL\\r\\nCASES'].astype('int')"
   ]
  },
  {
   "cell_type": "code",
   "execution_count": 7,
   "metadata": {},
   "outputs": [
    {
     "data": {
      "text/plain": [
       "0                1242\n",
       "1                 313\n",
       "2                 119\n",
       "3                 104\n",
       "4                  64\n",
       "5                  42\n",
       "6                  26\n",
       "Not Available      22\n",
       "7                  18\n",
       "8                  16\n",
       "10                 11\n",
       "9                  11\n",
       "11                  5\n",
       "14                  4\n",
       "12                  4\n",
       "13                  3\n",
       "15                  2\n",
       "41                  1\n",
       "52                  1\n",
       "24                  1\n",
       "22                  1\n",
       "31                  1\n",
       "240                 1\n",
       "40                  1\n",
       "42                  1\n",
       "16                  1\n",
       "204                 1\n",
       "18                  1\n",
       "28                  1\n",
       "Name: CRIMINAL\\r\\nCASES, dtype: int64"
      ]
     },
     "execution_count": 7,
     "metadata": {},
     "output_type": "execute_result"
    }
   ],
   "source": [
    "data['CRIMINAL\\r\\nCASES'].value_counts()"
   ]
  },
  {
   "cell_type": "markdown",
   "metadata": {},
   "source": [
    "### EDA (descriptive analytics - we can use every information) \n",
    "\n",
    "1- Which party has candidates with crimanal cases\n",
    "\n",
    "2- party vs asset\n",
    "\n",
    "3- age profiling of candidates\n",
    "\n",
    "4- gender diversity\n",
    "\n",
    "5- Election result summary (party vs number of seats won/ number of seats contested)\n",
    "\n",
    "6- partywise voteshare\n",
    "\n",
    "7- partywise performance in state level\n",
    "\n",
    "8- what is the significance of Cases/Education in winning the election\n",
    "\n",
    "9- Categorywise(cast) representation\n",
    "\n",
    "10- Polling percentage analysis\n",
    "\n",
    "11- Margin analysis\n",
    "\n"
   ]
  },
  {
   "cell_type": "markdown",
   "metadata": {},
   "source": [
    "### 1- Which party has candidates with crimanal cases"
   ]
  },
  {
   "cell_type": "code",
   "execution_count": 8,
   "metadata": {},
   "outputs": [],
   "source": [
    "def c_convert(x):\n",
    "    try:\n",
    "        a = int(x)\n",
    "    except:\n",
    "        a = 0\n",
    "    return a"
   ]
  },
  {
   "cell_type": "code",
   "execution_count": 9,
   "metadata": {},
   "outputs": [],
   "source": [
    "data['CRIMINAL\\r\\nCASES'] = data['CRIMINAL\\r\\nCASES'].map(lambda x: c_convert(x)) "
   ]
  },
  {
   "cell_type": "code",
   "execution_count": 10,
   "metadata": {},
   "outputs": [
    {
     "data": {
      "text/plain": [
       "0"
      ]
     },
     "execution_count": 10,
     "metadata": {},
     "output_type": "execute_result"
    }
   ],
   "source": [
    "data['CRIMINAL\\r\\nCASES'].isna().sum()"
   ]
  },
  {
   "cell_type": "code",
   "execution_count": 11,
   "metadata": {},
   "outputs": [
    {
     "data": {
      "text/plain": [
       "array(['BJP', 'TRS', 'INC', 'NOTA', 'BSP', 'NCP', 'VBA', 'APoI', 'CPI(M)',\n",
       "       'BDJS', 'AITC', 'RSP', 'SP', 'YSRCP', 'TDP', 'JnP', 'INLD', 'SBSP',\n",
       "       'IND', 'SHS', 'AAP', 'SAD', 'JKN', 'JKPDP', 'JPC', 'DMK', 'PMK',\n",
       "       'NTK', 'MNM', 'AIADMK', 'RJD', 'CPI(ML)(L)', 'SSD', 'PPA', 'JD(S)',\n",
       "       'NPEP', 'BMUP', 'BJD', 'AIMIM', 'HAMS', 'AHFBK', 'PPID', 'SPL',\n",
       "       'ASDC', 'RLD', 'PSPL', 'JD(U)', 'BTP', 'AIFB', 'AGP', 'AIUDF',\n",
       "       'ABSKP', 'PUNEKP', 'RTORP', 'JNJP', 'LTSP', 'RVNP', 'JANADIP',\n",
       "       'SDPI', 'DMDK', 'ABGP', 'VCK', 'JMM', 'LIP', 'JDR', 'MOSP', 'MADP',\n",
       "       'AJPR', 'PMP', 'BBMP', 'AJSUP', 'JVM', 'RMPOI', 'LJP', 'BJKVP',\n",
       "       'SWP', 'NEINDP', 'RSPSR', 'ravp', 'RSOSP', 'BLSP', 'WPOI',\n",
       "       'SUCI(C)', 'SJDD', 'ANC', 'JDL', 'VSIP', 'AAM', 'JKP', 'BOPF',\n",
       "       'UPPL', 'CPIM', 'GGP', 'KEC(M)', 'KEC', 'JAPL', 'AKBMP', 'TJS',\n",
       "       'IUML', 'BSCP', 'ADAL', 'BRPI', 'MNF', 'PRISMP', 'VPI', 'YKP',\n",
       "       'NDPP', 'RLTP', 'RAHIS', 'NPF', 'BLSD', 'BVA', 'NAWPP', 'AINRC',\n",
       "       'BNDl', 'MSHP', 'BARESP', 'BLRP', 'AIPF', 'WAP', 'VCSMP', 'SAD(M)',\n",
       "       'UDP', 'SKM', 'SDF', 'PDP', 'JHP', 'TMC(M)', 'IPFT', 'JKNPP',\n",
       "       'DSSP', 'AHNP', 'PHJSP'], dtype=object)"
      ]
     },
     "execution_count": 11,
     "metadata": {},
     "output_type": "execute_result"
    }
   ],
   "source": [
    "data['PARTY'].unique()"
   ]
  },
  {
   "cell_type": "code",
   "execution_count": 12,
   "metadata": {},
   "outputs": [
    {
     "data": {
      "text/plain": [
       "array(['BJP', 'INC', 'NCP', 'CPI(M)', 'BDJS', 'JnP', 'INLD', 'BSP', 'IND',\n",
       "       'SHS', 'VBA', 'SAD', 'AAP', 'YSRCP', 'JKPDP', 'DMK', 'PMK', 'AITC',\n",
       "       'RJD', 'CPI(ML)(L)', 'NPEP', 'AIMIM', 'AHFBK', 'SP', 'SBSP',\n",
       "       'JD(U)', 'AGP', 'AIUDF', 'PUNEKP', 'BTP', 'JANADIP', 'SDPI',\n",
       "       'DMDK', 'NTK', 'ABGP', 'VCK', 'AIFB', 'MNM', 'BJD', 'TDP', 'HAMS',\n",
       "       'APoI', 'AJSUP', 'JMM', 'JVM', 'LJP', 'SWP', 'RSPSR', 'ravp',\n",
       "       'BLSP', 'SUCI(C)', 'AIADMK', 'JDL', 'VSIP', 'TRS', 'RSP', 'CPIM',\n",
       "       'KEC', 'JKP', 'LIP', 'JAPL', 'TJS', 'IUML', 'RLD', 'ADAL', 'BVA',\n",
       "       'BNDl', 'RAHIS', 'MSHP', 'JNJP', 'AAM', 'JD(S)', 'JKN', 'PSPL',\n",
       "       'JKNPP', 'AHNP'], dtype=object)"
      ]
     },
     "execution_count": 12,
     "metadata": {},
     "output_type": "execute_result"
    }
   ],
   "source": [
    "# the parties has atleast one criminal case\n",
    "data['PARTY'][data['CRIMINAL\\r\\nCASES']>0].unique()"
   ]
  },
  {
   "cell_type": "code",
   "execution_count": 13,
   "metadata": {},
   "outputs": [
    {
     "data": {
      "text/plain": [
       "PARTY\n",
       "JAPL          31.000000\n",
       "JVM           11.500000\n",
       "SWP            9.000000\n",
       "MSHP           5.000000\n",
       "AIMIM          4.333333\n",
       "CPI(ML)(L)     4.166667\n",
       "BLSP           3.600000\n",
       "DMDK           3.500000\n",
       "JDL            3.500000\n",
       "AIUDF          3.000000\n",
       "Name: CRIMINAL\\r\\nCASES, dtype: float64"
      ]
     },
     "execution_count": 13,
     "metadata": {},
     "output_type": "execute_result"
    }
   ],
   "source": [
    "data.groupby('PARTY')['CRIMINAL\\r\\nCASES'].mean().sort_values(ascending=False).head(10)"
   ]
  },
  {
   "cell_type": "code",
   "execution_count": 14,
   "metadata": {},
   "outputs": [
    {
     "data": {
      "text/plain": [
       "PARTY\n",
       "BJP       898\n",
       "INC       734\n",
       "BSP       175\n",
       "CPI(M)    168\n",
       "IND       131\n",
       "SP         74\n",
       "SHS        62\n",
       "NCP        54\n",
       "RJD        52\n",
       "VBA        44\n",
       "Name: CRIMINAL\\r\\nCASES, dtype: int64"
      ]
     },
     "execution_count": 14,
     "metadata": {},
     "output_type": "execute_result"
    }
   ],
   "source": [
    "data.groupby('PARTY')['CRIMINAL\\r\\nCASES'].sum().sort_values(ascending=False).head(10)"
   ]
  },
  {
   "cell_type": "code",
   "execution_count": 15,
   "metadata": {},
   "outputs": [
    {
     "data": {
      "text/plain": [
       "STATE          PARTY\n",
       "Kerala         BJP      333\n",
       "               INC      256\n",
       "West Bengal    BJP      173\n",
       "Uttar Pradesh  BJP      126\n",
       "               INC      109\n",
       "               BSP      107\n",
       "Telangana      INC       79\n",
       "               BJP       75\n",
       "Uttar Pradesh  SP        66\n",
       "Odisha         INC       65\n",
       "Name: CRIMINAL\\r\\nCASES, dtype: int64"
      ]
     },
     "execution_count": 15,
     "metadata": {},
     "output_type": "execute_result"
    }
   ],
   "source": [
    "data.groupby(['STATE','PARTY'])['CRIMINAL\\r\\nCASES'].sum().sort_values(ascending = False).head(10)"
   ]
  },
  {
   "cell_type": "code",
   "execution_count": 16,
   "metadata": {},
   "outputs": [
    {
     "data": {
      "text/plain": [
       "STATE                 PARTY     \n",
       "Bihar                 JAPL          31.000000\n",
       "Kerala                BJP           22.200000\n",
       "                      INC           16.000000\n",
       "Jharkhand             JVM           11.500000\n",
       "Maharashtra           SWP            9.000000\n",
       "Daman & Diu           IND            8.000000\n",
       "Maharashtra           CPI(M)         7.666667\n",
       "Dadra & Nagar Haveli  BJP            6.000000\n",
       "Gujarat               BTP            6.000000\n",
       "Bihar                 CPI(ML)(L)     5.250000\n",
       "Name: CRIMINAL\\r\\nCASES, dtype: float64"
      ]
     },
     "execution_count": 16,
     "metadata": {},
     "output_type": "execute_result"
    }
   ],
   "source": [
    "data.groupby(['STATE','PARTY'])['CRIMINAL\\r\\nCASES'].mean().sort_values(ascending = False).head(10)"
   ]
  },
  {
   "cell_type": "code",
   "execution_count": 17,
   "metadata": {},
   "outputs": [],
   "source": [
    "# data['CRIMINAL\\r\\nCASES'] = data['CRIMINAL\\r\\nCASES'].replace('Not Available', np.nan).astype(float).values"
   ]
  },
  {
   "cell_type": "code",
   "execution_count": 18,
   "metadata": {},
   "outputs": [],
   "source": [
    "# le = data['CRIMINAL\\r\\nCASES'].shape[0]\n",
    "# dic = {}\n",
    "# for i in range(le):\n",
    "#     if (data['CRIMINAL\\r\\nCASES'][i]>0):\n",
    "#         if (data['PARTY'][i]) in dic:\n",
    "#             dic[data['PARTY'][i]] += data['CRIMINAL\\r\\nCASES'][i]\n",
    "#         else:\n",
    "#             dic[data['PARTY'][i]] = data['CRIMINAL\\r\\nCASES'][i]\n",
    "# # dic"
   ]
  },
  {
   "cell_type": "code",
   "execution_count": 19,
   "metadata": {},
   "outputs": [],
   "source": [
    "# sorted_dic_list = sorted(dic.items(), key=lambda x: x[1], reverse=True)\n",
    "# sorted_dic = {}\n",
    "# for i in sorted_dic_list:\n",
    "#     sorted_dic[i[0]]=i[1]\n",
    "# # sorted_dic"
   ]
  },
  {
   "cell_type": "code",
   "execution_count": 20,
   "metadata": {},
   "outputs": [],
   "source": [
    "# import matplotlib.pyplot as plt\n",
    "\n",
    "# lst_party = list(sorted_dic.keys())\n",
    "# criminal_cases = list(sorted_dic.values())\n",
    "# plt.bar(lst_party[:10],criminal_cases[:10])\n",
    "# plt.title('Party vs criminal cases')\n",
    "# plt.ylabel('criminal cases')\n",
    "# plt.xlabel('party')\n",
    "# plt.show()"
   ]
  },
  {
   "cell_type": "markdown",
   "metadata": {},
   "source": [
    "### 2 - party vs asset"
   ]
  },
  {
   "cell_type": "code",
   "execution_count": 21,
   "metadata": {},
   "outputs": [],
   "source": [
    "def convert(x):\n",
    "    try:\n",
    "        a = int(x.split('\\r')[0].split(' ')[1].replace(',',''))\n",
    "    except:\n",
    "        a = 0\n",
    "    return a"
   ]
  },
  {
   "cell_type": "code",
   "execution_count": 22,
   "metadata": {},
   "outputs": [
    {
     "data": {
      "text/plain": [
       "STATE                                           object\n",
       "CONSTITUENCY                                    object\n",
       "NAME                                            object\n",
       "WINNER                                           int64\n",
       "PARTY                                           object\n",
       "SYMBOL                                          object\n",
       "GENDER                                          object\n",
       "CRIMINAL\\r\\nCASES                                int64\n",
       "AGE                                            float64\n",
       "CATEGORY                                        object\n",
       "EDUCATION                                       object\n",
       "ASSETS                                          object\n",
       "LIABILITIES                                     object\n",
       "GENERAL\\r\\nVOTES                                 int64\n",
       "POSTAL\\r\\nVOTES                                  int64\n",
       "TOTAL\\r\\nVOTES                                   int64\n",
       "OVER TOTAL ELECTORS \\r\\nIN CONSTITUENCY        float64\n",
       "OVER TOTAL VOTES POLLED \\r\\nIN CONSTITUENCY    float64\n",
       "TOTAL ELECTORS                                   int64\n",
       "dtype: object"
      ]
     },
     "execution_count": 22,
     "metadata": {},
     "output_type": "execute_result"
    }
   ],
   "source": [
    "data.dtypes"
   ]
  },
  {
   "cell_type": "code",
   "execution_count": 23,
   "metadata": {},
   "outputs": [],
   "source": [
    "data['ASSETS'] = data['ASSETS'].map(lambda x: convert(x))"
   ]
  },
  {
   "cell_type": "code",
   "execution_count": 24,
   "metadata": {},
   "outputs": [],
   "source": [
    "data['LIABILITIES'] = data['LIABILITIES'].map(lambda x: convert(x))"
   ]
  },
  {
   "cell_type": "code",
   "execution_count": 25,
   "metadata": {},
   "outputs": [],
   "source": [
    "le = data['ASSETS'].shape[0]\n",
    "dic1 = {}\n",
    "for i in range(le):\n",
    "    if (data['ASSETS'][i]>0):\n",
    "        if (data['PARTY'][i]) in dic1:\n",
    "            dic1[data['PARTY'][i]] += data['ASSETS'][i]\n",
    "        else:\n",
    "            dic1[data['PARTY'][i]] = data['ASSETS'][i]"
   ]
  },
  {
   "cell_type": "code",
   "execution_count": 26,
   "metadata": {},
   "outputs": [],
   "source": [
    "sorted_dic_ = sorted(dic1.items(), key=lambda x: x[1], reverse=True)\n",
    "sorted_dic1 = {}\n",
    "for i in sorted_dic_:\n",
    "    sorted_dic1[i[0]]=i[1]"
   ]
  },
  {
   "cell_type": "code",
   "execution_count": 27,
   "metadata": {},
   "outputs": [
    {
     "data": {
      "image/png": "[encoded data removed]",
      "text/plain": [
       "<Figure size 432x288 with 1 Axes>"
      ]
     },
     "metadata": {
      "needs_background": "light"
     },
     "output_type": "display_data"
    }
   ],
   "source": [
    "party = list(sorted_dic1.keys())\n",
    "assets = list(sorted_dic1.values())\n",
    "plt.bar(party[:10],assets[:10])\n",
    "plt.title('Party vs assets')\n",
    "plt.ylabel('Assets')\n",
    "plt.xlabel('party')\n",
    "plt.show()"
   ]
  },
  {
   "cell_type": "code",
   "execution_count": 28,
   "metadata": {},
   "outputs": [
    {
     "data": {
      "text/plain": [
       "PARTY\n",
       "ravp     9.120029e+08\n",
       "YSRCP    6.294556e+08\n",
       "TDP      5.777990e+08\n",
       "SAD      5.193560e+08\n",
       "TRS      4.587524e+08\n",
       "JD(S)    3.696704e+08\n",
       "NCP      3.379414e+08\n",
       "JPC      2.897775e+08\n",
       "JKN      2.689864e+08\n",
       "AIUDF    2.678746e+08\n",
       "Name: ASSETS, dtype: float64"
      ]
     },
     "execution_count": 28,
     "metadata": {},
     "output_type": "execute_result"
    }
   ],
   "source": [
    "# avg assets of each party\n",
    "party_v_asset_avg = data.groupby('PARTY')['ASSETS'].mean()\n",
    "party_v_asset_avg.sort_values(ascending=False).head(10)"
   ]
  },
  {
   "cell_type": "code",
   "execution_count": 29,
   "metadata": {},
   "outputs": [
    {
     "data": {
      "text/plain": [
       "<matplotlib.axes._subplots.AxesSubplot at 0x7f8189674400>"
      ]
     },
     "execution_count": 29,
     "metadata": {},
     "output_type": "execute_result"
    },
    {
     "data": {
      "image/png": "[encoded data removed]",
      "text/plain": [
       "<Figure size 432x288 with 1 Axes>"
      ]
     },
     "metadata": {
      "needs_background": "light"
     },
     "output_type": "display_data"
    }
   ],
   "source": [
    "party_v_asset_avg.sort_values(ascending=False).head(10).plot.bar()"
   ]
  },
  {
   "cell_type": "code",
   "execution_count": 30,
   "metadata": {},
   "outputs": [
    {
     "data": {
      "text/plain": [
       "PARTY\n",
       "INC      83256870327\n",
       "BJP      56846800470\n",
       "YSRCP    15736391083\n",
       "TDP      14444975063\n",
       "BSP      12476010257\n",
       "IND       9376211677\n",
       "SP        8164099370\n",
       "TRS       7798790966\n",
       "NCP       7096769715\n",
       "DMK       5637461254\n",
       "Name: ASSETS, dtype: int64"
      ]
     },
     "execution_count": 30,
     "metadata": {},
     "output_type": "execute_result"
    }
   ],
   "source": [
    "# total assests of each party\n",
    "party_v_asset_sum = data.groupby('PARTY')['ASSETS'].sum()\n",
    "party_v_asset_sum.sort_values(ascending=False).head(10)"
   ]
  },
  {
   "cell_type": "code",
   "execution_count": 31,
   "metadata": {},
   "outputs": [
    {
     "data": {
      "text/plain": [
       "<matplotlib.axes._subplots.AxesSubplot at 0x7f8189746880>"
      ]
     },
     "execution_count": 31,
     "metadata": {},
     "output_type": "execute_result"
    },
    {
     "data": {
      "image/png": "[encoded data removed]",
      "text/plain": [
       "<Figure size 432x288 with 1 Axes>"
      ]
     },
     "metadata": {
      "needs_background": "light"
     },
     "output_type": "display_data"
    }
   ],
   "source": [
    "party_v_asset_sum.sort_values(ascending=False).head(10).plot.bar()"
   ]
  },
  {
   "cell_type": "code",
   "execution_count": 32,
   "metadata": {},
   "outputs": [
    {
     "data": {
      "text/plain": [
       "STATE           PARTY\n",
       "Andhra Pradesh  YSRCP    15736391083\n",
       "                TDP      14444975063\n",
       "Madhya Pradesh  INC      13651456940\n",
       "Uttar Pradesh   BJP      12900417208\n",
       "Telangana       INC      12386885697\n",
       "Uttar Pradesh   INC       8632163370\n",
       "                SP        8116051073\n",
       "Telangana       TRS       7798790966\n",
       "Karnataka       BJP       7125369293\n",
       "Maharashtra     NCP       7089506547\n",
       "Name: ASSETS, dtype: int64"
      ]
     },
     "execution_count": 32,
     "metadata": {},
     "output_type": "execute_result"
    }
   ],
   "source": [
    "# state wise total assets of each party\n",
    "party_v_asset_state = data.groupby(['STATE','PARTY']).sum()['ASSETS']\n",
    "party_v_asset_state.sort_values(ascending=False).head(10)"
   ]
  },
  {
   "cell_type": "code",
   "execution_count": 33,
   "metadata": {},
   "outputs": [
    {
     "data": {
      "text/plain": [
       "<matplotlib.axes._subplots.AxesSubplot at 0x7f81895648e0>"
      ]
     },
     "execution_count": 33,
     "metadata": {},
     "output_type": "execute_result"
    },
    {
     "data": {
      "image/png": "[encoded data removed]",
      "text/plain": [
       "<Figure size 432x288 with 1 Axes>"
      ]
     },
     "metadata": {
      "needs_background": "light"
     },
     "output_type": "display_data"
    }
   ],
   "source": [
    "party_v_asset_state.sort_values(ascending=False).head(10).plot.bar()"
   ]
  },
  {
   "cell_type": "code",
   "execution_count": 34,
   "metadata": {},
   "outputs": [
    {
     "data": {
      "text/plain": [
       "STATE                 PARTY\n",
       "Bihar                 ravp     9.120029e+08\n",
       "                      INC      7.580705e+08\n",
       "Telangana             INC      7.286403e+08\n",
       "Arunachal Pradesh     INC      6.782404e+08\n",
       "Andhra Pradesh        YSRCP    6.294556e+08\n",
       "Tamil Nadu            INC      6.267398e+08\n",
       "Andhra Pradesh        TDP      5.777990e+08\n",
       "Punjab                SAD      5.193560e+08\n",
       "Dadra & Nagar Haveli  BJP      4.969427e+08\n",
       "Punjab                BSP      4.765186e+08\n",
       "Name: ASSETS, dtype: float64"
      ]
     },
     "execution_count": 34,
     "metadata": {},
     "output_type": "execute_result"
    }
   ],
   "source": [
    "# state wise avg assets of each party\n",
    "party_v_asset_state = data.groupby(['STATE','PARTY']).mean()['ASSETS']\n",
    "party_v_asset_state.sort_values(ascending=False).head(10)"
   ]
  },
  {
   "cell_type": "code",
   "execution_count": 35,
   "metadata": {},
   "outputs": [
    {
     "data": {
      "text/plain": [
       "<matplotlib.axes._subplots.AxesSubplot at 0x7f81894c8df0>"
      ]
     },
     "execution_count": 35,
     "metadata": {},
     "output_type": "execute_result"
    },
    {
     "data": {
      "image/png": "[encoded data removed]",
      "text/plain": [
       "<Figure size 432x288 with 1 Axes>"
      ]
     },
     "metadata": {
      "needs_background": "light"
     },
     "output_type": "display_data"
    }
   ],
   "source": [
    "party_v_asset_state.sort_values(ascending=False).head(10).plot.bar()"
   ]
  },
  {
   "cell_type": "code",
   "execution_count": 36,
   "metadata": {},
   "outputs": [
    {
     "data": {
      "text/plain": [
       "PARTY\n",
       "INC       7.286403e+08\n",
       "TRS       4.587524e+08\n",
       "BJP       2.234240e+08\n",
       "AIMIM     1.790444e+08\n",
       "JnP       5.885292e+07\n",
       "CPI(M)    1.898838e+07\n",
       "IND       2.378791e+06\n",
       "AHNP      1.665000e+06\n",
       "BSP       7.701100e+05\n",
       "TJS       0.000000e+00\n",
       "NOTA      0.000000e+00\n",
       "Name: ASSETS, dtype: float64"
      ]
     },
     "execution_count": 36,
     "metadata": {},
     "output_type": "execute_result"
    }
   ],
   "source": [
    "party_v_asset_state = data.groupby(['STATE','PARTY']).mean()['ASSETS']\n",
    "party_v_asset_state['Telangana'].sort_values(ascending=False)"
   ]
  },
  {
   "cell_type": "code",
   "execution_count": 37,
   "metadata": {},
   "outputs": [
    {
     "data": {
      "text/plain": [
       "<matplotlib.axes._subplots.AxesSubplot at 0x7f81894b79d0>"
      ]
     },
     "execution_count": 37,
     "metadata": {},
     "output_type": "execute_result"
    },
    {
     "data": {
      "image/png": "[encoded data removed]",
      "text/plain": [
       "<Figure size 432x288 with 1 Axes>"
      ]
     },
     "metadata": {
      "needs_background": "light"
     },
     "output_type": "display_data"
    }
   ],
   "source": [
    "party_v_asset_state['Kerala'].sort_values(ascending=False).plot.bar()"
   ]
  },
  {
   "cell_type": "markdown",
   "metadata": {},
   "source": [
    "### 3 - partywise voteshare"
   ]
  },
  {
   "cell_type": "code",
   "execution_count": 38,
   "metadata": {},
   "outputs": [
    {
     "data": {
      "text/plain": [
       "PARTY\n",
       "BJP       228938556\n",
       "INC       119418722\n",
       "AITC       24832104\n",
       "BSP        20808194\n",
       "SP         15616282\n",
       "YSRCP      15537006\n",
       "CPI(M)     14180942\n",
       "DMK        13877992\n",
       "SHS        12618927\n",
       "TDP        12515345\n",
       "Name: TOTAL\\r\\nVOTES, dtype: int64"
      ]
     },
     "execution_count": 38,
     "metadata": {},
     "output_type": "execute_result"
    }
   ],
   "source": [
    "party_v_vote = data.groupby('PARTY')['TOTAL\\r\\nVOTES'].sum()\n",
    "party_v_vote.sort_values(ascending = False).head(10)"
   ]
  },
  {
   "cell_type": "markdown",
   "metadata": {},
   "source": [
    "### 4 - age profiling of candidates"
   ]
  },
  {
   "cell_type": "code",
   "execution_count": 39,
   "metadata": {},
   "outputs": [],
   "source": [
    "# Average age of candidates based on state,party,gender"
   ]
  },
  {
   "cell_type": "code",
   "execution_count": 40,
   "metadata": {
    "scrolled": true
   },
   "outputs": [
    {
     "data": {
      "text/html": [
       "<div>\n",
       "<style scoped>\n",
       "    .dataframe tbody tr th:only-of-type {\n",
       "        vertical-align: middle;\n",
       "    }\n",
       "\n",
       "    .dataframe tbody tr th {\n",
       "        vertical-align: top;\n",
       "    }\n",
       "\n",
       "    .dataframe thead th {\n",
       "        text-align: right;\n",
       "    }\n",
       "</style>\n",
       "<table border=\"1\" class=\"dataframe\">\n",
       "  <thead>\n",
       "    <tr style=\"text-align: right;\">\n",
       "      <th></th>\n",
       "      <th>STATE</th>\n",
       "      <th>CONSTITUENCY</th>\n",
       "      <th>NAME</th>\n",
       "      <th>WINNER</th>\n",
       "      <th>PARTY</th>\n",
       "      <th>SYMBOL</th>\n",
       "      <th>GENDER</th>\n",
       "      <th>CRIMINAL\\r\\nCASES</th>\n",
       "      <th>AGE</th>\n",
       "      <th>CATEGORY</th>\n",
       "      <th>EDUCATION</th>\n",
       "      <th>ASSETS</th>\n",
       "      <th>LIABILITIES</th>\n",
       "      <th>GENERAL\\r\\nVOTES</th>\n",
       "      <th>POSTAL\\r\\nVOTES</th>\n",
       "      <th>TOTAL\\r\\nVOTES</th>\n",
       "      <th>OVER TOTAL ELECTORS \\r\\nIN CONSTITUENCY</th>\n",
       "      <th>OVER TOTAL VOTES POLLED \\r\\nIN CONSTITUENCY</th>\n",
       "      <th>TOTAL ELECTORS</th>\n",
       "    </tr>\n",
       "  </thead>\n",
       "  <tbody>\n",
       "    <tr>\n",
       "      <th>0</th>\n",
       "      <td>Telangana</td>\n",
       "      <td>ADILABAD</td>\n",
       "      <td>SOYAM BAPU RAO</td>\n",
       "      <td>1</td>\n",
       "      <td>BJP</td>\n",
       "      <td>Lotus</td>\n",
       "      <td>MALE</td>\n",
       "      <td>52</td>\n",
       "      <td>52.0</td>\n",
       "      <td>ST</td>\n",
       "      <td>12th Pass</td>\n",
       "      <td>3099414</td>\n",
       "      <td>231450</td>\n",
       "      <td>376892</td>\n",
       "      <td>482</td>\n",
       "      <td>377374</td>\n",
       "      <td>25.330684</td>\n",
       "      <td>35.468248</td>\n",
       "      <td>1489790</td>\n",
       "    </tr>\n",
       "    <tr>\n",
       "      <th>1</th>\n",
       "      <td>Telangana</td>\n",
       "      <td>ADILABAD</td>\n",
       "      <td>Godam Nagesh</td>\n",
       "      <td>0</td>\n",
       "      <td>TRS</td>\n",
       "      <td>Car</td>\n",
       "      <td>MALE</td>\n",
       "      <td>0</td>\n",
       "      <td>54.0</td>\n",
       "      <td>ST</td>\n",
       "      <td>Post Graduate</td>\n",
       "      <td>18477888</td>\n",
       "      <td>847000</td>\n",
       "      <td>318665</td>\n",
       "      <td>149</td>\n",
       "      <td>318814</td>\n",
       "      <td>21.399929</td>\n",
       "      <td>29.964370</td>\n",
       "      <td>1489790</td>\n",
       "    </tr>\n",
       "    <tr>\n",
       "      <th>2</th>\n",
       "      <td>Telangana</td>\n",
       "      <td>ADILABAD</td>\n",
       "      <td>RATHOD RAMESH</td>\n",
       "      <td>0</td>\n",
       "      <td>INC</td>\n",
       "      <td>Hand</td>\n",
       "      <td>MALE</td>\n",
       "      <td>3</td>\n",
       "      <td>52.0</td>\n",
       "      <td>ST</td>\n",
       "      <td>12th Pass</td>\n",
       "      <td>36491000</td>\n",
       "      <td>15300000</td>\n",
       "      <td>314057</td>\n",
       "      <td>181</td>\n",
       "      <td>314238</td>\n",
       "      <td>21.092771</td>\n",
       "      <td>29.534285</td>\n",
       "      <td>1489790</td>\n",
       "    </tr>\n",
       "    <tr>\n",
       "      <th>3</th>\n",
       "      <td>Telangana</td>\n",
       "      <td>ADILABAD</td>\n",
       "      <td>NOTA</td>\n",
       "      <td>0</td>\n",
       "      <td>NOTA</td>\n",
       "      <td>NaN</td>\n",
       "      <td>NaN</td>\n",
       "      <td>0</td>\n",
       "      <td>NaN</td>\n",
       "      <td>NaN</td>\n",
       "      <td>NaN</td>\n",
       "      <td>0</td>\n",
       "      <td>0</td>\n",
       "      <td>13030</td>\n",
       "      <td>6</td>\n",
       "      <td>13036</td>\n",
       "      <td>0.875023</td>\n",
       "      <td>1.225214</td>\n",
       "      <td>1489790</td>\n",
       "    </tr>\n",
       "    <tr>\n",
       "      <th>4</th>\n",
       "      <td>Uttar Pradesh</td>\n",
       "      <td>AGRA</td>\n",
       "      <td>Satyapal Singh Baghel</td>\n",
       "      <td>1</td>\n",
       "      <td>BJP</td>\n",
       "      <td>Lotus</td>\n",
       "      <td>MALE</td>\n",
       "      <td>5</td>\n",
       "      <td>58.0</td>\n",
       "      <td>SC</td>\n",
       "      <td>Doctorate</td>\n",
       "      <td>74274036</td>\n",
       "      <td>8606522</td>\n",
       "      <td>644459</td>\n",
       "      <td>2416</td>\n",
       "      <td>646875</td>\n",
       "      <td>33.383823</td>\n",
       "      <td>56.464615</td>\n",
       "      <td>1937690</td>\n",
       "    </tr>\n",
       "  </tbody>\n",
       "</table>\n",
       "</div>"
      ],
      "text/plain": [
       "           STATE CONSTITUENCY                   NAME  WINNER PARTY SYMBOL  \\\n",
       "0      Telangana     ADILABAD         SOYAM BAPU RAO       1   BJP  Lotus   \n",
       "1      Telangana     ADILABAD           Godam Nagesh       0   TRS    Car   \n",
       "2      Telangana     ADILABAD          RATHOD RAMESH       0   INC   Hand   \n",
       "3      Telangana     ADILABAD                   NOTA       0  NOTA    NaN   \n",
       "4  Uttar Pradesh         AGRA  Satyapal Singh Baghel       1   BJP  Lotus   \n",
       "\n",
       "  GENDER  CRIMINAL\\r\\nCASES   AGE CATEGORY      EDUCATION    ASSETS  \\\n",
       "0   MALE                 52  52.0       ST      12th Pass   3099414   \n",
       "1   MALE                  0  54.0       ST  Post Graduate  18477888   \n",
       "2   MALE                  3  52.0       ST      12th Pass  36491000   \n",
       "3    NaN                  0   NaN      NaN            NaN         0   \n",
       "4   MALE                  5  58.0       SC      Doctorate  74274036   \n",
       "\n",
       "   LIABILITIES  GENERAL\\r\\nVOTES  POSTAL\\r\\nVOTES  TOTAL\\r\\nVOTES  \\\n",
       "0       231450            376892              482          377374   \n",
       "1       847000            318665              149          318814   \n",
       "2     15300000            314057              181          314238   \n",
       "3            0             13030                6           13036   \n",
       "4      8606522            644459             2416          646875   \n",
       "\n",
       "   OVER TOTAL ELECTORS \\r\\nIN CONSTITUENCY  \\\n",
       "0                                25.330684   \n",
       "1                                21.399929   \n",
       "2                                21.092771   \n",
       "3                                 0.875023   \n",
       "4                                33.383823   \n",
       "\n",
       "   OVER TOTAL VOTES POLLED \\r\\nIN CONSTITUENCY  TOTAL ELECTORS  \n",
       "0                                    35.468248         1489790  \n",
       "1                                    29.964370         1489790  \n",
       "2                                    29.534285         1489790  \n",
       "3                                     1.225214         1489790  \n",
       "4                                    56.464615         1937690  "
      ]
     },
     "execution_count": 40,
     "metadata": {},
     "output_type": "execute_result"
    }
   ],
   "source": [
    "data.head()"
   ]
  },
  {
   "cell_type": "code",
   "execution_count": 41,
   "metadata": {},
   "outputs": [],
   "source": [
    "# bin the ages to 25-35,35-45,45-55,55+"
   ]
  },
  {
   "cell_type": "code",
   "execution_count": 42,
   "metadata": {},
   "outputs": [
    {
     "data": {
      "text/plain": [
       "25.0"
      ]
     },
     "execution_count": 42,
     "metadata": {},
     "output_type": "execute_result"
    }
   ],
   "source": [
    "data['AGE'].min()"
   ]
  },
  {
   "cell_type": "code",
   "execution_count": 43,
   "metadata": {},
   "outputs": [
    {
     "data": {
      "text/plain": [
       "86.0"
      ]
     },
     "execution_count": 43,
     "metadata": {},
     "output_type": "execute_result"
    }
   ],
   "source": [
    "data['AGE'].max()"
   ]
  },
  {
   "cell_type": "code",
   "execution_count": 44,
   "metadata": {},
   "outputs": [],
   "source": [
    "data['AGE_PROFILING'] = data['AGE'].map(lambda x : '25-35' if (x>=25 and x<=35) else ('36-45' if x>35 and x<=45 else ('46-55' if(x>45 and x<=55)else ('55+' if x>55 else x))))\n"
   ]
  },
  {
   "cell_type": "code",
   "execution_count": 45,
   "metadata": {},
   "outputs": [
    {
     "data": {
      "text/plain": [
       "AGE_PROFILING\n",
       "25-35    177\n",
       "36-45    432\n",
       "46-55    575\n",
       "55+      834\n",
       "Name: AGE, dtype: int64"
      ]
     },
     "execution_count": 45,
     "metadata": {},
     "output_type": "execute_result"
    }
   ],
   "source": [
    "data.groupby(['AGE_PROFILING'])['AGE'].count()"
   ]
  },
  {
   "cell_type": "code",
   "execution_count": 46,
   "metadata": {},
   "outputs": [
    {
     "data": {
      "text/plain": [
       "WINNER  AGE_PROFILING\n",
       "0       25-35            148\n",
       "        36-45            343\n",
       "        46-55            410\n",
       "        55+              578\n",
       "1       25-35             29\n",
       "        36-45             89\n",
       "        46-55            165\n",
       "        55+              256\n",
       "Name: WINNER, dtype: int64"
      ]
     },
     "execution_count": 46,
     "metadata": {},
     "output_type": "execute_result"
    }
   ],
   "source": [
    "data.groupby(['WINNER','AGE_PROFILING'])['WINNER'].count()"
   ]
  },
  {
   "cell_type": "code",
   "execution_count": 47,
   "metadata": {},
   "outputs": [
    {
     "data": {
      "text/plain": [
       "STATE\n",
       "Chandigarh                   64.500000\n",
       "Goa                          59.666667\n",
       "Nagaland                     58.333333\n",
       "Uttarakhand                  57.285714\n",
       "Jammu & Kashmir              56.428571\n",
       "Punjab                       56.264151\n",
       "Kerala                       55.682540\n",
       "Manipur                      55.200000\n",
       "Tripura                      55.125000\n",
       "Uttar Pradesh                54.940239\n",
       "Gujarat                      54.536232\n",
       "Karnataka                    54.500000\n",
       "Himachal Pradesh             54.444444\n",
       "West Bengal                  53.543353\n",
       "Andhra Pradesh               53.415842\n",
       "Assam                        52.818182\n",
       "Odisha                       52.438356\n",
       "Rajasthan                    51.878378\n",
       "Arunachal Pradesh            51.700000\n",
       "Madhya Pradesh               51.688172\n",
       "Maharashtra                  51.308571\n",
       "NCT OF Delhi                 51.000000\n",
       "Telangana                    50.797297\n",
       "Meghalaya                    50.500000\n",
       "Mizoram                      50.400000\n",
       "Andaman & Nicobar Islands    50.200000\n",
       "Tamil Nadu                   50.052910\n",
       "Haryana                      50.024390\n",
       "Jharkhand                    49.892308\n",
       "Puducherry                   49.750000\n",
       "Daman & Diu                  49.666667\n",
       "Chhattisgarh                 49.210526\n",
       "Bihar                        48.646789\n",
       "Lakshadweep                  47.666667\n",
       "Sikkim                       40.750000\n",
       "Dadra & Nagar Haveli         40.166667\n",
       "Name: AGE, dtype: float64"
      ]
     },
     "execution_count": 47,
     "metadata": {},
     "output_type": "execute_result"
    }
   ],
   "source": [
    "# Average age of candidates based on state\n",
    "data.groupby('STATE')['AGE'].mean().sort_values(ascending = False)"
   ]
  },
  {
   "cell_type": "code",
   "execution_count": 48,
   "metadata": {},
   "outputs": [
    {
     "data": {
      "text/plain": [
       "PARTY\n",
       "SAD(M)    74.0\n",
       "JKN       73.0\n",
       "VPI       70.0\n",
       "BOPF      69.0\n",
       "KEC       68.0\n",
       "NAWPP     68.0\n",
       "ravp      68.0\n",
       "KEC(M)    66.0\n",
       "SJDD      65.0\n",
       "WPOI      65.0\n",
       "Name: AGE, dtype: float64"
      ]
     },
     "execution_count": 48,
     "metadata": {},
     "output_type": "execute_result"
    }
   ],
   "source": [
    "# Average age of candidates based on party\n",
    "data.groupby('PARTY')['AGE'].mean().sort_values(ascending = False).head(10)"
   ]
  },
  {
   "cell_type": "code",
   "execution_count": 49,
   "metadata": {},
   "outputs": [
    {
     "data": {
      "text/plain": [
       "GENDER\n",
       "FEMALE    47.065891\n",
       "MALE      53.036932\n",
       "Name: AGE, dtype: float64"
      ]
     },
     "execution_count": 49,
     "metadata": {},
     "output_type": "execute_result"
    }
   ],
   "source": [
    "# Average age of candidates based on gender\n",
    "data.groupby('GENDER')['AGE'].mean()"
   ]
  },
  {
   "cell_type": "code",
   "execution_count": 50,
   "metadata": {},
   "outputs": [],
   "source": [
    "# Age vs winning election"
   ]
  },
  {
   "cell_type": "code",
   "execution_count": 51,
   "metadata": {},
   "outputs": [
    {
     "data": {
      "text/plain": [
       "WINNER\n",
       "0    51.483435\n",
       "1    54.441558\n",
       "Name: AGE, dtype: float64"
      ]
     },
     "execution_count": 51,
     "metadata": {},
     "output_type": "execute_result"
    }
   ],
   "source": [
    "data.groupby('WINNER')['AGE'].mean()"
   ]
  },
  {
   "cell_type": "code",
   "execution_count": 52,
   "metadata": {},
   "outputs": [
    {
     "data": {
      "text/plain": [
       "0     52.0\n",
       "1     54.0\n",
       "2     52.0\n",
       "3      NaN\n",
       "4     58.0\n",
       "5     47.0\n",
       "6     54.0\n",
       "7     37.0\n",
       "10    58.0\n",
       "12    69.0\n",
       "Name: AGE, dtype: float64"
      ]
     },
     "execution_count": 52,
     "metadata": {},
     "output_type": "execute_result"
    }
   ],
   "source": [
    "data.groupby('WINNER')['AGE'].head()"
   ]
  },
  {
   "cell_type": "markdown",
   "metadata": {},
   "source": [
    "### 5- gender diversity"
   ]
  },
  {
   "cell_type": "markdown",
   "metadata": {},
   "source": [
    "#### by state"
   ]
  },
  {
   "cell_type": "code",
   "execution_count": 53,
   "metadata": {},
   "outputs": [
    {
     "data": {
      "text/plain": [
       "STATE                 GENDER\n",
       "Uttar Pradesh         MALE      217\n",
       "Bihar                 MALE      197\n",
       "Tamil Nadu            MALE      162\n",
       "Maharashtra           MALE      156\n",
       "West Bengal           MALE      136\n",
       "                               ... \n",
       "Uttarakhand           FEMALE      1\n",
       "Arunachal Pradesh     FEMALE      1\n",
       "Puducherry            FEMALE      1\n",
       "Jammu & Kashmir       FEMALE      1\n",
       "Dadra & Nagar Haveli  FEMALE      1\n",
       "Name: GENDER, Length: 63, dtype: int64"
      ]
     },
     "execution_count": 53,
     "metadata": {},
     "output_type": "execute_result"
    }
   ],
   "source": [
    "data.groupby(['STATE','GENDER'])['GENDER'].count().sort_values(ascending = False)"
   ]
  },
  {
   "cell_type": "code",
   "execution_count": 54,
   "metadata": {},
   "outputs": [
    {
     "data": {
      "text/plain": [
       "GENDER\n",
       "FEMALE     7\n",
       "MALE      56\n",
       "Name: GENDER, dtype: int64"
      ]
     },
     "execution_count": 54,
     "metadata": {},
     "output_type": "execute_result"
    }
   ],
   "source": [
    "data.groupby(['STATE','GENDER'])['GENDER'].count()['Kerala']"
   ]
  },
  {
   "cell_type": "markdown",
   "metadata": {},
   "source": [
    "#### by party"
   ]
  },
  {
   "cell_type": "code",
   "execution_count": 55,
   "metadata": {},
   "outputs": [
    {
     "data": {
      "text/plain": [
       "PARTY  GENDER\n",
       "AAM    FEMALE     1\n",
       "       MALE       1\n",
       "AAP    FEMALE     3\n",
       "       MALE      22\n",
       "ABGP   MALE       1\n",
       "                 ..\n",
       "WPOI   MALE       1\n",
       "YKP    MALE       1\n",
       "YSRCP  FEMALE     4\n",
       "       MALE      21\n",
       "ravp   MALE       1\n",
       "Name: GENDER, Length: 171, dtype: int64"
      ]
     },
     "execution_count": 55,
     "metadata": {},
     "output_type": "execute_result"
    }
   ],
   "source": [
    "data.groupby(['PARTY','GENDER'])['GENDER'].count()"
   ]
  },
  {
   "cell_type": "code",
   "execution_count": 56,
   "metadata": {},
   "outputs": [
    {
     "data": {
      "text/plain": [
       "CONSTITUENCY     GENDER\n",
       "ADILABAD         MALE      3\n",
       "AGRA             FEMALE    1\n",
       "                 MALE      2\n",
       "AHMADNAGAR       MALE      3\n",
       "AHMEDABAD EAST   FEMALE    1\n",
       "                          ..\n",
       "WAYANAD          MALE      3\n",
       "WEST DELHI       MALE      3\n",
       "YAVATMAL-WASHIM  FEMALE    2\n",
       "                 MALE      4\n",
       "ZAHIRABAD        MALE      3\n",
       "Name: GENDER, Length: 747, dtype: int64"
      ]
     },
     "execution_count": 56,
     "metadata": {},
     "output_type": "execute_result"
    }
   ],
   "source": [
    "data.groupby(['CONSTITUENCY','GENDER'])['GENDER'].count()"
   ]
  },
  {
   "cell_type": "markdown",
   "metadata": {},
   "source": [
    "### 6- Election result summary (party vs number of seats won/ number of seats contested)"
   ]
  },
  {
   "cell_type": "code",
   "execution_count": 57,
   "metadata": {},
   "outputs": [
    {
     "data": {
      "text/html": [
       "<div>\n",
       "<style scoped>\n",
       "    .dataframe tbody tr th:only-of-type {\n",
       "        vertical-align: middle;\n",
       "    }\n",
       "\n",
       "    .dataframe tbody tr th {\n",
       "        vertical-align: top;\n",
       "    }\n",
       "\n",
       "    .dataframe thead th {\n",
       "        text-align: right;\n",
       "    }\n",
       "</style>\n",
       "<table border=\"1\" class=\"dataframe\">\n",
       "  <thead>\n",
       "    <tr style=\"text-align: right;\">\n",
       "      <th></th>\n",
       "      <th>STATE</th>\n",
       "      <th>CONSTITUENCY</th>\n",
       "      <th>NAME</th>\n",
       "      <th>WINNER</th>\n",
       "      <th>PARTY</th>\n",
       "      <th>SYMBOL</th>\n",
       "      <th>GENDER</th>\n",
       "      <th>CRIMINAL\\r\\nCASES</th>\n",
       "      <th>AGE</th>\n",
       "      <th>CATEGORY</th>\n",
       "      <th>EDUCATION</th>\n",
       "      <th>ASSETS</th>\n",
       "      <th>LIABILITIES</th>\n",
       "      <th>GENERAL\\r\\nVOTES</th>\n",
       "      <th>POSTAL\\r\\nVOTES</th>\n",
       "      <th>TOTAL\\r\\nVOTES</th>\n",
       "      <th>OVER TOTAL ELECTORS \\r\\nIN CONSTITUENCY</th>\n",
       "      <th>OVER TOTAL VOTES POLLED \\r\\nIN CONSTITUENCY</th>\n",
       "      <th>TOTAL ELECTORS</th>\n",
       "      <th>AGE_PROFILING</th>\n",
       "    </tr>\n",
       "  </thead>\n",
       "  <tbody>\n",
       "    <tr>\n",
       "      <th>0</th>\n",
       "      <td>Telangana</td>\n",
       "      <td>ADILABAD</td>\n",
       "      <td>SOYAM BAPU RAO</td>\n",
       "      <td>1</td>\n",
       "      <td>BJP</td>\n",
       "      <td>Lotus</td>\n",
       "      <td>MALE</td>\n",
       "      <td>52</td>\n",
       "      <td>52.0</td>\n",
       "      <td>ST</td>\n",
       "      <td>12th Pass</td>\n",
       "      <td>3099414</td>\n",
       "      <td>231450</td>\n",
       "      <td>376892</td>\n",
       "      <td>482</td>\n",
       "      <td>377374</td>\n",
       "      <td>25.330684</td>\n",
       "      <td>35.468248</td>\n",
       "      <td>1489790</td>\n",
       "      <td>46-55</td>\n",
       "    </tr>\n",
       "    <tr>\n",
       "      <th>1</th>\n",
       "      <td>Telangana</td>\n",
       "      <td>ADILABAD</td>\n",
       "      <td>Godam Nagesh</td>\n",
       "      <td>0</td>\n",
       "      <td>TRS</td>\n",
       "      <td>Car</td>\n",
       "      <td>MALE</td>\n",
       "      <td>0</td>\n",
       "      <td>54.0</td>\n",
       "      <td>ST</td>\n",
       "      <td>Post Graduate</td>\n",
       "      <td>18477888</td>\n",
       "      <td>847000</td>\n",
       "      <td>318665</td>\n",
       "      <td>149</td>\n",
       "      <td>318814</td>\n",
       "      <td>21.399929</td>\n",
       "      <td>29.964370</td>\n",
       "      <td>1489790</td>\n",
       "      <td>46-55</td>\n",
       "    </tr>\n",
       "    <tr>\n",
       "      <th>2</th>\n",
       "      <td>Telangana</td>\n",
       "      <td>ADILABAD</td>\n",
       "      <td>RATHOD RAMESH</td>\n",
       "      <td>0</td>\n",
       "      <td>INC</td>\n",
       "      <td>Hand</td>\n",
       "      <td>MALE</td>\n",
       "      <td>3</td>\n",
       "      <td>52.0</td>\n",
       "      <td>ST</td>\n",
       "      <td>12th Pass</td>\n",
       "      <td>36491000</td>\n",
       "      <td>15300000</td>\n",
       "      <td>314057</td>\n",
       "      <td>181</td>\n",
       "      <td>314238</td>\n",
       "      <td>21.092771</td>\n",
       "      <td>29.534285</td>\n",
       "      <td>1489790</td>\n",
       "      <td>46-55</td>\n",
       "    </tr>\n",
       "    <tr>\n",
       "      <th>3</th>\n",
       "      <td>Telangana</td>\n",
       "      <td>ADILABAD</td>\n",
       "      <td>NOTA</td>\n",
       "      <td>0</td>\n",
       "      <td>NOTA</td>\n",
       "      <td>NaN</td>\n",
       "      <td>NaN</td>\n",
       "      <td>0</td>\n",
       "      <td>NaN</td>\n",
       "      <td>NaN</td>\n",
       "      <td>NaN</td>\n",
       "      <td>0</td>\n",
       "      <td>0</td>\n",
       "      <td>13030</td>\n",
       "      <td>6</td>\n",
       "      <td>13036</td>\n",
       "      <td>0.875023</td>\n",
       "      <td>1.225214</td>\n",
       "      <td>1489790</td>\n",
       "      <td>NaN</td>\n",
       "    </tr>\n",
       "    <tr>\n",
       "      <th>4</th>\n",
       "      <td>Uttar Pradesh</td>\n",
       "      <td>AGRA</td>\n",
       "      <td>Satyapal Singh Baghel</td>\n",
       "      <td>1</td>\n",
       "      <td>BJP</td>\n",
       "      <td>Lotus</td>\n",
       "      <td>MALE</td>\n",
       "      <td>5</td>\n",
       "      <td>58.0</td>\n",
       "      <td>SC</td>\n",
       "      <td>Doctorate</td>\n",
       "      <td>74274036</td>\n",
       "      <td>8606522</td>\n",
       "      <td>644459</td>\n",
       "      <td>2416</td>\n",
       "      <td>646875</td>\n",
       "      <td>33.383823</td>\n",
       "      <td>56.464615</td>\n",
       "      <td>1937690</td>\n",
       "      <td>55+</td>\n",
       "    </tr>\n",
       "  </tbody>\n",
       "</table>\n",
       "</div>"
      ],
      "text/plain": [
       "           STATE CONSTITUENCY                   NAME  WINNER PARTY SYMBOL  \\\n",
       "0      Telangana     ADILABAD         SOYAM BAPU RAO       1   BJP  Lotus   \n",
       "1      Telangana     ADILABAD           Godam Nagesh       0   TRS    Car   \n",
       "2      Telangana     ADILABAD          RATHOD RAMESH       0   INC   Hand   \n",
       "3      Telangana     ADILABAD                   NOTA       0  NOTA    NaN   \n",
       "4  Uttar Pradesh         AGRA  Satyapal Singh Baghel       1   BJP  Lotus   \n",
       "\n",
       "  GENDER  CRIMINAL\\r\\nCASES   AGE CATEGORY      EDUCATION    ASSETS  \\\n",
       "0   MALE                 52  52.0       ST      12th Pass   3099414   \n",
       "1   MALE                  0  54.0       ST  Post Graduate  18477888   \n",
       "2   MALE                  3  52.0       ST      12th Pass  36491000   \n",
       "3    NaN                  0   NaN      NaN            NaN         0   \n",
       "4   MALE                  5  58.0       SC      Doctorate  74274036   \n",
       "\n",
       "   LIABILITIES  GENERAL\\r\\nVOTES  POSTAL\\r\\nVOTES  TOTAL\\r\\nVOTES  \\\n",
       "0       231450            376892              482          377374   \n",
       "1       847000            318665              149          318814   \n",
       "2     15300000            314057              181          314238   \n",
       "3            0             13030                6           13036   \n",
       "4      8606522            644459             2416          646875   \n",
       "\n",
       "   OVER TOTAL ELECTORS \\r\\nIN CONSTITUENCY  \\\n",
       "0                                25.330684   \n",
       "1                                21.399929   \n",
       "2                                21.092771   \n",
       "3                                 0.875023   \n",
       "4                                33.383823   \n",
       "\n",
       "   OVER TOTAL VOTES POLLED \\r\\nIN CONSTITUENCY  TOTAL ELECTORS AGE_PROFILING  \n",
       "0                                    35.468248         1489790         46-55  \n",
       "1                                    29.964370         1489790         46-55  \n",
       "2                                    29.534285         1489790         46-55  \n",
       "3                                     1.225214         1489790           NaN  \n",
       "4                                    56.464615         1937690           55+  "
      ]
     },
     "execution_count": 57,
     "metadata": {},
     "output_type": "execute_result"
    }
   ],
   "source": [
    "data.head()"
   ]
  },
  {
   "cell_type": "code",
   "execution_count": 58,
   "metadata": {},
   "outputs": [
    {
     "data": {
      "text/plain": [
       "PARTY\n",
       "BJP       420\n",
       "INC       413\n",
       "NOTA      245\n",
       "IND       201\n",
       "BSP       163\n",
       "CPI(M)    100\n",
       "VBA        47\n",
       "AITC       47\n",
       "SP         39\n",
       "NTK        38\n",
       "Name: PARTY, dtype: int64"
      ]
     },
     "execution_count": 58,
     "metadata": {},
     "output_type": "execute_result"
    }
   ],
   "source": [
    "# number of seats contested\n",
    "data.groupby('PARTY')['PARTY'].count().sort_values(ascending = False).head(10)"
   ]
  },
  {
   "cell_type": "code",
   "execution_count": 59,
   "metadata": {},
   "outputs": [
    {
     "data": {
      "text/plain": [
       "PARTY\n",
       "BJP      300\n",
       "INC       52\n",
       "DMK       23\n",
       "YSRCP     22\n",
       "AITC      22\n",
       "SHS       18\n",
       "JD(U)     16\n",
       "BSP       11\n",
       "BJD       11\n",
       "TRS        9\n",
       "Name: WINNER, dtype: int64"
      ]
     },
     "execution_count": 59,
     "metadata": {},
     "output_type": "execute_result"
    }
   ],
   "source": [
    "# number of seats won\n",
    "data.groupby('PARTY')['WINNER'].sum().sort_values(ascending=False).head(10)"
   ]
  },
  {
   "cell_type": "code",
   "execution_count": 60,
   "metadata": {},
   "outputs": [
    {
     "data": {
      "text/plain": [
       "PARTY\n",
       "INC       361\n",
       "NOTA      245\n",
       "IND       197\n",
       "BSP       152\n",
       "BJP       120\n",
       "CPI(M)     95\n",
       "VBA        47\n",
       "NTK        38\n",
       "MNM        36\n",
       "SP         34\n",
       "Name: PARTY, dtype: int64"
      ]
     },
     "execution_count": 60,
     "metadata": {},
     "output_type": "execute_result"
    }
   ],
   "source": [
    "data[data.WINNER==0].groupby(['PARTY'])['PARTY'].count().sort_values(ascending = False).head(10)"
   ]
  },
  {
   "cell_type": "markdown",
   "metadata": {},
   "source": [
    "### 7- partywise performance in state level"
   ]
  },
  {
   "cell_type": "code",
   "execution_count": 61,
   "metadata": {},
   "outputs": [
    {
     "data": {
      "text/plain": [
       "PARTY\n",
       "INC       15\n",
       "IUML       2\n",
       "RSP        1\n",
       "KEC(M)     1\n",
       "CPI(M)     1\n",
       "SDPI       0\n",
       "KEC        0\n",
       "IND        0\n",
       "BJP        0\n",
       "BDJS       0\n",
       "Name: WINNER, dtype: int64"
      ]
     },
     "execution_count": 61,
     "metadata": {},
     "output_type": "execute_result"
    }
   ],
   "source": [
    "partywise_performance = data.groupby(['STATE','PARTY'])['WINNER'].sum()\n",
    "partywise_performance['Kerala'].sort_values(ascending = False)"
   ]
  },
  {
   "cell_type": "markdown",
   "metadata": {},
   "source": [
    "### 8- what is the significance of Cases/Education in winning the election"
   ]
  },
  {
   "cell_type": "code",
   "execution_count": 62,
   "metadata": {},
   "outputs": [
    {
     "data": {
      "text/plain": [
       "EDUCATION\n",
       "Post Graduate            134\n",
       "Graduate                 132\n",
       "Graduate Professional     99\n",
       "12th Pass                 69\n",
       "10th Pass                 45\n",
       "Doctorate                 23\n",
       "Others                    17\n",
       "8th Pass                  12\n",
       "5th Pass                   4\n",
       "Literate                   2\n",
       "Post Graduate\\r\\n          1\n",
       "Illiterate                 1\n",
       "Not Available              0\n",
       "Name: WINNER, dtype: int64"
      ]
     },
     "execution_count": 62,
     "metadata": {},
     "output_type": "execute_result"
    }
   ],
   "source": [
    "# significance of Education in winning the election\n",
    "data.groupby('EDUCATION')['WINNER'].sum().sort_values(ascending = False)"
   ]
  },
  {
   "cell_type": "code",
   "execution_count": 63,
   "metadata": {},
   "outputs": [
    {
     "data": {
      "text/plain": [
       "CRIMINAL\\r\\nCASES\n",
       "0      306\n",
       "1       86\n",
       "2       40\n",
       "3       31\n",
       "4       23\n",
       "5       18\n",
       "6        9\n",
       "7        8\n",
       "8        3\n",
       "9        3\n",
       "14       3\n",
       "11       2\n",
       "204      1\n",
       "10       1\n",
       "13       1\n",
       "18       1\n",
       "24       1\n",
       "42       1\n",
       "52       1\n",
       "12       0\n",
       "15       0\n",
       "16       0\n",
       "22       0\n",
       "28       0\n",
       "31       0\n",
       "40       0\n",
       "41       0\n",
       "240      0\n",
       "Name: WINNER, dtype: int64"
      ]
     },
     "execution_count": 63,
     "metadata": {},
     "output_type": "execute_result"
    }
   ],
   "source": [
    "# significance of Cases in winning the election\n",
    "data.groupby('CRIMINAL\\r\\nCASES')['WINNER'].sum().sort_values(ascending = False)"
   ]
  },
  {
   "cell_type": "markdown",
   "metadata": {},
   "source": [
    "### 9- Categorywise(cast) representation"
   ]
  },
  {
   "cell_type": "code",
   "execution_count": 64,
   "metadata": {},
   "outputs": [
    {
     "data": {
      "text/plain": [
       "array(['ST', nan, 'SC', 'GENERAL'], dtype=object)"
      ]
     },
     "execution_count": 64,
     "metadata": {},
     "output_type": "execute_result"
    }
   ],
   "source": [
    "data['CATEGORY'].unique()"
   ]
  },
  {
   "cell_type": "code",
   "execution_count": 65,
   "metadata": {},
   "outputs": [
    {
     "data": {
      "text/plain": [
       "CATEGORY\n",
       "GENERAL    1392\n",
       "SC          383\n",
       "ST          243\n",
       "Name: WINNER, dtype: int64"
      ]
     },
     "execution_count": 65,
     "metadata": {},
     "output_type": "execute_result"
    }
   ],
   "source": [
    "# total no. of contestants in each category\n",
    "data.groupby(['CATEGORY'])['WINNER'].count()"
   ]
  },
  {
   "cell_type": "code",
   "execution_count": 66,
   "metadata": {},
   "outputs": [
    {
     "data": {
      "text/plain": [
       "CATEGORY\n",
       "GENERAL    399\n",
       "SC          85\n",
       "ST          55\n",
       "Name: WINNER, dtype: int64"
      ]
     },
     "execution_count": 66,
     "metadata": {},
     "output_type": "execute_result"
    }
   ],
   "source": [
    "# total no. of winners in each category\n",
    "data.groupby(['CATEGORY'])['WINNER'].sum()"
   ]
  },
  {
   "cell_type": "code",
   "execution_count": 67,
   "metadata": {},
   "outputs": [
    {
     "data": {
      "text/plain": [
       "CATEGORY\n",
       "GENERAL    57\n",
       "SC          6\n",
       "Name: WINNER, dtype: int64"
      ]
     },
     "execution_count": 67,
     "metadata": {},
     "output_type": "execute_result"
    }
   ],
   "source": [
    "# state wise contestants in each category\n",
    "state_wise_contestants = data.groupby(['STATE','CATEGORY']).count()['WINNER']\n",
    "state_wise_contestants['Kerala']"
   ]
  },
  {
   "cell_type": "code",
   "execution_count": 68,
   "metadata": {},
   "outputs": [
    {
     "data": {
      "text/plain": [
       "CATEGORY\n",
       "GENERAL    18\n",
       "SC          2\n",
       "Name: WINNER, dtype: int64"
      ]
     },
     "execution_count": 68,
     "metadata": {},
     "output_type": "execute_result"
    }
   ],
   "source": [
    "# state wise winners in each category\n",
    "state_wise_contestants = data.groupby(['STATE','CATEGORY']).sum()['WINNER']\n",
    "state_wise_contestants['Kerala']"
   ]
  },
  {
   "cell_type": "code",
   "execution_count": 69,
   "metadata": {},
   "outputs": [
    {
     "data": {
      "text/plain": [
       "CATEGORY  GENDER\n",
       "GENERAL   FEMALE     175\n",
       "          MALE      1217\n",
       "SC        FEMALE      47\n",
       "          MALE       336\n",
       "ST        FEMALE      36\n",
       "          MALE       207\n",
       "Name: WINNER, dtype: int64"
      ]
     },
     "execution_count": 69,
     "metadata": {},
     "output_type": "execute_result"
    }
   ],
   "source": [
    "# count of gender of contestants in each category\n",
    "data.groupby(['CATEGORY','GENDER']).count()['WINNER']"
   ]
  },
  {
   "cell_type": "code",
   "execution_count": 70,
   "metadata": {},
   "outputs": [
    {
     "data": {
      "text/plain": [
       "CATEGORY  GENDER\n",
       "GENERAL   FEMALE     53\n",
       "          MALE      346\n",
       "SC        FEMALE     12\n",
       "          MALE       73\n",
       "ST        FEMALE     11\n",
       "          MALE       44\n",
       "Name: WINNER, dtype: int64"
      ]
     },
     "execution_count": 70,
     "metadata": {},
     "output_type": "execute_result"
    }
   ],
   "source": [
    "# count of gender of winners in each category\n",
    "data.groupby(['CATEGORY','GENDER']).sum()['WINNER']"
   ]
  },
  {
   "cell_type": "code",
   "execution_count": 71,
   "metadata": {},
   "outputs": [
    {
     "data": {
      "text/plain": [
       "(2263, 20)"
      ]
     },
     "execution_count": 71,
     "metadata": {},
     "output_type": "execute_result"
    }
   ],
   "source": [
    "data.shape\n"
   ]
  },
  {
   "cell_type": "code",
   "execution_count": 72,
   "metadata": {},
   "outputs": [
    {
     "data": {
      "text/html": [
       "<div>\n",
       "<style scoped>\n",
       "    .dataframe tbody tr th:only-of-type {\n",
       "        vertical-align: middle;\n",
       "    }\n",
       "\n",
       "    .dataframe tbody tr th {\n",
       "        vertical-align: top;\n",
       "    }\n",
       "\n",
       "    .dataframe thead th {\n",
       "        text-align: right;\n",
       "    }\n",
       "</style>\n",
       "<table border=\"1\" class=\"dataframe\">\n",
       "  <thead>\n",
       "    <tr style=\"text-align: right;\">\n",
       "      <th></th>\n",
       "      <th>STATE</th>\n",
       "      <th>CONSTITUENCY</th>\n",
       "      <th>NAME</th>\n",
       "      <th>WINNER</th>\n",
       "      <th>PARTY</th>\n",
       "      <th>SYMBOL</th>\n",
       "      <th>GENDER</th>\n",
       "      <th>CRIMINAL\\r\\nCASES</th>\n",
       "      <th>AGE</th>\n",
       "      <th>CATEGORY</th>\n",
       "      <th>EDUCATION</th>\n",
       "      <th>ASSETS</th>\n",
       "      <th>LIABILITIES</th>\n",
       "      <th>GENERAL\\r\\nVOTES</th>\n",
       "      <th>POSTAL\\r\\nVOTES</th>\n",
       "      <th>TOTAL\\r\\nVOTES</th>\n",
       "      <th>OVER TOTAL ELECTORS \\r\\nIN CONSTITUENCY</th>\n",
       "      <th>OVER TOTAL VOTES POLLED \\r\\nIN CONSTITUENCY</th>\n",
       "      <th>TOTAL ELECTORS</th>\n",
       "      <th>AGE_PROFILING</th>\n",
       "    </tr>\n",
       "  </thead>\n",
       "  <tbody>\n",
       "    <tr>\n",
       "      <th>0</th>\n",
       "      <td>Telangana</td>\n",
       "      <td>ADILABAD</td>\n",
       "      <td>SOYAM BAPU RAO</td>\n",
       "      <td>1</td>\n",
       "      <td>BJP</td>\n",
       "      <td>Lotus</td>\n",
       "      <td>MALE</td>\n",
       "      <td>52</td>\n",
       "      <td>52.0</td>\n",
       "      <td>ST</td>\n",
       "      <td>12th Pass</td>\n",
       "      <td>3099414</td>\n",
       "      <td>231450</td>\n",
       "      <td>376892</td>\n",
       "      <td>482</td>\n",
       "      <td>377374</td>\n",
       "      <td>25.330684</td>\n",
       "      <td>35.468248</td>\n",
       "      <td>1489790</td>\n",
       "      <td>46-55</td>\n",
       "    </tr>\n",
       "    <tr>\n",
       "      <th>1</th>\n",
       "      <td>Telangana</td>\n",
       "      <td>ADILABAD</td>\n",
       "      <td>Godam Nagesh</td>\n",
       "      <td>0</td>\n",
       "      <td>TRS</td>\n",
       "      <td>Car</td>\n",
       "      <td>MALE</td>\n",
       "      <td>0</td>\n",
       "      <td>54.0</td>\n",
       "      <td>ST</td>\n",
       "      <td>Post Graduate</td>\n",
       "      <td>18477888</td>\n",
       "      <td>847000</td>\n",
       "      <td>318665</td>\n",
       "      <td>149</td>\n",
       "      <td>318814</td>\n",
       "      <td>21.399929</td>\n",
       "      <td>29.964370</td>\n",
       "      <td>1489790</td>\n",
       "      <td>46-55</td>\n",
       "    </tr>\n",
       "    <tr>\n",
       "      <th>2</th>\n",
       "      <td>Telangana</td>\n",
       "      <td>ADILABAD</td>\n",
       "      <td>RATHOD RAMESH</td>\n",
       "      <td>0</td>\n",
       "      <td>INC</td>\n",
       "      <td>Hand</td>\n",
       "      <td>MALE</td>\n",
       "      <td>3</td>\n",
       "      <td>52.0</td>\n",
       "      <td>ST</td>\n",
       "      <td>12th Pass</td>\n",
       "      <td>36491000</td>\n",
       "      <td>15300000</td>\n",
       "      <td>314057</td>\n",
       "      <td>181</td>\n",
       "      <td>314238</td>\n",
       "      <td>21.092771</td>\n",
       "      <td>29.534285</td>\n",
       "      <td>1489790</td>\n",
       "      <td>46-55</td>\n",
       "    </tr>\n",
       "    <tr>\n",
       "      <th>3</th>\n",
       "      <td>Telangana</td>\n",
       "      <td>ADILABAD</td>\n",
       "      <td>NOTA</td>\n",
       "      <td>0</td>\n",
       "      <td>NOTA</td>\n",
       "      <td>NaN</td>\n",
       "      <td>NaN</td>\n",
       "      <td>0</td>\n",
       "      <td>NaN</td>\n",
       "      <td>NaN</td>\n",
       "      <td>NaN</td>\n",
       "      <td>0</td>\n",
       "      <td>0</td>\n",
       "      <td>13030</td>\n",
       "      <td>6</td>\n",
       "      <td>13036</td>\n",
       "      <td>0.875023</td>\n",
       "      <td>1.225214</td>\n",
       "      <td>1489790</td>\n",
       "      <td>NaN</td>\n",
       "    </tr>\n",
       "    <tr>\n",
       "      <th>4</th>\n",
       "      <td>Uttar Pradesh</td>\n",
       "      <td>AGRA</td>\n",
       "      <td>Satyapal Singh Baghel</td>\n",
       "      <td>1</td>\n",
       "      <td>BJP</td>\n",
       "      <td>Lotus</td>\n",
       "      <td>MALE</td>\n",
       "      <td>5</td>\n",
       "      <td>58.0</td>\n",
       "      <td>SC</td>\n",
       "      <td>Doctorate</td>\n",
       "      <td>74274036</td>\n",
       "      <td>8606522</td>\n",
       "      <td>644459</td>\n",
       "      <td>2416</td>\n",
       "      <td>646875</td>\n",
       "      <td>33.383823</td>\n",
       "      <td>56.464615</td>\n",
       "      <td>1937690</td>\n",
       "      <td>55+</td>\n",
       "    </tr>\n",
       "    <tr>\n",
       "      <th>5</th>\n",
       "      <td>Uttar Pradesh</td>\n",
       "      <td>AGRA</td>\n",
       "      <td>Manoj Kumar Soni</td>\n",
       "      <td>0</td>\n",
       "      <td>BSP</td>\n",
       "      <td>Elephant</td>\n",
       "      <td>MALE</td>\n",
       "      <td>0</td>\n",
       "      <td>47.0</td>\n",
       "      <td>SC</td>\n",
       "      <td>Post Graduate</td>\n",
       "      <td>133784385</td>\n",
       "      <td>22251891</td>\n",
       "      <td>434199</td>\n",
       "      <td>1130</td>\n",
       "      <td>435329</td>\n",
       "      <td>22.466390</td>\n",
       "      <td>37.999125</td>\n",
       "      <td>1937690</td>\n",
       "      <td>46-55</td>\n",
       "    </tr>\n",
       "    <tr>\n",
       "      <th>6</th>\n",
       "      <td>Uttar Pradesh</td>\n",
       "      <td>AGRA</td>\n",
       "      <td>Preeta Harit</td>\n",
       "      <td>0</td>\n",
       "      <td>INC</td>\n",
       "      <td>Hand</td>\n",
       "      <td>FEMALE</td>\n",
       "      <td>0</td>\n",
       "      <td>54.0</td>\n",
       "      <td>SC</td>\n",
       "      <td>Post Graduate</td>\n",
       "      <td>55075753</td>\n",
       "      <td>0</td>\n",
       "      <td>44877</td>\n",
       "      <td>272</td>\n",
       "      <td>45149</td>\n",
       "      <td>2.330042</td>\n",
       "      <td>3.940979</td>\n",
       "      <td>1937690</td>\n",
       "      <td>46-55</td>\n",
       "    </tr>\n",
       "    <tr>\n",
       "      <th>7</th>\n",
       "      <td>Maharashtra</td>\n",
       "      <td>AHMADNAGAR</td>\n",
       "      <td>Dr. SUJAY RADHAKRISHNA VIKHEPATIL</td>\n",
       "      <td>1</td>\n",
       "      <td>BJP</td>\n",
       "      <td>Lotus</td>\n",
       "      <td>MALE</td>\n",
       "      <td>0</td>\n",
       "      <td>37.0</td>\n",
       "      <td>GENERAL</td>\n",
       "      <td>Doctorate</td>\n",
       "      <td>168664576</td>\n",
       "      <td>2623964</td>\n",
       "      <td>696961</td>\n",
       "      <td>7699</td>\n",
       "      <td>704660</td>\n",
       "      <td>37.856533</td>\n",
       "      <td>58.425159</td>\n",
       "      <td>1861396</td>\n",
       "      <td>36-45</td>\n",
       "    </tr>\n",
       "    <tr>\n",
       "      <th>8</th>\n",
       "      <td>Maharashtra</td>\n",
       "      <td>AHMADNAGAR</td>\n",
       "      <td>SANGRAM ARUNKAKA JAGTAP</td>\n",
       "      <td>0</td>\n",
       "      <td>NCP</td>\n",
       "      <td>Clock</td>\n",
       "      <td>MALE</td>\n",
       "      <td>1</td>\n",
       "      <td>34.0</td>\n",
       "      <td>GENERAL</td>\n",
       "      <td>Graduate</td>\n",
       "      <td>94488381</td>\n",
       "      <td>32549132</td>\n",
       "      <td>419364</td>\n",
       "      <td>3822</td>\n",
       "      <td>423186</td>\n",
       "      <td>22.734872</td>\n",
       "      <td>35.087431</td>\n",
       "      <td>1861396</td>\n",
       "      <td>25-35</td>\n",
       "    </tr>\n",
       "    <tr>\n",
       "      <th>9</th>\n",
       "      <td>Maharashtra</td>\n",
       "      <td>AHMADNAGAR</td>\n",
       "      <td>SUDHAKAR LAXMAN AVHAD</td>\n",
       "      <td>0</td>\n",
       "      <td>VBA</td>\n",
       "      <td>Cup &amp; Saucer</td>\n",
       "      <td>MALE</td>\n",
       "      <td>0</td>\n",
       "      <td>62.0</td>\n",
       "      <td>GENERAL</td>\n",
       "      <td>Graduate</td>\n",
       "      <td>13949000</td>\n",
       "      <td>1400000</td>\n",
       "      <td>31644</td>\n",
       "      <td>163</td>\n",
       "      <td>31807</td>\n",
       "      <td>1.708771</td>\n",
       "      <td>2.637200</td>\n",
       "      <td>1861396</td>\n",
       "      <td>55+</td>\n",
       "    </tr>\n",
       "  </tbody>\n",
       "</table>\n",
       "</div>"
      ],
      "text/plain": [
       "           STATE CONSTITUENCY                               NAME  WINNER  \\\n",
       "0      Telangana     ADILABAD                     SOYAM BAPU RAO       1   \n",
       "1      Telangana     ADILABAD                       Godam Nagesh       0   \n",
       "2      Telangana     ADILABAD                      RATHOD RAMESH       0   \n",
       "3      Telangana     ADILABAD                               NOTA       0   \n",
       "4  Uttar Pradesh         AGRA              Satyapal Singh Baghel       1   \n",
       "5  Uttar Pradesh         AGRA                   Manoj Kumar Soni       0   \n",
       "6  Uttar Pradesh         AGRA                       Preeta Harit       0   \n",
       "7    Maharashtra   AHMADNAGAR  Dr. SUJAY RADHAKRISHNA VIKHEPATIL       1   \n",
       "8    Maharashtra   AHMADNAGAR            SANGRAM ARUNKAKA JAGTAP       0   \n",
       "9    Maharashtra   AHMADNAGAR              SUDHAKAR LAXMAN AVHAD       0   \n",
       "\n",
       "  PARTY        SYMBOL  GENDER  CRIMINAL\\r\\nCASES   AGE CATEGORY  \\\n",
       "0   BJP         Lotus    MALE                 52  52.0       ST   \n",
       "1   TRS           Car    MALE                  0  54.0       ST   \n",
       "2   INC          Hand    MALE                  3  52.0       ST   \n",
       "3  NOTA           NaN     NaN                  0   NaN      NaN   \n",
       "4   BJP         Lotus    MALE                  5  58.0       SC   \n",
       "5   BSP      Elephant    MALE                  0  47.0       SC   \n",
       "6   INC          Hand  FEMALE                  0  54.0       SC   \n",
       "7   BJP         Lotus    MALE                  0  37.0  GENERAL   \n",
       "8   NCP         Clock    MALE                  1  34.0  GENERAL   \n",
       "9   VBA  Cup & Saucer    MALE                  0  62.0  GENERAL   \n",
       "\n",
       "       EDUCATION     ASSETS  LIABILITIES  GENERAL\\r\\nVOTES  POSTAL\\r\\nVOTES  \\\n",
       "0      12th Pass    3099414       231450            376892              482   \n",
       "1  Post Graduate   18477888       847000            318665              149   \n",
       "2      12th Pass   36491000     15300000            314057              181   \n",
       "3            NaN          0            0             13030                6   \n",
       "4      Doctorate   74274036      8606522            644459             2416   \n",
       "5  Post Graduate  133784385     22251891            434199             1130   \n",
       "6  Post Graduate   55075753            0             44877              272   \n",
       "7      Doctorate  168664576      2623964            696961             7699   \n",
       "8       Graduate   94488381     32549132            419364             3822   \n",
       "9       Graduate   13949000      1400000             31644              163   \n",
       "\n",
       "   TOTAL\\r\\nVOTES  OVER TOTAL ELECTORS \\r\\nIN CONSTITUENCY  \\\n",
       "0          377374                                25.330684   \n",
       "1          318814                                21.399929   \n",
       "2          314238                                21.092771   \n",
       "3           13036                                 0.875023   \n",
       "4          646875                                33.383823   \n",
       "5          435329                                22.466390   \n",
       "6           45149                                 2.330042   \n",
       "7          704660                                37.856533   \n",
       "8          423186                                22.734872   \n",
       "9           31807                                 1.708771   \n",
       "\n",
       "   OVER TOTAL VOTES POLLED \\r\\nIN CONSTITUENCY  TOTAL ELECTORS AGE_PROFILING  \n",
       "0                                    35.468248         1489790         46-55  \n",
       "1                                    29.964370         1489790         46-55  \n",
       "2                                    29.534285         1489790         46-55  \n",
       "3                                     1.225214         1489790           NaN  \n",
       "4                                    56.464615         1937690           55+  \n",
       "5                                    37.999125         1937690         46-55  \n",
       "6                                     3.940979         1937690         46-55  \n",
       "7                                    58.425159         1861396         36-45  \n",
       "8                                    35.087431         1861396         25-35  \n",
       "9                                     2.637200         1861396           55+  "
      ]
     },
     "execution_count": 72,
     "metadata": {},
     "output_type": "execute_result"
    }
   ],
   "source": [
    "data.head(10)"
   ]
  },
  {
   "cell_type": "code",
   "execution_count": 73,
   "metadata": {},
   "outputs": [
    {
     "data": {
      "text/plain": [
       "STATE                                           object\n",
       "CONSTITUENCY                                    object\n",
       "NAME                                            object\n",
       "WINNER                                           int64\n",
       "PARTY                                           object\n",
       "SYMBOL                                          object\n",
       "GENDER                                          object\n",
       "CRIMINAL\\r\\nCASES                                int64\n",
       "AGE                                            float64\n",
       "CATEGORY                                        object\n",
       "EDUCATION                                       object\n",
       "ASSETS                                           int64\n",
       "LIABILITIES                                      int64\n",
       "GENERAL\\r\\nVOTES                                 int64\n",
       "POSTAL\\r\\nVOTES                                  int64\n",
       "TOTAL\\r\\nVOTES                                   int64\n",
       "OVER TOTAL ELECTORS \\r\\nIN CONSTITUENCY        float64\n",
       "OVER TOTAL VOTES POLLED \\r\\nIN CONSTITUENCY    float64\n",
       "TOTAL ELECTORS                                   int64\n",
       "AGE_PROFILING                                   object\n",
       "dtype: object"
      ]
     },
     "execution_count": 73,
     "metadata": {},
     "output_type": "execute_result"
    }
   ],
   "source": [
    "data.dtypes"
   ]
  },
  {
   "cell_type": "code",
   "execution_count": null,
   "metadata": {},
   "outputs": [],
   "source": []
  },
  {
   "cell_type": "code",
   "execution_count": null,
   "metadata": {},
   "outputs": [],
   "source": []
  },
  {
   "cell_type": "code",
   "execution_count": null,
   "metadata": {},
   "outputs": [],
   "source": []
  },
  {
   "cell_type": "code",
   "execution_count": null,
   "metadata": {},
   "outputs": [],
   "source": []
  },
  {
   "cell_type": "code",
   "execution_count": null,
   "metadata": {},
   "outputs": [],
   "source": []
  },
  {
   "cell_type": "code",
   "execution_count": null,
   "metadata": {},
   "outputs": [],
   "source": []
  },
  {
   "cell_type": "code",
   "execution_count": null,
   "metadata": {},
   "outputs": [],
   "source": []
  },
  {
   "cell_type": "code",
   "execution_count": null,
   "metadata": {},
   "outputs": [],
   "source": []
  },
  {
   "cell_type": "code",
   "execution_count": null,
   "metadata": {},
   "outputs": [],
   "source": []
  },
  {
   "cell_type": "code",
   "execution_count": null,
   "metadata": {},
   "outputs": [],
   "source": []
  },
  {
   "cell_type": "code",
   "execution_count": null,
   "metadata": {},
   "outputs": [],
   "source": []
  }
 ],
 "metadata": {
  "kernelspec": {
   "display_name": "Python 3",
   "language": "python",
   "name": "python3"
  },
  "language_info": {
   "codemirror_mode": {
    "name": "ipython",
    "version": 3
   },
   "file_extension": ".py",
   "mimetype": "text/x-python",
   "name": "python",
   "nbconvert_exporter": "python",
   "pygments_lexer": "ipython3",
   "version": "3.8.3"
  }
 },
 "nbformat": 4,
 "nbformat_minor": 4
}
