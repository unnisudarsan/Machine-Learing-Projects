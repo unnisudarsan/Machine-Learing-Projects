{
 "cells": [
  {
   "cell_type": "code",
   "execution_count": 1,
   "metadata": {},
   "outputs": [],
   "source": [
    "import pandas as pd"
   ]
  },
  {
   "cell_type": "code",
   "execution_count": 2,
   "metadata": {},
   "outputs": [],
   "source": [
    "data = pd.read_csv(\"/home/user/Downloads/ML/data/supermarket_sales.csv\")"
   ]
  },
  {
   "cell_type": "code",
   "execution_count": 3,
   "metadata": {},
   "outputs": [
    {
     "data": {
      "text/html": [
       "<div>\n",
       "<style scoped>\n",
       "    .dataframe tbody tr th:only-of-type {\n",
       "        vertical-align: middle;\n",
       "    }\n",
       "\n",
       "    .dataframe tbody tr th {\n",
       "        vertical-align: top;\n",
       "    }\n",
       "\n",
       "    .dataframe thead th {\n",
       "        text-align: right;\n",
       "    }\n",
       "</style>\n",
       "<table border=\"1\" class=\"dataframe\">\n",
       "  <thead>\n",
       "    <tr style=\"text-align: right;\">\n",
       "      <th></th>\n",
       "      <th>Invoice ID</th>\n",
       "      <th>Branch</th>\n",
       "      <th>City</th>\n",
       "      <th>Customer type</th>\n",
       "      <th>Gender</th>\n",
       "      <th>Product line</th>\n",
       "      <th>Unit price</th>\n",
       "      <th>Quantity</th>\n",
       "      <th>Tax 5%</th>\n",
       "      <th>Total</th>\n",
       "      <th>Date</th>\n",
       "      <th>Time</th>\n",
       "      <th>Payment</th>\n",
       "      <th>cogs</th>\n",
       "      <th>gross margin percentage</th>\n",
       "      <th>gross income</th>\n",
       "      <th>Rating</th>\n",
       "    </tr>\n",
       "  </thead>\n",
       "  <tbody>\n",
       "    <tr>\n",
       "      <th>0</th>\n",
       "      <td>750-67-8428</td>\n",
       "      <td>A</td>\n",
       "      <td>Yangon</td>\n",
       "      <td>Member</td>\n",
       "      <td>Female</td>\n",
       "      <td>Health and beauty</td>\n",
       "      <td>74.69</td>\n",
       "      <td>7</td>\n",
       "      <td>26.1415</td>\n",
       "      <td>548.9715</td>\n",
       "      <td>01-05-2019</td>\n",
       "      <td>13:08</td>\n",
       "      <td>Ewallet</td>\n",
       "      <td>522.83</td>\n",
       "      <td>4.761905</td>\n",
       "      <td>26.1415</td>\n",
       "      <td>9.1</td>\n",
       "    </tr>\n",
       "    <tr>\n",
       "      <th>1</th>\n",
       "      <td>226-31-3081</td>\n",
       "      <td>C</td>\n",
       "      <td>Naypyitaw</td>\n",
       "      <td>Normal</td>\n",
       "      <td>Female</td>\n",
       "      <td>Electronic accessories</td>\n",
       "      <td>15.28</td>\n",
       "      <td>5</td>\n",
       "      <td>3.8200</td>\n",
       "      <td>80.22</td>\n",
       "      <td>03-08-2019</td>\n",
       "      <td>10:29</td>\n",
       "      <td>Cash</td>\n",
       "      <td>76.40</td>\n",
       "      <td>4.761905</td>\n",
       "      <td>3.8200</td>\n",
       "      <td>9.6</td>\n",
       "    </tr>\n",
       "    <tr>\n",
       "      <th>2</th>\n",
       "      <td>631-41-3108</td>\n",
       "      <td>A</td>\n",
       "      <td>Yangon</td>\n",
       "      <td>Normal</td>\n",
       "      <td>Male</td>\n",
       "      <td>Home and lifestyle</td>\n",
       "      <td>46.33</td>\n",
       "      <td>7</td>\n",
       "      <td>16.2155</td>\n",
       "      <td>340.5255</td>\n",
       "      <td>03-03-2019</td>\n",
       "      <td>13:23</td>\n",
       "      <td>Credit card</td>\n",
       "      <td>324.31</td>\n",
       "      <td>4.761905</td>\n",
       "      <td>16.2155</td>\n",
       "      <td>7.4</td>\n",
       "    </tr>\n",
       "    <tr>\n",
       "      <th>3</th>\n",
       "      <td>123-19-1176</td>\n",
       "      <td>A</td>\n",
       "      <td>Yangon</td>\n",
       "      <td>Member</td>\n",
       "      <td>Male</td>\n",
       "      <td>Health and beauty</td>\n",
       "      <td>58.22</td>\n",
       "      <td>8</td>\n",
       "      <td>23.2880</td>\n",
       "      <td>489.048</td>\n",
       "      <td>1/27/2019</td>\n",
       "      <td>20:33</td>\n",
       "      <td>Ewallet</td>\n",
       "      <td>465.76</td>\n",
       "      <td>4.761905</td>\n",
       "      <td>23.2880</td>\n",
       "      <td>8.4</td>\n",
       "    </tr>\n",
       "    <tr>\n",
       "      <th>4</th>\n",
       "      <td>373-73-7910</td>\n",
       "      <td>A</td>\n",
       "      <td>Yangon</td>\n",
       "      <td>Normal</td>\n",
       "      <td>Male</td>\n",
       "      <td>Sports and travel</td>\n",
       "      <td>86.31</td>\n",
       "      <td>7</td>\n",
       "      <td>30.2085</td>\n",
       "      <td>634.3785</td>\n",
       "      <td>02-08-2019</td>\n",
       "      <td>10:37</td>\n",
       "      <td>Ewallet</td>\n",
       "      <td>604.17</td>\n",
       "      <td>4.761905</td>\n",
       "      <td>30.2085</td>\n",
       "      <td>5.3</td>\n",
       "    </tr>\n",
       "  </tbody>\n",
       "</table>\n",
       "</div>"
      ],
      "text/plain": [
       "    Invoice ID Branch       City Customer type  Gender  \\\n",
       "0  750-67-8428      A     Yangon        Member  Female   \n",
       "1  226-31-3081      C  Naypyitaw        Normal  Female   \n",
       "2  631-41-3108      A     Yangon        Normal    Male   \n",
       "3  123-19-1176      A     Yangon        Member    Male   \n",
       "4  373-73-7910      A     Yangon        Normal    Male   \n",
       "\n",
       "             Product line  Unit price  Quantity   Tax 5%     Total  \\\n",
       "0       Health and beauty       74.69         7  26.1415  548.9715   \n",
       "1  Electronic accessories       15.28         5   3.8200     80.22   \n",
       "2      Home and lifestyle       46.33         7  16.2155  340.5255   \n",
       "3       Health and beauty       58.22         8  23.2880   489.048   \n",
       "4       Sports and travel       86.31         7  30.2085  634.3785   \n",
       "\n",
       "         Date   Time      Payment    cogs  gross margin percentage  \\\n",
       "0  01-05-2019  13:08      Ewallet  522.83                 4.761905   \n",
       "1  03-08-2019  10:29         Cash   76.40                 4.761905   \n",
       "2  03-03-2019  13:23  Credit card  324.31                 4.761905   \n",
       "3   1/27/2019  20:33      Ewallet  465.76                 4.761905   \n",
       "4  02-08-2019  10:37      Ewallet  604.17                 4.761905   \n",
       "\n",
       "   gross income  Rating  \n",
       "0       26.1415     9.1  \n",
       "1        3.8200     9.6  \n",
       "2       16.2155     7.4  \n",
       "3       23.2880     8.4  \n",
       "4       30.2085     5.3  "
      ]
     },
     "execution_count": 3,
     "metadata": {},
     "output_type": "execute_result"
    }
   ],
   "source": [
    "data.head()"
   ]
  },
  {
   "cell_type": "code",
   "execution_count": 4,
   "metadata": {},
   "outputs": [
    {
     "data": {
      "text/plain": [
       "(1000, 17)"
      ]
     },
     "execution_count": 4,
     "metadata": {},
     "output_type": "execute_result"
    }
   ],
   "source": [
    "data.shape"
   ]
  },
  {
   "cell_type": "code",
   "execution_count": 5,
   "metadata": {},
   "outputs": [
    {
     "data": {
      "text/plain": [
       "Invoice ID                  object\n",
       "Branch                      object\n",
       "City                        object\n",
       "Customer type               object\n",
       "Gender                      object\n",
       "Product line                object\n",
       "Unit price                 float64\n",
       "Quantity                     int64\n",
       "Tax 5%                     float64\n",
       "Total                       object\n",
       "Date                        object\n",
       "Time                        object\n",
       "Payment                     object\n",
       "cogs                       float64\n",
       "gross margin percentage    float64\n",
       "gross income               float64\n",
       "Rating                     float64\n",
       "dtype: object"
      ]
     },
     "execution_count": 5,
     "metadata": {},
     "output_type": "execute_result"
    }
   ],
   "source": [
    "data.dtypes"
   ]
  },
  {
   "cell_type": "code",
   "execution_count": 6,
   "metadata": {},
   "outputs": [
    {
     "data": {
      "text/plain": [
       "Invoice ID                 0\n",
       "Branch                     0\n",
       "City                       0\n",
       "Customer type              0\n",
       "Gender                     0\n",
       "Product line               0\n",
       "Unit price                 0\n",
       "Quantity                   0\n",
       "Tax 5%                     0\n",
       "Total                      0\n",
       "Date                       0\n",
       "Time                       0\n",
       "Payment                    0\n",
       "cogs                       0\n",
       "gross margin percentage    0\n",
       "gross income               0\n",
       "Rating                     0\n",
       "dtype: int64"
      ]
     },
     "execution_count": 6,
     "metadata": {},
     "output_type": "execute_result"
    }
   ],
   "source": [
    "#Checking for missing values\n",
    "\n",
    "data.isna().sum()"
   ]
  },
  {
   "cell_type": "code",
   "execution_count": 7,
   "metadata": {},
   "outputs": [
    {
     "data": {
      "text/html": [
       "<div>\n",
       "<style scoped>\n",
       "    .dataframe tbody tr th:only-of-type {\n",
       "        vertical-align: middle;\n",
       "    }\n",
       "\n",
       "    .dataframe tbody tr th {\n",
       "        vertical-align: top;\n",
       "    }\n",
       "\n",
       "    .dataframe thead th {\n",
       "        text-align: right;\n",
       "    }\n",
       "</style>\n",
       "<table border=\"1\" class=\"dataframe\">\n",
       "  <thead>\n",
       "    <tr style=\"text-align: right;\">\n",
       "      <th></th>\n",
       "      <th>Invoice ID</th>\n",
       "      <th>Branch</th>\n",
       "      <th>City</th>\n",
       "      <th>Customer type</th>\n",
       "      <th>Gender</th>\n",
       "      <th>Product line</th>\n",
       "      <th>Unit price</th>\n",
       "      <th>Quantity</th>\n",
       "      <th>Tax 5%</th>\n",
       "      <th>Total</th>\n",
       "      <th>Date</th>\n",
       "      <th>Time</th>\n",
       "      <th>Payment</th>\n",
       "      <th>cogs</th>\n",
       "      <th>gross margin percentage</th>\n",
       "      <th>gross income</th>\n",
       "      <th>Rating</th>\n",
       "    </tr>\n",
       "  </thead>\n",
       "  <tbody>\n",
       "    <tr>\n",
       "      <th>0</th>\n",
       "      <td>750-67-8428</td>\n",
       "      <td>A</td>\n",
       "      <td>Yangon</td>\n",
       "      <td>Member</td>\n",
       "      <td>Female</td>\n",
       "      <td>Health and beauty</td>\n",
       "      <td>74.69</td>\n",
       "      <td>7</td>\n",
       "      <td>26.1415</td>\n",
       "      <td>548.9715</td>\n",
       "      <td>01-05-2019</td>\n",
       "      <td>13:08</td>\n",
       "      <td>Ewallet</td>\n",
       "      <td>522.83</td>\n",
       "      <td>4.761905</td>\n",
       "      <td>26.1415</td>\n",
       "      <td>9.1</td>\n",
       "    </tr>\n",
       "    <tr>\n",
       "      <th>1</th>\n",
       "      <td>226-31-3081</td>\n",
       "      <td>C</td>\n",
       "      <td>Naypyitaw</td>\n",
       "      <td>Normal</td>\n",
       "      <td>Female</td>\n",
       "      <td>Electronic accessories</td>\n",
       "      <td>15.28</td>\n",
       "      <td>5</td>\n",
       "      <td>3.8200</td>\n",
       "      <td>80.22</td>\n",
       "      <td>03-08-2019</td>\n",
       "      <td>10:29</td>\n",
       "      <td>Cash</td>\n",
       "      <td>76.40</td>\n",
       "      <td>4.761905</td>\n",
       "      <td>3.8200</td>\n",
       "      <td>9.6</td>\n",
       "    </tr>\n",
       "    <tr>\n",
       "      <th>2</th>\n",
       "      <td>631-41-3108</td>\n",
       "      <td>A</td>\n",
       "      <td>Yangon</td>\n",
       "      <td>Normal</td>\n",
       "      <td>Male</td>\n",
       "      <td>Home and lifestyle</td>\n",
       "      <td>46.33</td>\n",
       "      <td>7</td>\n",
       "      <td>16.2155</td>\n",
       "      <td>340.5255</td>\n",
       "      <td>03-03-2019</td>\n",
       "      <td>13:23</td>\n",
       "      <td>Credit card</td>\n",
       "      <td>324.31</td>\n",
       "      <td>4.761905</td>\n",
       "      <td>16.2155</td>\n",
       "      <td>7.4</td>\n",
       "    </tr>\n",
       "    <tr>\n",
       "      <th>3</th>\n",
       "      <td>123-19-1176</td>\n",
       "      <td>A</td>\n",
       "      <td>Yangon</td>\n",
       "      <td>Member</td>\n",
       "      <td>Male</td>\n",
       "      <td>Health and beauty</td>\n",
       "      <td>58.22</td>\n",
       "      <td>8</td>\n",
       "      <td>23.2880</td>\n",
       "      <td>489.048</td>\n",
       "      <td>1/27/2019</td>\n",
       "      <td>20:33</td>\n",
       "      <td>Ewallet</td>\n",
       "      <td>465.76</td>\n",
       "      <td>4.761905</td>\n",
       "      <td>23.2880</td>\n",
       "      <td>8.4</td>\n",
       "    </tr>\n",
       "    <tr>\n",
       "      <th>4</th>\n",
       "      <td>373-73-7910</td>\n",
       "      <td>A</td>\n",
       "      <td>Yangon</td>\n",
       "      <td>Normal</td>\n",
       "      <td>Male</td>\n",
       "      <td>Sports and travel</td>\n",
       "      <td>86.31</td>\n",
       "      <td>7</td>\n",
       "      <td>30.2085</td>\n",
       "      <td>634.3785</td>\n",
       "      <td>02-08-2019</td>\n",
       "      <td>10:37</td>\n",
       "      <td>Ewallet</td>\n",
       "      <td>604.17</td>\n",
       "      <td>4.761905</td>\n",
       "      <td>30.2085</td>\n",
       "      <td>5.3</td>\n",
       "    </tr>\n",
       "    <tr>\n",
       "      <th>5</th>\n",
       "      <td>699-14-3026</td>\n",
       "      <td>C</td>\n",
       "      <td>Naypyitaw</td>\n",
       "      <td>Normal</td>\n",
       "      <td>Male</td>\n",
       "      <td>Electronic accessories</td>\n",
       "      <td>85.39</td>\n",
       "      <td>7</td>\n",
       "      <td>29.8865</td>\n",
       "      <td>627.6165</td>\n",
       "      <td>3/25/2019</td>\n",
       "      <td>18:30</td>\n",
       "      <td>Ewallet</td>\n",
       "      <td>597.73</td>\n",
       "      <td>4.761905</td>\n",
       "      <td>29.8865</td>\n",
       "      <td>4.1</td>\n",
       "    </tr>\n",
       "    <tr>\n",
       "      <th>6</th>\n",
       "      <td>355-53-5943</td>\n",
       "      <td>A</td>\n",
       "      <td>Yangon</td>\n",
       "      <td>Member</td>\n",
       "      <td>Female</td>\n",
       "      <td>Electronic accessories</td>\n",
       "      <td>68.84</td>\n",
       "      <td>6</td>\n",
       "      <td>20.6520</td>\n",
       "      <td>433.692</td>\n",
       "      <td>2/25/2019</td>\n",
       "      <td>14:36</td>\n",
       "      <td>Ewallet</td>\n",
       "      <td>413.04</td>\n",
       "      <td>4.761905</td>\n",
       "      <td>20.6520</td>\n",
       "      <td>5.8</td>\n",
       "    </tr>\n",
       "    <tr>\n",
       "      <th>7</th>\n",
       "      <td>315-22-5665</td>\n",
       "      <td>C</td>\n",
       "      <td>Naypyitaw</td>\n",
       "      <td>Normal</td>\n",
       "      <td>Female</td>\n",
       "      <td>Home and lifestyle</td>\n",
       "      <td>73.56</td>\n",
       "      <td>10</td>\n",
       "      <td>36.7800</td>\n",
       "      <td>772.38</td>\n",
       "      <td>2/24/2019</td>\n",
       "      <td>11:38</td>\n",
       "      <td>Ewallet</td>\n",
       "      <td>735.60</td>\n",
       "      <td>4.761905</td>\n",
       "      <td>36.7800</td>\n",
       "      <td>8.0</td>\n",
       "    </tr>\n",
       "    <tr>\n",
       "      <th>8</th>\n",
       "      <td>665-32-9167</td>\n",
       "      <td>A</td>\n",
       "      <td>Yangon</td>\n",
       "      <td>Member</td>\n",
       "      <td>Female</td>\n",
       "      <td>Health and beauty</td>\n",
       "      <td>36.26</td>\n",
       "      <td>2</td>\n",
       "      <td>3.6260</td>\n",
       "      <td>76.146</td>\n",
       "      <td>01-10-2019</td>\n",
       "      <td>17:15</td>\n",
       "      <td>Credit card</td>\n",
       "      <td>72.52</td>\n",
       "      <td>4.761905</td>\n",
       "      <td>3.6260</td>\n",
       "      <td>7.2</td>\n",
       "    </tr>\n",
       "    <tr>\n",
       "      <th>9</th>\n",
       "      <td>692-92-5582</td>\n",
       "      <td>B</td>\n",
       "      <td>Mandalay</td>\n",
       "      <td>Member</td>\n",
       "      <td>Female</td>\n",
       "      <td>Food and beverages</td>\n",
       "      <td>54.84</td>\n",
       "      <td>3</td>\n",
       "      <td>8.2260</td>\n",
       "      <td>172.746</td>\n",
       "      <td>2/20/2019</td>\n",
       "      <td>13:27</td>\n",
       "      <td>Credit card</td>\n",
       "      <td>164.52</td>\n",
       "      <td>4.761905</td>\n",
       "      <td>8.2260</td>\n",
       "      <td>5.9</td>\n",
       "    </tr>\n",
       "    <tr>\n",
       "      <th>10</th>\n",
       "      <td>351-62-0822</td>\n",
       "      <td>B</td>\n",
       "      <td>Mandalay</td>\n",
       "      <td>Member</td>\n",
       "      <td>Female</td>\n",
       "      <td>Fashion accessories</td>\n",
       "      <td>14.48</td>\n",
       "      <td>4</td>\n",
       "      <td>2.8960</td>\n",
       "      <td>\"60.816\"</td>\n",
       "      <td>02-06-2019</td>\n",
       "      <td>18:07</td>\n",
       "      <td>Ewallet</td>\n",
       "      <td>57.92</td>\n",
       "      <td>4.761905</td>\n",
       "      <td>2.8960</td>\n",
       "      <td>4.5</td>\n",
       "    </tr>\n",
       "    <tr>\n",
       "      <th>11</th>\n",
       "      <td>529-56-3974</td>\n",
       "      <td>B</td>\n",
       "      <td>Mandalay</td>\n",
       "      <td>Member</td>\n",
       "      <td>Male</td>\n",
       "      <td>Electronic accessories</td>\n",
       "      <td>25.51</td>\n",
       "      <td>4</td>\n",
       "      <td>5.1020</td>\n",
       "      <td>107.142</td>\n",
       "      <td>03-09-2019</td>\n",
       "      <td>17:03</td>\n",
       "      <td>Cash</td>\n",
       "      <td>102.04</td>\n",
       "      <td>4.761905</td>\n",
       "      <td>5.1020</td>\n",
       "      <td>6.8</td>\n",
       "    </tr>\n",
       "    <tr>\n",
       "      <th>12</th>\n",
       "      <td>365-64-0515</td>\n",
       "      <td>A</td>\n",
       "      <td>Yangon</td>\n",
       "      <td>Normal</td>\n",
       "      <td>Female</td>\n",
       "      <td>Electronic accessories</td>\n",
       "      <td>46.95</td>\n",
       "      <td>5</td>\n",
       "      <td>11.7375</td>\n",
       "      <td>246.4875</td>\n",
       "      <td>02-12-2019</td>\n",
       "      <td>10:25</td>\n",
       "      <td>Ewallet</td>\n",
       "      <td>234.75</td>\n",
       "      <td>4.761905</td>\n",
       "      <td>11.7375</td>\n",
       "      <td>7.1</td>\n",
       "    </tr>\n",
       "    <tr>\n",
       "      <th>13</th>\n",
       "      <td>252-56-2699</td>\n",
       "      <td>A</td>\n",
       "      <td>Yangon</td>\n",
       "      <td>Normal</td>\n",
       "      <td>Male</td>\n",
       "      <td>Food and beverages</td>\n",
       "      <td>43.19</td>\n",
       "      <td>10</td>\n",
       "      <td>21.5950</td>\n",
       "      <td>453.495</td>\n",
       "      <td>02-07-2019</td>\n",
       "      <td>16:48</td>\n",
       "      <td>Ewallet</td>\n",
       "      <td>431.90</td>\n",
       "      <td>4.761905</td>\n",
       "      <td>21.5950</td>\n",
       "      <td>8.2</td>\n",
       "    </tr>\n",
       "    <tr>\n",
       "      <th>14</th>\n",
       "      <td>829-34-3910</td>\n",
       "      <td>A</td>\n",
       "      <td>Yangon</td>\n",
       "      <td>Normal</td>\n",
       "      <td>Female</td>\n",
       "      <td>Health and beauty</td>\n",
       "      <td>71.38</td>\n",
       "      <td>10</td>\n",
       "      <td>35.6900</td>\n",
       "      <td>749.49</td>\n",
       "      <td>3/29/2019</td>\n",
       "      <td>19:21</td>\n",
       "      <td>Cash</td>\n",
       "      <td>713.80</td>\n",
       "      <td>4.761905</td>\n",
       "      <td>35.6900</td>\n",
       "      <td>5.7</td>\n",
       "    </tr>\n",
       "  </tbody>\n",
       "</table>\n",
       "</div>"
      ],
      "text/plain": [
       "     Invoice ID Branch       City Customer type  Gender  \\\n",
       "0   750-67-8428      A     Yangon        Member  Female   \n",
       "1   226-31-3081      C  Naypyitaw        Normal  Female   \n",
       "2   631-41-3108      A     Yangon        Normal    Male   \n",
       "3   123-19-1176      A     Yangon        Member    Male   \n",
       "4   373-73-7910      A     Yangon        Normal    Male   \n",
       "5   699-14-3026      C  Naypyitaw        Normal    Male   \n",
       "6   355-53-5943      A     Yangon        Member  Female   \n",
       "7   315-22-5665      C  Naypyitaw        Normal  Female   \n",
       "8   665-32-9167      A     Yangon        Member  Female   \n",
       "9   692-92-5582      B   Mandalay        Member  Female   \n",
       "10  351-62-0822      B   Mandalay        Member  Female   \n",
       "11  529-56-3974      B   Mandalay        Member    Male   \n",
       "12  365-64-0515      A     Yangon        Normal  Female   \n",
       "13  252-56-2699      A     Yangon        Normal    Male   \n",
       "14  829-34-3910      A     Yangon        Normal  Female   \n",
       "\n",
       "              Product line  Unit price  Quantity   Tax 5%     Total  \\\n",
       "0        Health and beauty       74.69         7  26.1415  548.9715   \n",
       "1   Electronic accessories       15.28         5   3.8200     80.22   \n",
       "2       Home and lifestyle       46.33         7  16.2155  340.5255   \n",
       "3        Health and beauty       58.22         8  23.2880   489.048   \n",
       "4        Sports and travel       86.31         7  30.2085  634.3785   \n",
       "5   Electronic accessories       85.39         7  29.8865  627.6165   \n",
       "6   Electronic accessories       68.84         6  20.6520   433.692   \n",
       "7       Home and lifestyle       73.56        10  36.7800    772.38   \n",
       "8        Health and beauty       36.26         2   3.6260    76.146   \n",
       "9       Food and beverages       54.84         3   8.2260   172.746   \n",
       "10     Fashion accessories       14.48         4   2.8960  \"60.816\"   \n",
       "11  Electronic accessories       25.51         4   5.1020   107.142   \n",
       "12  Electronic accessories       46.95         5  11.7375  246.4875   \n",
       "13      Food and beverages       43.19        10  21.5950   453.495   \n",
       "14       Health and beauty       71.38        10  35.6900    749.49   \n",
       "\n",
       "          Date   Time      Payment    cogs  gross margin percentage  \\\n",
       "0   01-05-2019  13:08      Ewallet  522.83                 4.761905   \n",
       "1   03-08-2019  10:29         Cash   76.40                 4.761905   \n",
       "2   03-03-2019  13:23  Credit card  324.31                 4.761905   \n",
       "3    1/27/2019  20:33      Ewallet  465.76                 4.761905   \n",
       "4   02-08-2019  10:37      Ewallet  604.17                 4.761905   \n",
       "5    3/25/2019  18:30      Ewallet  597.73                 4.761905   \n",
       "6    2/25/2019  14:36      Ewallet  413.04                 4.761905   \n",
       "7    2/24/2019  11:38      Ewallet  735.60                 4.761905   \n",
       "8   01-10-2019  17:15  Credit card   72.52                 4.761905   \n",
       "9    2/20/2019  13:27  Credit card  164.52                 4.761905   \n",
       "10  02-06-2019  18:07      Ewallet   57.92                 4.761905   \n",
       "11  03-09-2019  17:03         Cash  102.04                 4.761905   \n",
       "12  02-12-2019  10:25      Ewallet  234.75                 4.761905   \n",
       "13  02-07-2019  16:48      Ewallet  431.90                 4.761905   \n",
       "14   3/29/2019  19:21         Cash  713.80                 4.761905   \n",
       "\n",
       "    gross income  Rating  \n",
       "0        26.1415     9.1  \n",
       "1         3.8200     9.6  \n",
       "2        16.2155     7.4  \n",
       "3        23.2880     8.4  \n",
       "4        30.2085     5.3  \n",
       "5        29.8865     4.1  \n",
       "6        20.6520     5.8  \n",
       "7        36.7800     8.0  \n",
       "8         3.6260     7.2  \n",
       "9         8.2260     5.9  \n",
       "10        2.8960     4.5  \n",
       "11        5.1020     6.8  \n",
       "12       11.7375     7.1  \n",
       "13       21.5950     8.2  \n",
       "14       35.6900     5.7  "
      ]
     },
     "execution_count": 7,
     "metadata": {},
     "output_type": "execute_result"
    }
   ],
   "source": [
    "data.head(15)"
   ]
  },
  {
   "cell_type": "code",
   "execution_count": 8,
   "metadata": {},
   "outputs": [],
   "source": [
    "#to change Total into integer field, we need to process each and every row of Total.\n",
    "#either we can use a for loop, lambda function\n",
    "\n",
    "#Lambda is be better option"
   ]
  },
  {
   "cell_type": "code",
   "execution_count": 9,
   "metadata": {},
   "outputs": [
    {
     "data": {
      "text/html": [
       "<div>\n",
       "<style scoped>\n",
       "    .dataframe tbody tr th:only-of-type {\n",
       "        vertical-align: middle;\n",
       "    }\n",
       "\n",
       "    .dataframe tbody tr th {\n",
       "        vertical-align: top;\n",
       "    }\n",
       "\n",
       "    .dataframe thead th {\n",
       "        text-align: right;\n",
       "    }\n",
       "</style>\n",
       "<table border=\"1\" class=\"dataframe\">\n",
       "  <thead>\n",
       "    <tr style=\"text-align: right;\">\n",
       "      <th></th>\n",
       "      <th>Invoice ID</th>\n",
       "      <th>Branch</th>\n",
       "      <th>City</th>\n",
       "      <th>Customer type</th>\n",
       "      <th>Gender</th>\n",
       "      <th>Product line</th>\n",
       "      <th>Unit price</th>\n",
       "      <th>Quantity</th>\n",
       "      <th>Tax 5%</th>\n",
       "      <th>Total</th>\n",
       "      <th>Date</th>\n",
       "      <th>Time</th>\n",
       "      <th>Payment</th>\n",
       "      <th>cogs</th>\n",
       "      <th>gross margin percentage</th>\n",
       "      <th>gross income</th>\n",
       "      <th>Rating</th>\n",
       "    </tr>\n",
       "  </thead>\n",
       "  <tbody>\n",
       "    <tr>\n",
       "      <th>0</th>\n",
       "      <td>750-67-8428</td>\n",
       "      <td>A</td>\n",
       "      <td>Yangon</td>\n",
       "      <td>Member</td>\n",
       "      <td>Female</td>\n",
       "      <td>Health and beauty</td>\n",
       "      <td>74.69</td>\n",
       "      <td>7</td>\n",
       "      <td>26.1415</td>\n",
       "      <td>548.9715</td>\n",
       "      <td>01-05-2019</td>\n",
       "      <td>13:08</td>\n",
       "      <td>Ewallet</td>\n",
       "      <td>522.83</td>\n",
       "      <td>4.761905</td>\n",
       "      <td>26.1415</td>\n",
       "      <td>9.1</td>\n",
       "    </tr>\n",
       "    <tr>\n",
       "      <th>1</th>\n",
       "      <td>226-31-3081</td>\n",
       "      <td>C</td>\n",
       "      <td>Naypyitaw</td>\n",
       "      <td>Normal</td>\n",
       "      <td>Female</td>\n",
       "      <td>Electronic accessories</td>\n",
       "      <td>15.28</td>\n",
       "      <td>5</td>\n",
       "      <td>3.8200</td>\n",
       "      <td>80.22</td>\n",
       "      <td>03-08-2019</td>\n",
       "      <td>10:29</td>\n",
       "      <td>Cash</td>\n",
       "      <td>76.40</td>\n",
       "      <td>4.761905</td>\n",
       "      <td>3.8200</td>\n",
       "      <td>9.6</td>\n",
       "    </tr>\n",
       "    <tr>\n",
       "      <th>2</th>\n",
       "      <td>631-41-3108</td>\n",
       "      <td>A</td>\n",
       "      <td>Yangon</td>\n",
       "      <td>Normal</td>\n",
       "      <td>Male</td>\n",
       "      <td>Home and lifestyle</td>\n",
       "      <td>46.33</td>\n",
       "      <td>7</td>\n",
       "      <td>16.2155</td>\n",
       "      <td>340.5255</td>\n",
       "      <td>03-03-2019</td>\n",
       "      <td>13:23</td>\n",
       "      <td>Credit card</td>\n",
       "      <td>324.31</td>\n",
       "      <td>4.761905</td>\n",
       "      <td>16.2155</td>\n",
       "      <td>7.4</td>\n",
       "    </tr>\n",
       "    <tr>\n",
       "      <th>3</th>\n",
       "      <td>123-19-1176</td>\n",
       "      <td>A</td>\n",
       "      <td>Yangon</td>\n",
       "      <td>Member</td>\n",
       "      <td>Male</td>\n",
       "      <td>Health and beauty</td>\n",
       "      <td>58.22</td>\n",
       "      <td>8</td>\n",
       "      <td>23.2880</td>\n",
       "      <td>489.048</td>\n",
       "      <td>1/27/2019</td>\n",
       "      <td>20:33</td>\n",
       "      <td>Ewallet</td>\n",
       "      <td>465.76</td>\n",
       "      <td>4.761905</td>\n",
       "      <td>23.2880</td>\n",
       "      <td>8.4</td>\n",
       "    </tr>\n",
       "    <tr>\n",
       "      <th>4</th>\n",
       "      <td>373-73-7910</td>\n",
       "      <td>A</td>\n",
       "      <td>Yangon</td>\n",
       "      <td>Normal</td>\n",
       "      <td>Male</td>\n",
       "      <td>Sports and travel</td>\n",
       "      <td>86.31</td>\n",
       "      <td>7</td>\n",
       "      <td>30.2085</td>\n",
       "      <td>634.3785</td>\n",
       "      <td>02-08-2019</td>\n",
       "      <td>10:37</td>\n",
       "      <td>Ewallet</td>\n",
       "      <td>604.17</td>\n",
       "      <td>4.761905</td>\n",
       "      <td>30.2085</td>\n",
       "      <td>5.3</td>\n",
       "    </tr>\n",
       "  </tbody>\n",
       "</table>\n",
       "</div>"
      ],
      "text/plain": [
       "    Invoice ID Branch       City Customer type  Gender  \\\n",
       "0  750-67-8428      A     Yangon        Member  Female   \n",
       "1  226-31-3081      C  Naypyitaw        Normal  Female   \n",
       "2  631-41-3108      A     Yangon        Normal    Male   \n",
       "3  123-19-1176      A     Yangon        Member    Male   \n",
       "4  373-73-7910      A     Yangon        Normal    Male   \n",
       "\n",
       "             Product line  Unit price  Quantity   Tax 5%     Total  \\\n",
       "0       Health and beauty       74.69         7  26.1415  548.9715   \n",
       "1  Electronic accessories       15.28         5   3.8200     80.22   \n",
       "2      Home and lifestyle       46.33         7  16.2155  340.5255   \n",
       "3       Health and beauty       58.22         8  23.2880   489.048   \n",
       "4       Sports and travel       86.31         7  30.2085  634.3785   \n",
       "\n",
       "         Date   Time      Payment    cogs  gross margin percentage  \\\n",
       "0  01-05-2019  13:08      Ewallet  522.83                 4.761905   \n",
       "1  03-08-2019  10:29         Cash   76.40                 4.761905   \n",
       "2  03-03-2019  13:23  Credit card  324.31                 4.761905   \n",
       "3   1/27/2019  20:33      Ewallet  465.76                 4.761905   \n",
       "4  02-08-2019  10:37      Ewallet  604.17                 4.761905   \n",
       "\n",
       "   gross income  Rating  \n",
       "0       26.1415     9.1  \n",
       "1        3.8200     9.6  \n",
       "2       16.2155     7.4  \n",
       "3       23.2880     8.4  \n",
       "4       30.2085     5.3  "
      ]
     },
     "execution_count": 9,
     "metadata": {},
     "output_type": "execute_result"
    }
   ],
   "source": [
    "data.head()"
   ]
  },
  {
   "cell_type": "code",
   "execution_count": 10,
   "metadata": {},
   "outputs": [],
   "source": [
    "#lambda function to replace doubt quotes from Total\n",
    "\n",
    "data['Total'] = data['Total'].apply(lambda x:x.replace('\"',''))"
   ]
  },
  {
   "cell_type": "code",
   "execution_count": 11,
   "metadata": {},
   "outputs": [
    {
     "data": {
      "text/plain": [
       "Invoice ID                  object\n",
       "Branch                      object\n",
       "City                        object\n",
       "Customer type               object\n",
       "Gender                      object\n",
       "Product line                object\n",
       "Unit price                 float64\n",
       "Quantity                     int64\n",
       "Tax 5%                     float64\n",
       "Total                       object\n",
       "Date                        object\n",
       "Time                        object\n",
       "Payment                     object\n",
       "cogs                       float64\n",
       "gross margin percentage    float64\n",
       "gross income               float64\n",
       "Rating                     float64\n",
       "dtype: object"
      ]
     },
     "execution_count": 11,
     "metadata": {},
     "output_type": "execute_result"
    }
   ],
   "source": [
    "data.dtypes"
   ]
  },
  {
   "cell_type": "code",
   "execution_count": 12,
   "metadata": {},
   "outputs": [],
   "source": [
    "#astype function is used for type conversion\n",
    "\n",
    "data['Total']=data['Total'].astype('float64')"
   ]
  },
  {
   "cell_type": "code",
   "execution_count": 13,
   "metadata": {},
   "outputs": [
    {
     "data": {
      "text/plain": [
       "Invoice ID                  object\n",
       "Branch                      object\n",
       "City                        object\n",
       "Customer type               object\n",
       "Gender                      object\n",
       "Product line                object\n",
       "Unit price                 float64\n",
       "Quantity                     int64\n",
       "Tax 5%                     float64\n",
       "Total                      float64\n",
       "Date                        object\n",
       "Time                        object\n",
       "Payment                     object\n",
       "cogs                       float64\n",
       "gross margin percentage    float64\n",
       "gross income               float64\n",
       "Rating                     float64\n",
       "dtype: object"
      ]
     },
     "execution_count": 13,
     "metadata": {},
     "output_type": "execute_result"
    }
   ],
   "source": [
    "data.dtypes"
   ]
  },
  {
   "cell_type": "code",
   "execution_count": 14,
   "metadata": {},
   "outputs": [
    {
     "data": {
      "text/plain": [
       "Invoice ID                 0\n",
       "Branch                     0\n",
       "City                       0\n",
       "Customer type              0\n",
       "Gender                     0\n",
       "Product line               0\n",
       "Unit price                 0\n",
       "Quantity                   0\n",
       "Tax 5%                     0\n",
       "Total                      0\n",
       "Date                       0\n",
       "Time                       0\n",
       "Payment                    0\n",
       "cogs                       0\n",
       "gross margin percentage    0\n",
       "gross income               0\n",
       "Rating                     0\n",
       "dtype: int64"
      ]
     },
     "execution_count": 14,
     "metadata": {},
     "output_type": "execute_result"
    }
   ],
   "source": [
    "data.isna().sum()"
   ]
  },
  {
   "cell_type": "markdown",
   "metadata": {},
   "source": [
    "Date Cleaning and Managing is done"
   ]
  },
  {
   "cell_type": "markdown",
   "metadata": {},
   "source": [
    "#### Total number of customers visited"
   ]
  },
  {
   "cell_type": "code",
   "execution_count": 15,
   "metadata": {},
   "outputs": [
    {
     "name": "stdout",
     "output_type": "stream",
     "text": [
      "Total Number of Customer visits: 1000\n"
     ]
    }
   ],
   "source": [
    "num_cust_visits = data['Invoice ID'].nunique()\n",
    "\n",
    "print(\"Total Number of Customer visits:\",num_cust_visits)"
   ]
  },
  {
   "cell_type": "markdown",
   "metadata": {},
   "source": [
    "#### Most visited branch"
   ]
  },
  {
   "cell_type": "code",
   "execution_count": 16,
   "metadata": {},
   "outputs": [
    {
     "name": "stdout",
     "output_type": "stream",
     "text": [
      "Most Visited Branch: A\n"
     ]
    }
   ],
   "source": [
    "most_visited_branch = data['Branch'].mode()[0]\n",
    "print(\"Most Visited Branch:\",most_visited_branch)"
   ]
  },
  {
   "cell_type": "markdown",
   "metadata": {},
   "source": [
    "#### Least visited branch"
   ]
  },
  {
   "cell_type": "code",
   "execution_count": 17,
   "metadata": {},
   "outputs": [],
   "source": [
    "#Approach 1\n",
    "least_visited_branch_groupby = data.groupby('Branch').count()['Invoice ID']\n",
    "\n",
    "#Approach 2\n",
    "least_visited_branch_valuecounts = data['Branch'].value_counts()"
   ]
  },
  {
   "cell_type": "code",
   "execution_count": 18,
   "metadata": {},
   "outputs": [
    {
     "data": {
      "text/plain": [
       "Branch\n",
       "A    340\n",
       "B    332\n",
       "C    328\n",
       "Name: Invoice ID, dtype: int64"
      ]
     },
     "execution_count": 18,
     "metadata": {},
     "output_type": "execute_result"
    }
   ],
   "source": [
    "least_visited_branch_groupby"
   ]
  },
  {
   "cell_type": "code",
   "execution_count": 19,
   "metadata": {},
   "outputs": [
    {
     "data": {
      "text/plain": [
       "A    340\n",
       "B    332\n",
       "C    328\n",
       "Name: Branch, dtype: int64"
      ]
     },
     "execution_count": 19,
     "metadata": {},
     "output_type": "execute_result"
    }
   ],
   "source": [
    "least_visited_branch_valuecounts"
   ]
  },
  {
   "cell_type": "code",
   "execution_count": 20,
   "metadata": {},
   "outputs": [
    {
     "name": "stdout",
     "output_type": "stream",
     "text": [
      "Least Visited Branch: C\n"
     ]
    }
   ],
   "source": [
    "least_visited_branch_valuecounts = least_visited_branch_valuecounts.sort_values(ascending = True)\n",
    "least_visited_branch = least_visited_branch_valuecounts.index[0]\n",
    "print(\"Least Visited Branch:\",least_visited_branch)"
   ]
  },
  {
   "cell_type": "code",
   "execution_count": 21,
   "metadata": {},
   "outputs": [
    {
     "name": "stdout",
     "output_type": "stream",
     "text": [
      "Most Visited Branch: A\n"
     ]
    }
   ],
   "source": [
    "least_visited_branch_valuecounts = least_visited_branch_valuecounts.sort_values(ascending = False)\n",
    "least_visited_branch = least_visited_branch_valuecounts.index[0]\n",
    "print(\"Most Visited Branch:\",least_visited_branch)"
   ]
  },
  {
   "cell_type": "markdown",
   "metadata": {},
   "source": [
    "#### City vs Customer Analysis"
   ]
  },
  {
   "cell_type": "markdown",
   "metadata": {},
   "source": [
    "#### Cutomer Footfall"
   ]
  },
  {
   "cell_type": "code",
   "execution_count": 22,
   "metadata": {},
   "outputs": [
    {
     "name": "stdout",
     "output_type": "stream",
     "text": [
      "City\n",
      "Naypyitaw    328\n",
      "Mandalay     332\n",
      "Yangon       340\n",
      "Name: Invoice ID, dtype: int64\n"
     ]
    }
   ],
   "source": [
    "customer_footfall = data.groupby('City').count()['Invoice ID'].sort_values()\n",
    "print(customer_footfall)"
   ]
  },
  {
   "cell_type": "markdown",
   "metadata": {},
   "source": [
    "#### Average Spend"
   ]
  },
  {
   "cell_type": "code",
   "execution_count": 23,
   "metadata": {},
   "outputs": [
    {
     "data": {
      "text/plain": [
       "City\n",
       "Yangon       312.354031\n",
       "Mandalay     319.872506\n",
       "Naypyitaw    337.099715\n",
       "Name: Total, dtype: float64"
      ]
     },
     "execution_count": 23,
     "metadata": {},
     "output_type": "execute_result"
    }
   ],
   "source": [
    "average_spend = data.groupby('City').mean()['Total'].sort_values()\n",
    "average_spend"
   ]
  },
  {
   "cell_type": "markdown",
   "metadata": {},
   "source": [
    "#### Total Income by City"
   ]
  },
  {
   "cell_type": "code",
   "execution_count": 24,
   "metadata": {},
   "outputs": [
    {
     "data": {
      "text/plain": [
       "City\n",
       "Mandalay     106197.6720\n",
       "Naypyitaw    110568.7065\n",
       "Yangon       106200.3705\n",
       "Name: Total, dtype: float64"
      ]
     },
     "execution_count": 24,
     "metadata": {},
     "output_type": "execute_result"
    }
   ],
   "source": [
    "total_income_city = data.groupby('City').sum()['Total']\n",
    "total_income_city"
   ]
  },
  {
   "cell_type": "markdown",
   "metadata": {},
   "source": [
    "#### Customer Ratio based on Customer Type"
   ]
  },
  {
   "cell_type": "code",
   "execution_count": 25,
   "metadata": {},
   "outputs": [
    {
     "data": {
      "text/plain": [
       "Member    50.1\n",
       "Normal    49.9\n",
       "Name: Customer type, dtype: float64"
      ]
     },
     "execution_count": 25,
     "metadata": {},
     "output_type": "execute_result"
    }
   ],
   "source": [
    "customer_ratio = (data['Customer type'].value_counts() / data.shape[0])*100\n",
    "customer_ratio"
   ]
  },
  {
   "cell_type": "code",
   "execution_count": 26,
   "metadata": {},
   "outputs": [
    {
     "data": {
      "text/plain": [
       "Member    50.1\n",
       "Normal    49.9\n",
       "Name: Customer type, dtype: float64"
      ]
     },
     "execution_count": 26,
     "metadata": {},
     "output_type": "execute_result"
    }
   ],
   "source": [
    "#we are calculating the normalized count(ratio)\n",
    "customer_ratio = (data['Customer type'].value_counts(normalize = True))*100\n",
    "customer_ratio"
   ]
  },
  {
   "cell_type": "markdown",
   "metadata": {},
   "source": [
    "#### Most Sold Product line?"
   ]
  },
  {
   "cell_type": "code",
   "execution_count": 27,
   "metadata": {},
   "outputs": [
    {
     "name": "stdout",
     "output_type": "stream",
     "text": [
      "Most Sold Product Line :  Fashion accessories\n"
     ]
    }
   ],
   "source": [
    "most_sold_pl = data['Product line'].mode()[0]\n",
    "print(\"Most Sold Product Line : \",most_sold_pl)"
   ]
  },
  {
   "cell_type": "markdown",
   "metadata": {},
   "source": [
    "#### Costiest Product in the Shop"
   ]
  },
  {
   "cell_type": "code",
   "execution_count": 28,
   "metadata": {},
   "outputs": [
    {
     "name": "stdout",
     "output_type": "stream",
     "text": [
      "Costiest Product Line: Sports and travel  and Cost: 99.96\n"
     ]
    }
   ],
   "source": [
    "prod_line = data.groupby('Product line').max()['Unit price'].sort_values(ascending = False).index[0]\n",
    "cost = data.groupby('Product line').max()['Unit price'].sort_values(ascending = False)[0]\n",
    "\n",
    "print(\"Costiest Product Line:\",prod_line,\" and Cost:\",cost)"
   ]
  },
  {
   "cell_type": "markdown",
   "metadata": {},
   "source": [
    "#### Cheapest Product in the Shop"
   ]
  },
  {
   "cell_type": "code",
   "execution_count": 29,
   "metadata": {},
   "outputs": [
    {
     "name": "stdout",
     "output_type": "stream",
     "text": [
      "Costiest Product Line: Health and beauty  and Cost: 10.08\n"
     ]
    }
   ],
   "source": [
    "prod_line = data.groupby('Product line').min()['Unit price'].sort_values(ascending = True).index[0]\n",
    "cost = data.groupby('Product line').min()['Unit price'].sort_values(ascending = True)[0]\n",
    "\n",
    "print(\"Costiest Product Line:\",prod_line,\" and Cost:\",cost)"
   ]
  },
  {
   "cell_type": "markdown",
   "metadata": {},
   "source": [
    "#### Total Gross income"
   ]
  },
  {
   "cell_type": "code",
   "execution_count": 30,
   "metadata": {},
   "outputs": [
    {
     "name": "stdout",
     "output_type": "stream",
     "text": [
      "Total Gross Income :  322966.749\n"
     ]
    }
   ],
   "source": [
    "gross_income = data['Total'].sum()\n",
    "\n",
    "print(\"Total Gross Income : \",gross_income)"
   ]
  },
  {
   "cell_type": "markdown",
   "metadata": {},
   "source": [
    "#### Total Gross Income per Branch?"
   ]
  },
  {
   "cell_type": "code",
   "execution_count": 31,
   "metadata": {},
   "outputs": [
    {
     "name": "stdout",
     "output_type": "stream",
     "text": [
      "Branch\n",
      "A    106200.3705\n",
      "B    106197.6720\n",
      "C    110568.7065\n",
      "Name: Total, dtype: float64\n"
     ]
    }
   ],
   "source": [
    "gross_income_perbranch = data.groupby(\"Branch\").sum()['Total']\n",
    "\n",
    "print(gross_income_perbranch)"
   ]
  },
  {
   "cell_type": "markdown",
   "metadata": {},
   "source": [
    "#### Total Gross Income by Customer Type?"
   ]
  },
  {
   "cell_type": "code",
   "execution_count": 32,
   "metadata": {},
   "outputs": [
    {
     "name": "stdout",
     "output_type": "stream",
     "text": [
      "Customer type\n",
      "Member    164223.444\n",
      "Normal    158743.305\n",
      "Name: Total, dtype: float64\n"
     ]
    }
   ],
   "source": [
    "gross_income_per_customer = data.groupby(\"Customer type\").sum()['Total']\n",
    "\n",
    "print(gross_income_per_customer)"
   ]
  },
  {
   "cell_type": "markdown",
   "metadata": {},
   "source": [
    "#### Total gross income by Payment type"
   ]
  },
  {
   "cell_type": "code",
   "execution_count": 33,
   "metadata": {},
   "outputs": [
    {
     "name": "stdout",
     "output_type": "stream",
     "text": [
      "Payment\n",
      "Cash           112206.570\n",
      "Credit card    100767.072\n",
      "Ewallet        109993.107\n",
      "Name: Total, dtype: float64\n"
     ]
    }
   ],
   "source": [
    "gross_income_per_payment_type = data.groupby(\"Payment\").sum()['Total']\n",
    "\n",
    "print(gross_income_per_payment_type)"
   ]
  },
  {
   "cell_type": "markdown",
   "metadata": {},
   "source": [
    "#### Total Margin or Profit"
   ]
  },
  {
   "cell_type": "code",
   "execution_count": 34,
   "metadata": {},
   "outputs": [
    {
     "name": "stdout",
     "output_type": "stream",
     "text": [
      "Total Gross Income :  15379.368999999999\n"
     ]
    }
   ],
   "source": [
    "total_margin = data['gross income'].sum()\n",
    "print(\"Total Gross Income : \",total_margin)"
   ]
  },
  {
   "cell_type": "code",
   "execution_count": 35,
   "metadata": {},
   "outputs": [
    {
     "data": {
      "text/html": [
       "<div>\n",
       "<style scoped>\n",
       "    .dataframe tbody tr th:only-of-type {\n",
       "        vertical-align: middle;\n",
       "    }\n",
       "\n",
       "    .dataframe tbody tr th {\n",
       "        vertical-align: top;\n",
       "    }\n",
       "\n",
       "    .dataframe thead th {\n",
       "        text-align: right;\n",
       "    }\n",
       "</style>\n",
       "<table border=\"1\" class=\"dataframe\">\n",
       "  <thead>\n",
       "    <tr style=\"text-align: right;\">\n",
       "      <th></th>\n",
       "      <th>Invoice ID</th>\n",
       "      <th>Branch</th>\n",
       "      <th>City</th>\n",
       "      <th>Customer type</th>\n",
       "      <th>Gender</th>\n",
       "      <th>Product line</th>\n",
       "      <th>Unit price</th>\n",
       "      <th>Quantity</th>\n",
       "      <th>Tax 5%</th>\n",
       "      <th>Total</th>\n",
       "      <th>Date</th>\n",
       "      <th>Time</th>\n",
       "      <th>Payment</th>\n",
       "      <th>cogs</th>\n",
       "      <th>gross margin percentage</th>\n",
       "      <th>gross income</th>\n",
       "      <th>Rating</th>\n",
       "    </tr>\n",
       "  </thead>\n",
       "  <tbody>\n",
       "    <tr>\n",
       "      <th>0</th>\n",
       "      <td>750-67-8428</td>\n",
       "      <td>A</td>\n",
       "      <td>Yangon</td>\n",
       "      <td>Member</td>\n",
       "      <td>Female</td>\n",
       "      <td>Health and beauty</td>\n",
       "      <td>74.69</td>\n",
       "      <td>7</td>\n",
       "      <td>26.1415</td>\n",
       "      <td>548.9715</td>\n",
       "      <td>01-05-2019</td>\n",
       "      <td>13:08</td>\n",
       "      <td>Ewallet</td>\n",
       "      <td>522.83</td>\n",
       "      <td>4.761905</td>\n",
       "      <td>26.1415</td>\n",
       "      <td>9.1</td>\n",
       "    </tr>\n",
       "    <tr>\n",
       "      <th>1</th>\n",
       "      <td>226-31-3081</td>\n",
       "      <td>C</td>\n",
       "      <td>Naypyitaw</td>\n",
       "      <td>Normal</td>\n",
       "      <td>Female</td>\n",
       "      <td>Electronic accessories</td>\n",
       "      <td>15.28</td>\n",
       "      <td>5</td>\n",
       "      <td>3.8200</td>\n",
       "      <td>80.2200</td>\n",
       "      <td>03-08-2019</td>\n",
       "      <td>10:29</td>\n",
       "      <td>Cash</td>\n",
       "      <td>76.40</td>\n",
       "      <td>4.761905</td>\n",
       "      <td>3.8200</td>\n",
       "      <td>9.6</td>\n",
       "    </tr>\n",
       "    <tr>\n",
       "      <th>2</th>\n",
       "      <td>631-41-3108</td>\n",
       "      <td>A</td>\n",
       "      <td>Yangon</td>\n",
       "      <td>Normal</td>\n",
       "      <td>Male</td>\n",
       "      <td>Home and lifestyle</td>\n",
       "      <td>46.33</td>\n",
       "      <td>7</td>\n",
       "      <td>16.2155</td>\n",
       "      <td>340.5255</td>\n",
       "      <td>03-03-2019</td>\n",
       "      <td>13:23</td>\n",
       "      <td>Credit card</td>\n",
       "      <td>324.31</td>\n",
       "      <td>4.761905</td>\n",
       "      <td>16.2155</td>\n",
       "      <td>7.4</td>\n",
       "    </tr>\n",
       "    <tr>\n",
       "      <th>3</th>\n",
       "      <td>123-19-1176</td>\n",
       "      <td>A</td>\n",
       "      <td>Yangon</td>\n",
       "      <td>Member</td>\n",
       "      <td>Male</td>\n",
       "      <td>Health and beauty</td>\n",
       "      <td>58.22</td>\n",
       "      <td>8</td>\n",
       "      <td>23.2880</td>\n",
       "      <td>489.0480</td>\n",
       "      <td>1/27/2019</td>\n",
       "      <td>20:33</td>\n",
       "      <td>Ewallet</td>\n",
       "      <td>465.76</td>\n",
       "      <td>4.761905</td>\n",
       "      <td>23.2880</td>\n",
       "      <td>8.4</td>\n",
       "    </tr>\n",
       "    <tr>\n",
       "      <th>4</th>\n",
       "      <td>373-73-7910</td>\n",
       "      <td>A</td>\n",
       "      <td>Yangon</td>\n",
       "      <td>Normal</td>\n",
       "      <td>Male</td>\n",
       "      <td>Sports and travel</td>\n",
       "      <td>86.31</td>\n",
       "      <td>7</td>\n",
       "      <td>30.2085</td>\n",
       "      <td>634.3785</td>\n",
       "      <td>02-08-2019</td>\n",
       "      <td>10:37</td>\n",
       "      <td>Ewallet</td>\n",
       "      <td>604.17</td>\n",
       "      <td>4.761905</td>\n",
       "      <td>30.2085</td>\n",
       "      <td>5.3</td>\n",
       "    </tr>\n",
       "  </tbody>\n",
       "</table>\n",
       "</div>"
      ],
      "text/plain": [
       "    Invoice ID Branch       City Customer type  Gender  \\\n",
       "0  750-67-8428      A     Yangon        Member  Female   \n",
       "1  226-31-3081      C  Naypyitaw        Normal  Female   \n",
       "2  631-41-3108      A     Yangon        Normal    Male   \n",
       "3  123-19-1176      A     Yangon        Member    Male   \n",
       "4  373-73-7910      A     Yangon        Normal    Male   \n",
       "\n",
       "             Product line  Unit price  Quantity   Tax 5%     Total  \\\n",
       "0       Health and beauty       74.69         7  26.1415  548.9715   \n",
       "1  Electronic accessories       15.28         5   3.8200   80.2200   \n",
       "2      Home and lifestyle       46.33         7  16.2155  340.5255   \n",
       "3       Health and beauty       58.22         8  23.2880  489.0480   \n",
       "4       Sports and travel       86.31         7  30.2085  634.3785   \n",
       "\n",
       "         Date   Time      Payment    cogs  gross margin percentage  \\\n",
       "0  01-05-2019  13:08      Ewallet  522.83                 4.761905   \n",
       "1  03-08-2019  10:29         Cash   76.40                 4.761905   \n",
       "2  03-03-2019  13:23  Credit card  324.31                 4.761905   \n",
       "3   1/27/2019  20:33      Ewallet  465.76                 4.761905   \n",
       "4  02-08-2019  10:37      Ewallet  604.17                 4.761905   \n",
       "\n",
       "   gross income  Rating  \n",
       "0       26.1415     9.1  \n",
       "1        3.8200     9.6  \n",
       "2       16.2155     7.4  \n",
       "3       23.2880     8.4  \n",
       "4       30.2085     5.3  "
      ]
     },
     "execution_count": 35,
     "metadata": {},
     "output_type": "execute_result"
    }
   ],
   "source": [
    "data.head()"
   ]
  },
  {
   "cell_type": "markdown",
   "metadata": {},
   "source": [
    "#### convert the gross income into INR for every invoice ID"
   ]
  },
  {
   "cell_type": "code",
   "execution_count": 36,
   "metadata": {},
   "outputs": [],
   "source": [
    "#1 Myanmar Kyat = 0.055 Indian Rupee\n",
    "#create a new column as [gross income (INR)]\n",
    "\n",
    "data['gross income_INR']=data['gross income'].apply(lambda x : x*0.055)"
   ]
  },
  {
   "cell_type": "markdown",
   "metadata": {},
   "source": [
    "### For Loop over DataFrame"
   ]
  },
  {
   "cell_type": "code",
   "execution_count": 37,
   "metadata": {},
   "outputs": [],
   "source": [
    "data['gross income_INR'] = 0.0"
   ]
  },
  {
   "cell_type": "markdown",
   "metadata": {},
   "source": [
    "The outcome of data.iterrows() is a tuple consist of index and rowvalue"
   ]
  },
  {
   "cell_type": "code",
   "execution_count": 38,
   "metadata": {},
   "outputs": [
    {
     "name": "stderr",
     "output_type": "stream",
     "text": [
      "<ipython-input-38-3d8b6966bd24>:2: SettingWithCopyWarning: \n",
      "A value is trying to be set on a copy of a slice from a DataFrame\n",
      "\n",
      "See the caveats in the documentation: https://pandas.pydata.org/pandas-docs/stable/user_guide/indexing.html#returning-a-view-versus-a-copy\n",
      "  data['gross income_INR'][index] = data['gross income'][index] * 0.055\n"
     ]
    }
   ],
   "source": [
    "for index,row in data.iterrows():\n",
    "    data['gross income_INR'][index] = data['gross income'][index] * 0.055"
   ]
  },
  {
   "cell_type": "code",
   "execution_count": 39,
   "metadata": {},
   "outputs": [],
   "source": [
    "data['gross income_INR'] = data['gross income']*0.055"
   ]
  },
  {
   "cell_type": "code",
   "execution_count": 40,
   "metadata": {},
   "outputs": [
    {
     "data": {
      "text/html": [
       "<div>\n",
       "<style scoped>\n",
       "    .dataframe tbody tr th:only-of-type {\n",
       "        vertical-align: middle;\n",
       "    }\n",
       "\n",
       "    .dataframe tbody tr th {\n",
       "        vertical-align: top;\n",
       "    }\n",
       "\n",
       "    .dataframe thead th {\n",
       "        text-align: right;\n",
       "    }\n",
       "</style>\n",
       "<table border=\"1\" class=\"dataframe\">\n",
       "  <thead>\n",
       "    <tr style=\"text-align: right;\">\n",
       "      <th></th>\n",
       "      <th>Invoice ID</th>\n",
       "      <th>Branch</th>\n",
       "      <th>City</th>\n",
       "      <th>Customer type</th>\n",
       "      <th>Gender</th>\n",
       "      <th>Product line</th>\n",
       "      <th>Unit price</th>\n",
       "      <th>Quantity</th>\n",
       "      <th>Tax 5%</th>\n",
       "      <th>Total</th>\n",
       "      <th>Date</th>\n",
       "      <th>Time</th>\n",
       "      <th>Payment</th>\n",
       "      <th>cogs</th>\n",
       "      <th>gross margin percentage</th>\n",
       "      <th>gross income</th>\n",
       "      <th>Rating</th>\n",
       "      <th>gross income_INR</th>\n",
       "    </tr>\n",
       "  </thead>\n",
       "  <tbody>\n",
       "    <tr>\n",
       "      <th>0</th>\n",
       "      <td>750-67-8428</td>\n",
       "      <td>A</td>\n",
       "      <td>Yangon</td>\n",
       "      <td>Member</td>\n",
       "      <td>Female</td>\n",
       "      <td>Health and beauty</td>\n",
       "      <td>74.69</td>\n",
       "      <td>7</td>\n",
       "      <td>26.1415</td>\n",
       "      <td>548.9715</td>\n",
       "      <td>01-05-2019</td>\n",
       "      <td>13:08</td>\n",
       "      <td>Ewallet</td>\n",
       "      <td>522.83</td>\n",
       "      <td>4.761905</td>\n",
       "      <td>26.1415</td>\n",
       "      <td>9.1</td>\n",
       "      <td>1.437782</td>\n",
       "    </tr>\n",
       "    <tr>\n",
       "      <th>1</th>\n",
       "      <td>226-31-3081</td>\n",
       "      <td>C</td>\n",
       "      <td>Naypyitaw</td>\n",
       "      <td>Normal</td>\n",
       "      <td>Female</td>\n",
       "      <td>Electronic accessories</td>\n",
       "      <td>15.28</td>\n",
       "      <td>5</td>\n",
       "      <td>3.8200</td>\n",
       "      <td>80.2200</td>\n",
       "      <td>03-08-2019</td>\n",
       "      <td>10:29</td>\n",
       "      <td>Cash</td>\n",
       "      <td>76.40</td>\n",
       "      <td>4.761905</td>\n",
       "      <td>3.8200</td>\n",
       "      <td>9.6</td>\n",
       "      <td>0.210100</td>\n",
       "    </tr>\n",
       "    <tr>\n",
       "      <th>2</th>\n",
       "      <td>631-41-3108</td>\n",
       "      <td>A</td>\n",
       "      <td>Yangon</td>\n",
       "      <td>Normal</td>\n",
       "      <td>Male</td>\n",
       "      <td>Home and lifestyle</td>\n",
       "      <td>46.33</td>\n",
       "      <td>7</td>\n",
       "      <td>16.2155</td>\n",
       "      <td>340.5255</td>\n",
       "      <td>03-03-2019</td>\n",
       "      <td>13:23</td>\n",
       "      <td>Credit card</td>\n",
       "      <td>324.31</td>\n",
       "      <td>4.761905</td>\n",
       "      <td>16.2155</td>\n",
       "      <td>7.4</td>\n",
       "      <td>0.891852</td>\n",
       "    </tr>\n",
       "    <tr>\n",
       "      <th>3</th>\n",
       "      <td>123-19-1176</td>\n",
       "      <td>A</td>\n",
       "      <td>Yangon</td>\n",
       "      <td>Member</td>\n",
       "      <td>Male</td>\n",
       "      <td>Health and beauty</td>\n",
       "      <td>58.22</td>\n",
       "      <td>8</td>\n",
       "      <td>23.2880</td>\n",
       "      <td>489.0480</td>\n",
       "      <td>1/27/2019</td>\n",
       "      <td>20:33</td>\n",
       "      <td>Ewallet</td>\n",
       "      <td>465.76</td>\n",
       "      <td>4.761905</td>\n",
       "      <td>23.2880</td>\n",
       "      <td>8.4</td>\n",
       "      <td>1.280840</td>\n",
       "    </tr>\n",
       "    <tr>\n",
       "      <th>4</th>\n",
       "      <td>373-73-7910</td>\n",
       "      <td>A</td>\n",
       "      <td>Yangon</td>\n",
       "      <td>Normal</td>\n",
       "      <td>Male</td>\n",
       "      <td>Sports and travel</td>\n",
       "      <td>86.31</td>\n",
       "      <td>7</td>\n",
       "      <td>30.2085</td>\n",
       "      <td>634.3785</td>\n",
       "      <td>02-08-2019</td>\n",
       "      <td>10:37</td>\n",
       "      <td>Ewallet</td>\n",
       "      <td>604.17</td>\n",
       "      <td>4.761905</td>\n",
       "      <td>30.2085</td>\n",
       "      <td>5.3</td>\n",
       "      <td>1.661468</td>\n",
       "    </tr>\n",
       "  </tbody>\n",
       "</table>\n",
       "</div>"
      ],
      "text/plain": [
       "    Invoice ID Branch       City Customer type  Gender  \\\n",
       "0  750-67-8428      A     Yangon        Member  Female   \n",
       "1  226-31-3081      C  Naypyitaw        Normal  Female   \n",
       "2  631-41-3108      A     Yangon        Normal    Male   \n",
       "3  123-19-1176      A     Yangon        Member    Male   \n",
       "4  373-73-7910      A     Yangon        Normal    Male   \n",
       "\n",
       "             Product line  Unit price  Quantity   Tax 5%     Total  \\\n",
       "0       Health and beauty       74.69         7  26.1415  548.9715   \n",
       "1  Electronic accessories       15.28         5   3.8200   80.2200   \n",
       "2      Home and lifestyle       46.33         7  16.2155  340.5255   \n",
       "3       Health and beauty       58.22         8  23.2880  489.0480   \n",
       "4       Sports and travel       86.31         7  30.2085  634.3785   \n",
       "\n",
       "         Date   Time      Payment    cogs  gross margin percentage  \\\n",
       "0  01-05-2019  13:08      Ewallet  522.83                 4.761905   \n",
       "1  03-08-2019  10:29         Cash   76.40                 4.761905   \n",
       "2  03-03-2019  13:23  Credit card  324.31                 4.761905   \n",
       "3   1/27/2019  20:33      Ewallet  465.76                 4.761905   \n",
       "4  02-08-2019  10:37      Ewallet  604.17                 4.761905   \n",
       "\n",
       "   gross income  Rating  gross income_INR  \n",
       "0       26.1415     9.1          1.437782  \n",
       "1        3.8200     9.6          0.210100  \n",
       "2       16.2155     7.4          0.891852  \n",
       "3       23.2880     8.4          1.280840  \n",
       "4       30.2085     5.3          1.661468  "
      ]
     },
     "execution_count": 40,
     "metadata": {},
     "output_type": "execute_result"
    }
   ],
   "source": [
    "data.head()"
   ]
  },
  {
   "cell_type": "code",
   "execution_count": 41,
   "metadata": {},
   "outputs": [
    {
     "data": {
      "text/plain": [
       "(1000, 18)"
      ]
     },
     "execution_count": 41,
     "metadata": {},
     "output_type": "execute_result"
    }
   ],
   "source": [
    "data.shape"
   ]
  },
  {
   "cell_type": "code",
   "execution_count": 42,
   "metadata": {},
   "outputs": [
    {
     "data": {
      "text/plain": [
       "'13:08'"
      ]
     },
     "execution_count": 42,
     "metadata": {},
     "output_type": "execute_result"
    }
   ],
   "source": [
    "data['Time'][0]"
   ]
  },
  {
   "cell_type": "code",
   "execution_count": 43,
   "metadata": {},
   "outputs": [
    {
     "data": {
      "text/plain": [
       "'13'"
      ]
     },
     "execution_count": 43,
     "metadata": {},
     "output_type": "execute_result"
    }
   ],
   "source": [
    "data['Time'][0].split(\":\")[0]"
   ]
  },
  {
   "cell_type": "markdown",
   "metadata": {},
   "source": [
    "### Hourly Analyisis - Time Based Analysis"
   ]
  },
  {
   "cell_type": "code",
   "execution_count": 44,
   "metadata": {},
   "outputs": [],
   "source": [
    "#we can bucket based on hours\n",
    "data['hours']=data['Time'].apply(lambda x:x.split(\":\")[0])"
   ]
  },
  {
   "cell_type": "code",
   "execution_count": 45,
   "metadata": {},
   "outputs": [
    {
     "data": {
      "text/html": [
       "<div>\n",
       "<style scoped>\n",
       "    .dataframe tbody tr th:only-of-type {\n",
       "        vertical-align: middle;\n",
       "    }\n",
       "\n",
       "    .dataframe tbody tr th {\n",
       "        vertical-align: top;\n",
       "    }\n",
       "\n",
       "    .dataframe thead th {\n",
       "        text-align: right;\n",
       "    }\n",
       "</style>\n",
       "<table border=\"1\" class=\"dataframe\">\n",
       "  <thead>\n",
       "    <tr style=\"text-align: right;\">\n",
       "      <th></th>\n",
       "      <th>Invoice ID</th>\n",
       "      <th>Branch</th>\n",
       "      <th>City</th>\n",
       "      <th>Customer type</th>\n",
       "      <th>Gender</th>\n",
       "      <th>Product line</th>\n",
       "      <th>Unit price</th>\n",
       "      <th>Quantity</th>\n",
       "      <th>Tax 5%</th>\n",
       "      <th>Total</th>\n",
       "      <th>Date</th>\n",
       "      <th>Time</th>\n",
       "      <th>Payment</th>\n",
       "      <th>cogs</th>\n",
       "      <th>gross margin percentage</th>\n",
       "      <th>gross income</th>\n",
       "      <th>Rating</th>\n",
       "      <th>gross income_INR</th>\n",
       "      <th>hours</th>\n",
       "    </tr>\n",
       "  </thead>\n",
       "  <tbody>\n",
       "    <tr>\n",
       "      <th>0</th>\n",
       "      <td>750-67-8428</td>\n",
       "      <td>A</td>\n",
       "      <td>Yangon</td>\n",
       "      <td>Member</td>\n",
       "      <td>Female</td>\n",
       "      <td>Health and beauty</td>\n",
       "      <td>74.69</td>\n",
       "      <td>7</td>\n",
       "      <td>26.1415</td>\n",
       "      <td>548.9715</td>\n",
       "      <td>01-05-2019</td>\n",
       "      <td>13:08</td>\n",
       "      <td>Ewallet</td>\n",
       "      <td>522.83</td>\n",
       "      <td>4.761905</td>\n",
       "      <td>26.1415</td>\n",
       "      <td>9.1</td>\n",
       "      <td>1.437782</td>\n",
       "      <td>13</td>\n",
       "    </tr>\n",
       "    <tr>\n",
       "      <th>1</th>\n",
       "      <td>226-31-3081</td>\n",
       "      <td>C</td>\n",
       "      <td>Naypyitaw</td>\n",
       "      <td>Normal</td>\n",
       "      <td>Female</td>\n",
       "      <td>Electronic accessories</td>\n",
       "      <td>15.28</td>\n",
       "      <td>5</td>\n",
       "      <td>3.8200</td>\n",
       "      <td>80.2200</td>\n",
       "      <td>03-08-2019</td>\n",
       "      <td>10:29</td>\n",
       "      <td>Cash</td>\n",
       "      <td>76.40</td>\n",
       "      <td>4.761905</td>\n",
       "      <td>3.8200</td>\n",
       "      <td>9.6</td>\n",
       "      <td>0.210100</td>\n",
       "      <td>10</td>\n",
       "    </tr>\n",
       "    <tr>\n",
       "      <th>2</th>\n",
       "      <td>631-41-3108</td>\n",
       "      <td>A</td>\n",
       "      <td>Yangon</td>\n",
       "      <td>Normal</td>\n",
       "      <td>Male</td>\n",
       "      <td>Home and lifestyle</td>\n",
       "      <td>46.33</td>\n",
       "      <td>7</td>\n",
       "      <td>16.2155</td>\n",
       "      <td>340.5255</td>\n",
       "      <td>03-03-2019</td>\n",
       "      <td>13:23</td>\n",
       "      <td>Credit card</td>\n",
       "      <td>324.31</td>\n",
       "      <td>4.761905</td>\n",
       "      <td>16.2155</td>\n",
       "      <td>7.4</td>\n",
       "      <td>0.891852</td>\n",
       "      <td>13</td>\n",
       "    </tr>\n",
       "    <tr>\n",
       "      <th>3</th>\n",
       "      <td>123-19-1176</td>\n",
       "      <td>A</td>\n",
       "      <td>Yangon</td>\n",
       "      <td>Member</td>\n",
       "      <td>Male</td>\n",
       "      <td>Health and beauty</td>\n",
       "      <td>58.22</td>\n",
       "      <td>8</td>\n",
       "      <td>23.2880</td>\n",
       "      <td>489.0480</td>\n",
       "      <td>1/27/2019</td>\n",
       "      <td>20:33</td>\n",
       "      <td>Ewallet</td>\n",
       "      <td>465.76</td>\n",
       "      <td>4.761905</td>\n",
       "      <td>23.2880</td>\n",
       "      <td>8.4</td>\n",
       "      <td>1.280840</td>\n",
       "      <td>20</td>\n",
       "    </tr>\n",
       "    <tr>\n",
       "      <th>4</th>\n",
       "      <td>373-73-7910</td>\n",
       "      <td>A</td>\n",
       "      <td>Yangon</td>\n",
       "      <td>Normal</td>\n",
       "      <td>Male</td>\n",
       "      <td>Sports and travel</td>\n",
       "      <td>86.31</td>\n",
       "      <td>7</td>\n",
       "      <td>30.2085</td>\n",
       "      <td>634.3785</td>\n",
       "      <td>02-08-2019</td>\n",
       "      <td>10:37</td>\n",
       "      <td>Ewallet</td>\n",
       "      <td>604.17</td>\n",
       "      <td>4.761905</td>\n",
       "      <td>30.2085</td>\n",
       "      <td>5.3</td>\n",
       "      <td>1.661468</td>\n",
       "      <td>10</td>\n",
       "    </tr>\n",
       "  </tbody>\n",
       "</table>\n",
       "</div>"
      ],
      "text/plain": [
       "    Invoice ID Branch       City Customer type  Gender  \\\n",
       "0  750-67-8428      A     Yangon        Member  Female   \n",
       "1  226-31-3081      C  Naypyitaw        Normal  Female   \n",
       "2  631-41-3108      A     Yangon        Normal    Male   \n",
       "3  123-19-1176      A     Yangon        Member    Male   \n",
       "4  373-73-7910      A     Yangon        Normal    Male   \n",
       "\n",
       "             Product line  Unit price  Quantity   Tax 5%     Total  \\\n",
       "0       Health and beauty       74.69         7  26.1415  548.9715   \n",
       "1  Electronic accessories       15.28         5   3.8200   80.2200   \n",
       "2      Home and lifestyle       46.33         7  16.2155  340.5255   \n",
       "3       Health and beauty       58.22         8  23.2880  489.0480   \n",
       "4       Sports and travel       86.31         7  30.2085  634.3785   \n",
       "\n",
       "         Date   Time      Payment    cogs  gross margin percentage  \\\n",
       "0  01-05-2019  13:08      Ewallet  522.83                 4.761905   \n",
       "1  03-08-2019  10:29         Cash   76.40                 4.761905   \n",
       "2  03-03-2019  13:23  Credit card  324.31                 4.761905   \n",
       "3   1/27/2019  20:33      Ewallet  465.76                 4.761905   \n",
       "4  02-08-2019  10:37      Ewallet  604.17                 4.761905   \n",
       "\n",
       "   gross income  Rating  gross income_INR hours  \n",
       "0       26.1415     9.1          1.437782    13  \n",
       "1        3.8200     9.6          0.210100    10  \n",
       "2       16.2155     7.4          0.891852    13  \n",
       "3       23.2880     8.4          1.280840    20  \n",
       "4       30.2085     5.3          1.661468    10  "
      ]
     },
     "execution_count": 45,
     "metadata": {},
     "output_type": "execute_result"
    }
   ],
   "source": [
    "data.head()"
   ]
  },
  {
   "cell_type": "code",
   "execution_count": 46,
   "metadata": {},
   "outputs": [
    {
     "data": {
      "text/plain": [
       "Invoice ID                  object\n",
       "Branch                      object\n",
       "City                        object\n",
       "Customer type               object\n",
       "Gender                      object\n",
       "Product line                object\n",
       "Unit price                 float64\n",
       "Quantity                     int64\n",
       "Tax 5%                     float64\n",
       "Total                      float64\n",
       "Date                        object\n",
       "Time                        object\n",
       "Payment                     object\n",
       "cogs                       float64\n",
       "gross margin percentage    float64\n",
       "gross income               float64\n",
       "Rating                     float64\n",
       "gross income_INR           float64\n",
       "hours                       object\n",
       "dtype: object"
      ]
     },
     "execution_count": 46,
     "metadata": {},
     "output_type": "execute_result"
    }
   ],
   "source": [
    "data.dtypes"
   ]
  },
  {
   "cell_type": "code",
   "execution_count": 47,
   "metadata": {},
   "outputs": [],
   "source": [
    "#Method1 - using astype\n",
    "\n",
    "data['actualDate'] = data['Date'].astype('datetime64')"
   ]
  },
  {
   "cell_type": "code",
   "execution_count": 48,
   "metadata": {},
   "outputs": [
    {
     "data": {
      "text/html": [
       "<div>\n",
       "<style scoped>\n",
       "    .dataframe tbody tr th:only-of-type {\n",
       "        vertical-align: middle;\n",
       "    }\n",
       "\n",
       "    .dataframe tbody tr th {\n",
       "        vertical-align: top;\n",
       "    }\n",
       "\n",
       "    .dataframe thead th {\n",
       "        text-align: right;\n",
       "    }\n",
       "</style>\n",
       "<table border=\"1\" class=\"dataframe\">\n",
       "  <thead>\n",
       "    <tr style=\"text-align: right;\">\n",
       "      <th></th>\n",
       "      <th>Invoice ID</th>\n",
       "      <th>Branch</th>\n",
       "      <th>City</th>\n",
       "      <th>Customer type</th>\n",
       "      <th>Gender</th>\n",
       "      <th>Product line</th>\n",
       "      <th>Unit price</th>\n",
       "      <th>Quantity</th>\n",
       "      <th>Tax 5%</th>\n",
       "      <th>Total</th>\n",
       "      <th>Date</th>\n",
       "      <th>Time</th>\n",
       "      <th>Payment</th>\n",
       "      <th>cogs</th>\n",
       "      <th>gross margin percentage</th>\n",
       "      <th>gross income</th>\n",
       "      <th>Rating</th>\n",
       "      <th>gross income_INR</th>\n",
       "      <th>hours</th>\n",
       "      <th>actualDate</th>\n",
       "    </tr>\n",
       "  </thead>\n",
       "  <tbody>\n",
       "    <tr>\n",
       "      <th>0</th>\n",
       "      <td>750-67-8428</td>\n",
       "      <td>A</td>\n",
       "      <td>Yangon</td>\n",
       "      <td>Member</td>\n",
       "      <td>Female</td>\n",
       "      <td>Health and beauty</td>\n",
       "      <td>74.69</td>\n",
       "      <td>7</td>\n",
       "      <td>26.1415</td>\n",
       "      <td>548.9715</td>\n",
       "      <td>01-05-2019</td>\n",
       "      <td>13:08</td>\n",
       "      <td>Ewallet</td>\n",
       "      <td>522.83</td>\n",
       "      <td>4.761905</td>\n",
       "      <td>26.1415</td>\n",
       "      <td>9.1</td>\n",
       "      <td>1.437782</td>\n",
       "      <td>13</td>\n",
       "      <td>2019-01-05</td>\n",
       "    </tr>\n",
       "    <tr>\n",
       "      <th>1</th>\n",
       "      <td>226-31-3081</td>\n",
       "      <td>C</td>\n",
       "      <td>Naypyitaw</td>\n",
       "      <td>Normal</td>\n",
       "      <td>Female</td>\n",
       "      <td>Electronic accessories</td>\n",
       "      <td>15.28</td>\n",
       "      <td>5</td>\n",
       "      <td>3.8200</td>\n",
       "      <td>80.2200</td>\n",
       "      <td>03-08-2019</td>\n",
       "      <td>10:29</td>\n",
       "      <td>Cash</td>\n",
       "      <td>76.40</td>\n",
       "      <td>4.761905</td>\n",
       "      <td>3.8200</td>\n",
       "      <td>9.6</td>\n",
       "      <td>0.210100</td>\n",
       "      <td>10</td>\n",
       "      <td>2019-03-08</td>\n",
       "    </tr>\n",
       "    <tr>\n",
       "      <th>2</th>\n",
       "      <td>631-41-3108</td>\n",
       "      <td>A</td>\n",
       "      <td>Yangon</td>\n",
       "      <td>Normal</td>\n",
       "      <td>Male</td>\n",
       "      <td>Home and lifestyle</td>\n",
       "      <td>46.33</td>\n",
       "      <td>7</td>\n",
       "      <td>16.2155</td>\n",
       "      <td>340.5255</td>\n",
       "      <td>03-03-2019</td>\n",
       "      <td>13:23</td>\n",
       "      <td>Credit card</td>\n",
       "      <td>324.31</td>\n",
       "      <td>4.761905</td>\n",
       "      <td>16.2155</td>\n",
       "      <td>7.4</td>\n",
       "      <td>0.891852</td>\n",
       "      <td>13</td>\n",
       "      <td>2019-03-03</td>\n",
       "    </tr>\n",
       "    <tr>\n",
       "      <th>3</th>\n",
       "      <td>123-19-1176</td>\n",
       "      <td>A</td>\n",
       "      <td>Yangon</td>\n",
       "      <td>Member</td>\n",
       "      <td>Male</td>\n",
       "      <td>Health and beauty</td>\n",
       "      <td>58.22</td>\n",
       "      <td>8</td>\n",
       "      <td>23.2880</td>\n",
       "      <td>489.0480</td>\n",
       "      <td>1/27/2019</td>\n",
       "      <td>20:33</td>\n",
       "      <td>Ewallet</td>\n",
       "      <td>465.76</td>\n",
       "      <td>4.761905</td>\n",
       "      <td>23.2880</td>\n",
       "      <td>8.4</td>\n",
       "      <td>1.280840</td>\n",
       "      <td>20</td>\n",
       "      <td>2019-01-27</td>\n",
       "    </tr>\n",
       "    <tr>\n",
       "      <th>4</th>\n",
       "      <td>373-73-7910</td>\n",
       "      <td>A</td>\n",
       "      <td>Yangon</td>\n",
       "      <td>Normal</td>\n",
       "      <td>Male</td>\n",
       "      <td>Sports and travel</td>\n",
       "      <td>86.31</td>\n",
       "      <td>7</td>\n",
       "      <td>30.2085</td>\n",
       "      <td>634.3785</td>\n",
       "      <td>02-08-2019</td>\n",
       "      <td>10:37</td>\n",
       "      <td>Ewallet</td>\n",
       "      <td>604.17</td>\n",
       "      <td>4.761905</td>\n",
       "      <td>30.2085</td>\n",
       "      <td>5.3</td>\n",
       "      <td>1.661468</td>\n",
       "      <td>10</td>\n",
       "      <td>2019-02-08</td>\n",
       "    </tr>\n",
       "  </tbody>\n",
       "</table>\n",
       "</div>"
      ],
      "text/plain": [
       "    Invoice ID Branch       City Customer type  Gender  \\\n",
       "0  750-67-8428      A     Yangon        Member  Female   \n",
       "1  226-31-3081      C  Naypyitaw        Normal  Female   \n",
       "2  631-41-3108      A     Yangon        Normal    Male   \n",
       "3  123-19-1176      A     Yangon        Member    Male   \n",
       "4  373-73-7910      A     Yangon        Normal    Male   \n",
       "\n",
       "             Product line  Unit price  Quantity   Tax 5%     Total  \\\n",
       "0       Health and beauty       74.69         7  26.1415  548.9715   \n",
       "1  Electronic accessories       15.28         5   3.8200   80.2200   \n",
       "2      Home and lifestyle       46.33         7  16.2155  340.5255   \n",
       "3       Health and beauty       58.22         8  23.2880  489.0480   \n",
       "4       Sports and travel       86.31         7  30.2085  634.3785   \n",
       "\n",
       "         Date   Time      Payment    cogs  gross margin percentage  \\\n",
       "0  01-05-2019  13:08      Ewallet  522.83                 4.761905   \n",
       "1  03-08-2019  10:29         Cash   76.40                 4.761905   \n",
       "2  03-03-2019  13:23  Credit card  324.31                 4.761905   \n",
       "3   1/27/2019  20:33      Ewallet  465.76                 4.761905   \n",
       "4  02-08-2019  10:37      Ewallet  604.17                 4.761905   \n",
       "\n",
       "   gross income  Rating  gross income_INR hours actualDate  \n",
       "0       26.1415     9.1          1.437782    13 2019-01-05  \n",
       "1        3.8200     9.6          0.210100    10 2019-03-08  \n",
       "2       16.2155     7.4          0.891852    13 2019-03-03  \n",
       "3       23.2880     8.4          1.280840    20 2019-01-27  \n",
       "4       30.2085     5.3          1.661468    10 2019-02-08  "
      ]
     },
     "execution_count": 48,
     "metadata": {},
     "output_type": "execute_result"
    }
   ],
   "source": [
    "data.head()"
   ]
  },
  {
   "cell_type": "code",
   "execution_count": 49,
   "metadata": {},
   "outputs": [
    {
     "data": {
      "text/plain": [
       "Invoice ID                         object\n",
       "Branch                             object\n",
       "City                               object\n",
       "Customer type                      object\n",
       "Gender                             object\n",
       "Product line                       object\n",
       "Unit price                        float64\n",
       "Quantity                            int64\n",
       "Tax 5%                            float64\n",
       "Total                             float64\n",
       "Date                               object\n",
       "Time                               object\n",
       "Payment                            object\n",
       "cogs                              float64\n",
       "gross margin percentage           float64\n",
       "gross income                      float64\n",
       "Rating                            float64\n",
       "gross income_INR                  float64\n",
       "hours                              object\n",
       "actualDate                 datetime64[ns]\n",
       "dtype: object"
      ]
     },
     "execution_count": 49,
     "metadata": {},
     "output_type": "execute_result"
    }
   ],
   "source": [
    "data.dtypes"
   ]
  },
  {
   "cell_type": "code",
   "execution_count": 50,
   "metadata": {},
   "outputs": [],
   "source": [
    "data['Month']=data['actualDate'].apply(lambda x : x.strftime(\"%B\"))  # %B used for actual month name # %m used for month number"
   ]
  },
  {
   "cell_type": "code",
   "execution_count": 51,
   "metadata": {},
   "outputs": [
    {
     "data": {
      "text/html": [
       "<div>\n",
       "<style scoped>\n",
       "    .dataframe tbody tr th:only-of-type {\n",
       "        vertical-align: middle;\n",
       "    }\n",
       "\n",
       "    .dataframe tbody tr th {\n",
       "        vertical-align: top;\n",
       "    }\n",
       "\n",
       "    .dataframe thead th {\n",
       "        text-align: right;\n",
       "    }\n",
       "</style>\n",
       "<table border=\"1\" class=\"dataframe\">\n",
       "  <thead>\n",
       "    <tr style=\"text-align: right;\">\n",
       "      <th></th>\n",
       "      <th>Invoice ID</th>\n",
       "      <th>Branch</th>\n",
       "      <th>City</th>\n",
       "      <th>Customer type</th>\n",
       "      <th>Gender</th>\n",
       "      <th>Product line</th>\n",
       "      <th>Unit price</th>\n",
       "      <th>Quantity</th>\n",
       "      <th>Tax 5%</th>\n",
       "      <th>Total</th>\n",
       "      <th>...</th>\n",
       "      <th>Time</th>\n",
       "      <th>Payment</th>\n",
       "      <th>cogs</th>\n",
       "      <th>gross margin percentage</th>\n",
       "      <th>gross income</th>\n",
       "      <th>Rating</th>\n",
       "      <th>gross income_INR</th>\n",
       "      <th>hours</th>\n",
       "      <th>actualDate</th>\n",
       "      <th>Month</th>\n",
       "    </tr>\n",
       "  </thead>\n",
       "  <tbody>\n",
       "    <tr>\n",
       "      <th>0</th>\n",
       "      <td>750-67-8428</td>\n",
       "      <td>A</td>\n",
       "      <td>Yangon</td>\n",
       "      <td>Member</td>\n",
       "      <td>Female</td>\n",
       "      <td>Health and beauty</td>\n",
       "      <td>74.69</td>\n",
       "      <td>7</td>\n",
       "      <td>26.1415</td>\n",
       "      <td>548.9715</td>\n",
       "      <td>...</td>\n",
       "      <td>13:08</td>\n",
       "      <td>Ewallet</td>\n",
       "      <td>522.83</td>\n",
       "      <td>4.761905</td>\n",
       "      <td>26.1415</td>\n",
       "      <td>9.1</td>\n",
       "      <td>1.437782</td>\n",
       "      <td>13</td>\n",
       "      <td>2019-01-05</td>\n",
       "      <td>January</td>\n",
       "    </tr>\n",
       "    <tr>\n",
       "      <th>1</th>\n",
       "      <td>226-31-3081</td>\n",
       "      <td>C</td>\n",
       "      <td>Naypyitaw</td>\n",
       "      <td>Normal</td>\n",
       "      <td>Female</td>\n",
       "      <td>Electronic accessories</td>\n",
       "      <td>15.28</td>\n",
       "      <td>5</td>\n",
       "      <td>3.8200</td>\n",
       "      <td>80.2200</td>\n",
       "      <td>...</td>\n",
       "      <td>10:29</td>\n",
       "      <td>Cash</td>\n",
       "      <td>76.40</td>\n",
       "      <td>4.761905</td>\n",
       "      <td>3.8200</td>\n",
       "      <td>9.6</td>\n",
       "      <td>0.210100</td>\n",
       "      <td>10</td>\n",
       "      <td>2019-03-08</td>\n",
       "      <td>March</td>\n",
       "    </tr>\n",
       "    <tr>\n",
       "      <th>2</th>\n",
       "      <td>631-41-3108</td>\n",
       "      <td>A</td>\n",
       "      <td>Yangon</td>\n",
       "      <td>Normal</td>\n",
       "      <td>Male</td>\n",
       "      <td>Home and lifestyle</td>\n",
       "      <td>46.33</td>\n",
       "      <td>7</td>\n",
       "      <td>16.2155</td>\n",
       "      <td>340.5255</td>\n",
       "      <td>...</td>\n",
       "      <td>13:23</td>\n",
       "      <td>Credit card</td>\n",
       "      <td>324.31</td>\n",
       "      <td>4.761905</td>\n",
       "      <td>16.2155</td>\n",
       "      <td>7.4</td>\n",
       "      <td>0.891852</td>\n",
       "      <td>13</td>\n",
       "      <td>2019-03-03</td>\n",
       "      <td>March</td>\n",
       "    </tr>\n",
       "    <tr>\n",
       "      <th>3</th>\n",
       "      <td>123-19-1176</td>\n",
       "      <td>A</td>\n",
       "      <td>Yangon</td>\n",
       "      <td>Member</td>\n",
       "      <td>Male</td>\n",
       "      <td>Health and beauty</td>\n",
       "      <td>58.22</td>\n",
       "      <td>8</td>\n",
       "      <td>23.2880</td>\n",
       "      <td>489.0480</td>\n",
       "      <td>...</td>\n",
       "      <td>20:33</td>\n",
       "      <td>Ewallet</td>\n",
       "      <td>465.76</td>\n",
       "      <td>4.761905</td>\n",
       "      <td>23.2880</td>\n",
       "      <td>8.4</td>\n",
       "      <td>1.280840</td>\n",
       "      <td>20</td>\n",
       "      <td>2019-01-27</td>\n",
       "      <td>January</td>\n",
       "    </tr>\n",
       "    <tr>\n",
       "      <th>4</th>\n",
       "      <td>373-73-7910</td>\n",
       "      <td>A</td>\n",
       "      <td>Yangon</td>\n",
       "      <td>Normal</td>\n",
       "      <td>Male</td>\n",
       "      <td>Sports and travel</td>\n",
       "      <td>86.31</td>\n",
       "      <td>7</td>\n",
       "      <td>30.2085</td>\n",
       "      <td>634.3785</td>\n",
       "      <td>...</td>\n",
       "      <td>10:37</td>\n",
       "      <td>Ewallet</td>\n",
       "      <td>604.17</td>\n",
       "      <td>4.761905</td>\n",
       "      <td>30.2085</td>\n",
       "      <td>5.3</td>\n",
       "      <td>1.661468</td>\n",
       "      <td>10</td>\n",
       "      <td>2019-02-08</td>\n",
       "      <td>February</td>\n",
       "    </tr>\n",
       "  </tbody>\n",
       "</table>\n",
       "<p>5 rows × 21 columns</p>\n",
       "</div>"
      ],
      "text/plain": [
       "    Invoice ID Branch       City Customer type  Gender  \\\n",
       "0  750-67-8428      A     Yangon        Member  Female   \n",
       "1  226-31-3081      C  Naypyitaw        Normal  Female   \n",
       "2  631-41-3108      A     Yangon        Normal    Male   \n",
       "3  123-19-1176      A     Yangon        Member    Male   \n",
       "4  373-73-7910      A     Yangon        Normal    Male   \n",
       "\n",
       "             Product line  Unit price  Quantity   Tax 5%     Total  ...  \\\n",
       "0       Health and beauty       74.69         7  26.1415  548.9715  ...   \n",
       "1  Electronic accessories       15.28         5   3.8200   80.2200  ...   \n",
       "2      Home and lifestyle       46.33         7  16.2155  340.5255  ...   \n",
       "3       Health and beauty       58.22         8  23.2880  489.0480  ...   \n",
       "4       Sports and travel       86.31         7  30.2085  634.3785  ...   \n",
       "\n",
       "    Time      Payment    cogs  gross margin percentage  gross income  Rating  \\\n",
       "0  13:08      Ewallet  522.83                 4.761905       26.1415     9.1   \n",
       "1  10:29         Cash   76.40                 4.761905        3.8200     9.6   \n",
       "2  13:23  Credit card  324.31                 4.761905       16.2155     7.4   \n",
       "3  20:33      Ewallet  465.76                 4.761905       23.2880     8.4   \n",
       "4  10:37      Ewallet  604.17                 4.761905       30.2085     5.3   \n",
       "\n",
       "   gross income_INR  hours actualDate     Month  \n",
       "0          1.437782     13 2019-01-05   January  \n",
       "1          0.210100     10 2019-03-08     March  \n",
       "2          0.891852     13 2019-03-03     March  \n",
       "3          1.280840     20 2019-01-27   January  \n",
       "4          1.661468     10 2019-02-08  February  \n",
       "\n",
       "[5 rows x 21 columns]"
      ]
     },
     "execution_count": 51,
     "metadata": {},
     "output_type": "execute_result"
    }
   ],
   "source": [
    "data.head()"
   ]
  },
  {
   "cell_type": "code",
   "execution_count": 52,
   "metadata": {},
   "outputs": [],
   "source": [
    "import calendar\n",
    "\n",
    "data['WeekDay']=data['actualDate'].apply(lambda x : calendar.day_name[x.weekday()])"
   ]
  },
  {
   "cell_type": "code",
   "execution_count": 53,
   "metadata": {},
   "outputs": [
    {
     "data": {
      "text/html": [
       "<div>\n",
       "<style scoped>\n",
       "    .dataframe tbody tr th:only-of-type {\n",
       "        vertical-align: middle;\n",
       "    }\n",
       "\n",
       "    .dataframe tbody tr th {\n",
       "        vertical-align: top;\n",
       "    }\n",
       "\n",
       "    .dataframe thead th {\n",
       "        text-align: right;\n",
       "    }\n",
       "</style>\n",
       "<table border=\"1\" class=\"dataframe\">\n",
       "  <thead>\n",
       "    <tr style=\"text-align: right;\">\n",
       "      <th></th>\n",
       "      <th>Invoice ID</th>\n",
       "      <th>Branch</th>\n",
       "      <th>City</th>\n",
       "      <th>Customer type</th>\n",
       "      <th>Gender</th>\n",
       "      <th>Product line</th>\n",
       "      <th>Unit price</th>\n",
       "      <th>Quantity</th>\n",
       "      <th>Tax 5%</th>\n",
       "      <th>Total</th>\n",
       "      <th>...</th>\n",
       "      <th>Payment</th>\n",
       "      <th>cogs</th>\n",
       "      <th>gross margin percentage</th>\n",
       "      <th>gross income</th>\n",
       "      <th>Rating</th>\n",
       "      <th>gross income_INR</th>\n",
       "      <th>hours</th>\n",
       "      <th>actualDate</th>\n",
       "      <th>Month</th>\n",
       "      <th>WeekDay</th>\n",
       "    </tr>\n",
       "  </thead>\n",
       "  <tbody>\n",
       "    <tr>\n",
       "      <th>0</th>\n",
       "      <td>750-67-8428</td>\n",
       "      <td>A</td>\n",
       "      <td>Yangon</td>\n",
       "      <td>Member</td>\n",
       "      <td>Female</td>\n",
       "      <td>Health and beauty</td>\n",
       "      <td>74.69</td>\n",
       "      <td>7</td>\n",
       "      <td>26.1415</td>\n",
       "      <td>548.9715</td>\n",
       "      <td>...</td>\n",
       "      <td>Ewallet</td>\n",
       "      <td>522.83</td>\n",
       "      <td>4.761905</td>\n",
       "      <td>26.1415</td>\n",
       "      <td>9.1</td>\n",
       "      <td>1.437782</td>\n",
       "      <td>13</td>\n",
       "      <td>2019-01-05</td>\n",
       "      <td>January</td>\n",
       "      <td>Saturday</td>\n",
       "    </tr>\n",
       "    <tr>\n",
       "      <th>1</th>\n",
       "      <td>226-31-3081</td>\n",
       "      <td>C</td>\n",
       "      <td>Naypyitaw</td>\n",
       "      <td>Normal</td>\n",
       "      <td>Female</td>\n",
       "      <td>Electronic accessories</td>\n",
       "      <td>15.28</td>\n",
       "      <td>5</td>\n",
       "      <td>3.8200</td>\n",
       "      <td>80.2200</td>\n",
       "      <td>...</td>\n",
       "      <td>Cash</td>\n",
       "      <td>76.40</td>\n",
       "      <td>4.761905</td>\n",
       "      <td>3.8200</td>\n",
       "      <td>9.6</td>\n",
       "      <td>0.210100</td>\n",
       "      <td>10</td>\n",
       "      <td>2019-03-08</td>\n",
       "      <td>March</td>\n",
       "      <td>Friday</td>\n",
       "    </tr>\n",
       "    <tr>\n",
       "      <th>2</th>\n",
       "      <td>631-41-3108</td>\n",
       "      <td>A</td>\n",
       "      <td>Yangon</td>\n",
       "      <td>Normal</td>\n",
       "      <td>Male</td>\n",
       "      <td>Home and lifestyle</td>\n",
       "      <td>46.33</td>\n",
       "      <td>7</td>\n",
       "      <td>16.2155</td>\n",
       "      <td>340.5255</td>\n",
       "      <td>...</td>\n",
       "      <td>Credit card</td>\n",
       "      <td>324.31</td>\n",
       "      <td>4.761905</td>\n",
       "      <td>16.2155</td>\n",
       "      <td>7.4</td>\n",
       "      <td>0.891852</td>\n",
       "      <td>13</td>\n",
       "      <td>2019-03-03</td>\n",
       "      <td>March</td>\n",
       "      <td>Sunday</td>\n",
       "    </tr>\n",
       "    <tr>\n",
       "      <th>3</th>\n",
       "      <td>123-19-1176</td>\n",
       "      <td>A</td>\n",
       "      <td>Yangon</td>\n",
       "      <td>Member</td>\n",
       "      <td>Male</td>\n",
       "      <td>Health and beauty</td>\n",
       "      <td>58.22</td>\n",
       "      <td>8</td>\n",
       "      <td>23.2880</td>\n",
       "      <td>489.0480</td>\n",
       "      <td>...</td>\n",
       "      <td>Ewallet</td>\n",
       "      <td>465.76</td>\n",
       "      <td>4.761905</td>\n",
       "      <td>23.2880</td>\n",
       "      <td>8.4</td>\n",
       "      <td>1.280840</td>\n",
       "      <td>20</td>\n",
       "      <td>2019-01-27</td>\n",
       "      <td>January</td>\n",
       "      <td>Sunday</td>\n",
       "    </tr>\n",
       "    <tr>\n",
       "      <th>4</th>\n",
       "      <td>373-73-7910</td>\n",
       "      <td>A</td>\n",
       "      <td>Yangon</td>\n",
       "      <td>Normal</td>\n",
       "      <td>Male</td>\n",
       "      <td>Sports and travel</td>\n",
       "      <td>86.31</td>\n",
       "      <td>7</td>\n",
       "      <td>30.2085</td>\n",
       "      <td>634.3785</td>\n",
       "      <td>...</td>\n",
       "      <td>Ewallet</td>\n",
       "      <td>604.17</td>\n",
       "      <td>4.761905</td>\n",
       "      <td>30.2085</td>\n",
       "      <td>5.3</td>\n",
       "      <td>1.661468</td>\n",
       "      <td>10</td>\n",
       "      <td>2019-02-08</td>\n",
       "      <td>February</td>\n",
       "      <td>Friday</td>\n",
       "    </tr>\n",
       "  </tbody>\n",
       "</table>\n",
       "<p>5 rows × 22 columns</p>\n",
       "</div>"
      ],
      "text/plain": [
       "    Invoice ID Branch       City Customer type  Gender  \\\n",
       "0  750-67-8428      A     Yangon        Member  Female   \n",
       "1  226-31-3081      C  Naypyitaw        Normal  Female   \n",
       "2  631-41-3108      A     Yangon        Normal    Male   \n",
       "3  123-19-1176      A     Yangon        Member    Male   \n",
       "4  373-73-7910      A     Yangon        Normal    Male   \n",
       "\n",
       "             Product line  Unit price  Quantity   Tax 5%     Total  ...  \\\n",
       "0       Health and beauty       74.69         7  26.1415  548.9715  ...   \n",
       "1  Electronic accessories       15.28         5   3.8200   80.2200  ...   \n",
       "2      Home and lifestyle       46.33         7  16.2155  340.5255  ...   \n",
       "3       Health and beauty       58.22         8  23.2880  489.0480  ...   \n",
       "4       Sports and travel       86.31         7  30.2085  634.3785  ...   \n",
       "\n",
       "       Payment    cogs gross margin percentage  gross income  Rating  \\\n",
       "0      Ewallet  522.83                4.761905       26.1415     9.1   \n",
       "1         Cash   76.40                4.761905        3.8200     9.6   \n",
       "2  Credit card  324.31                4.761905       16.2155     7.4   \n",
       "3      Ewallet  465.76                4.761905       23.2880     8.4   \n",
       "4      Ewallet  604.17                4.761905       30.2085     5.3   \n",
       "\n",
       "   gross income_INR  hours  actualDate     Month   WeekDay  \n",
       "0          1.437782     13  2019-01-05   January  Saturday  \n",
       "1          0.210100     10  2019-03-08     March    Friday  \n",
       "2          0.891852     13  2019-03-03     March    Sunday  \n",
       "3          1.280840     20  2019-01-27   January    Sunday  \n",
       "4          1.661468     10  2019-02-08  February    Friday  \n",
       "\n",
       "[5 rows x 22 columns]"
      ]
     },
     "execution_count": 53,
     "metadata": {},
     "output_type": "execute_result"
    }
   ],
   "source": [
    "data.head()"
   ]
  },
  {
   "cell_type": "code",
   "execution_count": 54,
   "metadata": {},
   "outputs": [
    {
     "data": {
      "text/plain": [
       "Month\n",
       "February    4629.494\n",
       "March       5212.167\n",
       "January     5537.708\n",
       "Name: gross income, dtype: float64"
      ]
     },
     "execution_count": 54,
     "metadata": {},
     "output_type": "execute_result"
    }
   ],
   "source": [
    "#sales per month\n",
    "SPM=data.groupby('Month')['gross income'].sum().sort_values()\n",
    "SPM"
   ]
  },
  {
   "cell_type": "code",
   "execution_count": 55,
   "metadata": {},
   "outputs": [
    {
     "data": {
      "text/plain": [
       "WeekDay\n",
       "Monday       1804.7180\n",
       "Wednesday    2082.4350\n",
       "Friday       2091.7305\n",
       "Sunday       2117.0425\n",
       "Thursday     2159.4880\n",
       "Tuesday      2451.5355\n",
       "Saturday     2672.4195\n",
       "Name: gross income, dtype: float64"
      ]
     },
     "execution_count": 55,
     "metadata": {},
     "output_type": "execute_result"
    }
   ],
   "source": [
    "#sales per weekday\n",
    "SPWD=data.groupby('WeekDay')['gross income'].sum().sort_values()\n",
    "SPWD"
   ]
  },
  {
   "cell_type": "code",
   "execution_count": 56,
   "metadata": {},
   "outputs": [
    {
     "data": {
      "image/png": "[encoded data removed]",
      "text/plain": [
       "<Figure size 432x288 with 1 Axes>"
      ]
     },
     "metadata": {
      "needs_background": "light"
     },
     "output_type": "display_data"
    }
   ],
   "source": [
    "import matplotlib.pyplot as plt\n",
    "plt.plot(SPWD.index,SPWD)\n",
    "plt.xlabel(\"WeekDay\")\n",
    "plt.ylabel(\"TotalSales\")\n",
    "plt.title(\"Sales per WeekDay\")\n",
    "plt.show()"
   ]
  },
  {
   "cell_type": "code",
   "execution_count": 57,
   "metadata": {},
   "outputs": [
    {
     "data": {
      "text/plain": [
       "Product line\n",
       "Electronic accessories    6.924706\n",
       "Fashion accessories       7.029213\n",
       "Food and beverages        7.113218\n",
       "Health and beauty         7.003289\n",
       "Home and lifestyle        6.837500\n",
       "Sports and travel         6.916265\n",
       "Name: Rating, dtype: float64"
      ]
     },
     "execution_count": 57,
     "metadata": {},
     "output_type": "execute_result"
    }
   ],
   "source": [
    "#Rating\n",
    "rating_list=data.groupby('Product line')['Rating'].mean()\n",
    "rating_list"
   ]
  },
  {
   "cell_type": "code",
   "execution_count": 58,
   "metadata": {},
   "outputs": [
    {
     "data": {
      "image/png": "[encoded data removed]",
      "text/plain": [
       "<Figure size 432x288 with 1 Axes>"
      ]
     },
     "metadata": {
      "needs_background": "light"
     },
     "output_type": "display_data"
    }
   ],
   "source": [
    "import matplotlib.pyplot as plt\n",
    "plt.bar(rating_list.index,rating_list)\n",
    "plt.xlabel(\"Product\")\n",
    "plt.ylabel(\"Rating\")\n",
    "plt.title(\"Average Rating\")\n",
    "plt.show()"
   ]
  },
  {
   "cell_type": "code",
   "execution_count": 59,
   "metadata": {},
   "outputs": [],
   "source": [
    "#END"
   ]
  }
 ],
 "metadata": {
  "kernelspec": {
   "display_name": "Python 3",
   "language": "python",
   "name": "python3"
  },
  "language_info": {
   "codemirror_mode": {
    "name": "ipython",
    "version": 3
   },
   "file_extension": ".py",
   "mimetype": "text/x-python",
   "name": "python",
   "nbconvert_exporter": "python",
   "pygments_lexer": "ipython3",
   "version": "3.8.3"
  }
 },
 "nbformat": 4,
 "nbformat_minor": 4
}
