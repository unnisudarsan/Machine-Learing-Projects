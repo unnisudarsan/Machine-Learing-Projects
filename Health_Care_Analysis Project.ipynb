{
 "cells": [
  {
   "cell_type": "code",
   "execution_count": 2,
   "metadata": {
    "executionInfo": {
     "elapsed": 2307,
     "status": "ok",
     "timestamp": 1611668689765,
     "user": {
      "displayName": "Justin Thomas",
      "photoUrl": "",
      "userId": "11559670223272214698"
     },
     "user_tz": -330
    },
    "id": "sQseCTnDjRpA"
   },
   "outputs": [],
   "source": [
    "import pandas as pd\n",
    "import matplotlib.pyplot as plt"
   ]
  },
  {
   "cell_type": "code",
   "execution_count": 3,
   "metadata": {
    "executionInfo": {
     "elapsed": 48062,
     "status": "ok",
     "timestamp": 1611668735535,
     "user": {
      "displayName": "Justin Thomas",
      "photoUrl": "",
      "userId": "11559670223272214698"
     },
     "user_tz": -330
    },
    "id": "6pz8lh3mjRpK"
   },
   "outputs": [],
   "source": [
    "data = pd.read_csv('/home/user/Downloads/MP/healthcare/train.csv')"
   ]
  },
  {
   "cell_type": "code",
   "execution_count": 43,
   "metadata": {
    "colab": {
     "base_uri": "https://localhost:8080/",
     "height": 360
    },
    "executionInfo": {
     "elapsed": 48053,
     "status": "ok",
     "timestamp": 1611668735536,
     "user": {
      "displayName": "Justin Thomas",
      "photoUrl": "",
      "userId": "11559670223272214698"
     },
     "user_tz": -330
    },
    "id": "aEsPWXizjRpL",
    "outputId": "3e4fd670-18df-4c52-978a-e2cf9dbcef8a",
    "scrolled": true
   },
   "outputs": [
    {
     "data": {
      "text/html": [
       "<div>\n",
       "<style scoped>\n",
       "    .dataframe tbody tr th:only-of-type {\n",
       "        vertical-align: middle;\n",
       "    }\n",
       "\n",
       "    .dataframe tbody tr th {\n",
       "        vertical-align: top;\n",
       "    }\n",
       "\n",
       "    .dataframe thead th {\n",
       "        text-align: right;\n",
       "    }\n",
       "</style>\n",
       "<table border=\"1\" class=\"dataframe\">\n",
       "  <thead>\n",
       "    <tr style=\"text-align: right;\">\n",
       "      <th></th>\n",
       "      <th>Hospital_code</th>\n",
       "      <th>Hospital_type_code</th>\n",
       "      <th>City_Code_Hospital</th>\n",
       "      <th>Hospital_region_code</th>\n",
       "      <th>Available Extra Rooms in Hospital</th>\n",
       "      <th>Department</th>\n",
       "      <th>Ward_Type</th>\n",
       "      <th>Ward_Facility_Code</th>\n",
       "      <th>Bed Grade</th>\n",
       "      <th>City_Code_Patient</th>\n",
       "      <th>Type of Admission</th>\n",
       "      <th>Severity of Illness</th>\n",
       "      <th>Visitors with Patient</th>\n",
       "      <th>Age</th>\n",
       "      <th>Admission_Deposit</th>\n",
       "      <th>Stay</th>\n",
       "    </tr>\n",
       "  </thead>\n",
       "  <tbody>\n",
       "    <tr>\n",
       "      <th>0</th>\n",
       "      <td>8</td>\n",
       "      <td>c</td>\n",
       "      <td>3</td>\n",
       "      <td>Z</td>\n",
       "      <td>3</td>\n",
       "      <td>radiotherapy</td>\n",
       "      <td>R</td>\n",
       "      <td>F</td>\n",
       "      <td>2.0</td>\n",
       "      <td>7.0</td>\n",
       "      <td>Emergency</td>\n",
       "      <td>Extreme</td>\n",
       "      <td>2</td>\n",
       "      <td>51-60</td>\n",
       "      <td>4911.0</td>\n",
       "      <td>0-10</td>\n",
       "    </tr>\n",
       "    <tr>\n",
       "      <th>1</th>\n",
       "      <td>2</td>\n",
       "      <td>c</td>\n",
       "      <td>5</td>\n",
       "      <td>Z</td>\n",
       "      <td>2</td>\n",
       "      <td>radiotherapy</td>\n",
       "      <td>S</td>\n",
       "      <td>F</td>\n",
       "      <td>2.0</td>\n",
       "      <td>7.0</td>\n",
       "      <td>Trauma</td>\n",
       "      <td>Extreme</td>\n",
       "      <td>2</td>\n",
       "      <td>51-60</td>\n",
       "      <td>5954.0</td>\n",
       "      <td>41-50</td>\n",
       "    </tr>\n",
       "    <tr>\n",
       "      <th>2</th>\n",
       "      <td>10</td>\n",
       "      <td>e</td>\n",
       "      <td>1</td>\n",
       "      <td>X</td>\n",
       "      <td>2</td>\n",
       "      <td>anesthesia</td>\n",
       "      <td>S</td>\n",
       "      <td>E</td>\n",
       "      <td>2.0</td>\n",
       "      <td>7.0</td>\n",
       "      <td>Trauma</td>\n",
       "      <td>Extreme</td>\n",
       "      <td>2</td>\n",
       "      <td>51-60</td>\n",
       "      <td>4745.0</td>\n",
       "      <td>31-40</td>\n",
       "    </tr>\n",
       "    <tr>\n",
       "      <th>3</th>\n",
       "      <td>26</td>\n",
       "      <td>b</td>\n",
       "      <td>2</td>\n",
       "      <td>Y</td>\n",
       "      <td>2</td>\n",
       "      <td>radiotherapy</td>\n",
       "      <td>R</td>\n",
       "      <td>D</td>\n",
       "      <td>2.0</td>\n",
       "      <td>7.0</td>\n",
       "      <td>Trauma</td>\n",
       "      <td>Extreme</td>\n",
       "      <td>2</td>\n",
       "      <td>51-60</td>\n",
       "      <td>7243.5</td>\n",
       "      <td>41-50</td>\n",
       "    </tr>\n",
       "    <tr>\n",
       "      <th>4</th>\n",
       "      <td>26</td>\n",
       "      <td>b</td>\n",
       "      <td>2</td>\n",
       "      <td>Y</td>\n",
       "      <td>2</td>\n",
       "      <td>radiotherapy</td>\n",
       "      <td>S</td>\n",
       "      <td>D</td>\n",
       "      <td>2.0</td>\n",
       "      <td>7.0</td>\n",
       "      <td>Trauma</td>\n",
       "      <td>Extreme</td>\n",
       "      <td>2</td>\n",
       "      <td>51-60</td>\n",
       "      <td>5558.0</td>\n",
       "      <td>41-50</td>\n",
       "    </tr>\n",
       "    <tr>\n",
       "      <th>5</th>\n",
       "      <td>23</td>\n",
       "      <td>a</td>\n",
       "      <td>6</td>\n",
       "      <td>X</td>\n",
       "      <td>2</td>\n",
       "      <td>anesthesia</td>\n",
       "      <td>S</td>\n",
       "      <td>F</td>\n",
       "      <td>2.0</td>\n",
       "      <td>7.0</td>\n",
       "      <td>Trauma</td>\n",
       "      <td>Extreme</td>\n",
       "      <td>2</td>\n",
       "      <td>51-60</td>\n",
       "      <td>4449.0</td>\n",
       "      <td>11-20</td>\n",
       "    </tr>\n",
       "    <tr>\n",
       "      <th>6</th>\n",
       "      <td>32</td>\n",
       "      <td>f</td>\n",
       "      <td>9</td>\n",
       "      <td>Y</td>\n",
       "      <td>1</td>\n",
       "      <td>radiotherapy</td>\n",
       "      <td>S</td>\n",
       "      <td>B</td>\n",
       "      <td>3.0</td>\n",
       "      <td>7.0</td>\n",
       "      <td>Emergency</td>\n",
       "      <td>Extreme</td>\n",
       "      <td>2</td>\n",
       "      <td>51-60</td>\n",
       "      <td>6167.0</td>\n",
       "      <td>0-10</td>\n",
       "    </tr>\n",
       "    <tr>\n",
       "      <th>7</th>\n",
       "      <td>23</td>\n",
       "      <td>a</td>\n",
       "      <td>6</td>\n",
       "      <td>X</td>\n",
       "      <td>4</td>\n",
       "      <td>radiotherapy</td>\n",
       "      <td>Q</td>\n",
       "      <td>F</td>\n",
       "      <td>3.0</td>\n",
       "      <td>7.0</td>\n",
       "      <td>Trauma</td>\n",
       "      <td>Extreme</td>\n",
       "      <td>2</td>\n",
       "      <td>51-60</td>\n",
       "      <td>5571.0</td>\n",
       "      <td>41-50</td>\n",
       "    </tr>\n",
       "    <tr>\n",
       "      <th>8</th>\n",
       "      <td>1</td>\n",
       "      <td>d</td>\n",
       "      <td>10</td>\n",
       "      <td>Y</td>\n",
       "      <td>2</td>\n",
       "      <td>gynecology</td>\n",
       "      <td>R</td>\n",
       "      <td>B</td>\n",
       "      <td>4.0</td>\n",
       "      <td>7.0</td>\n",
       "      <td>Trauma</td>\n",
       "      <td>Extreme</td>\n",
       "      <td>2</td>\n",
       "      <td>51-60</td>\n",
       "      <td>7223.0</td>\n",
       "      <td>51-60</td>\n",
       "    </tr>\n",
       "    <tr>\n",
       "      <th>9</th>\n",
       "      <td>10</td>\n",
       "      <td>e</td>\n",
       "      <td>1</td>\n",
       "      <td>X</td>\n",
       "      <td>2</td>\n",
       "      <td>gynecology</td>\n",
       "      <td>S</td>\n",
       "      <td>E</td>\n",
       "      <td>3.0</td>\n",
       "      <td>7.0</td>\n",
       "      <td>Trauma</td>\n",
       "      <td>Extreme</td>\n",
       "      <td>2</td>\n",
       "      <td>51-60</td>\n",
       "      <td>6056.0</td>\n",
       "      <td>31-40</td>\n",
       "    </tr>\n",
       "    <tr>\n",
       "      <th>10</th>\n",
       "      <td>22</td>\n",
       "      <td>g</td>\n",
       "      <td>9</td>\n",
       "      <td>Y</td>\n",
       "      <td>2</td>\n",
       "      <td>radiotherapy</td>\n",
       "      <td>S</td>\n",
       "      <td>B</td>\n",
       "      <td>2.0</td>\n",
       "      <td>7.0</td>\n",
       "      <td>Urgent</td>\n",
       "      <td>Extreme</td>\n",
       "      <td>2</td>\n",
       "      <td>51-60</td>\n",
       "      <td>5797.0</td>\n",
       "      <td>21-30</td>\n",
       "    </tr>\n",
       "    <tr>\n",
       "      <th>11</th>\n",
       "      <td>26</td>\n",
       "      <td>b</td>\n",
       "      <td>2</td>\n",
       "      <td>Y</td>\n",
       "      <td>4</td>\n",
       "      <td>radiotherapy</td>\n",
       "      <td>R</td>\n",
       "      <td>D</td>\n",
       "      <td>1.0</td>\n",
       "      <td>7.0</td>\n",
       "      <td>Urgent</td>\n",
       "      <td>Extreme</td>\n",
       "      <td>2</td>\n",
       "      <td>51-60</td>\n",
       "      <td>5993.0</td>\n",
       "      <td>11-20</td>\n",
       "    </tr>\n",
       "    <tr>\n",
       "      <th>12</th>\n",
       "      <td>16</td>\n",
       "      <td>c</td>\n",
       "      <td>3</td>\n",
       "      <td>Z</td>\n",
       "      <td>2</td>\n",
       "      <td>radiotherapy</td>\n",
       "      <td>R</td>\n",
       "      <td>A</td>\n",
       "      <td>3.0</td>\n",
       "      <td>7.0</td>\n",
       "      <td>Emergency</td>\n",
       "      <td>Extreme</td>\n",
       "      <td>2</td>\n",
       "      <td>51-60</td>\n",
       "      <td>5141.0</td>\n",
       "      <td>0-10</td>\n",
       "    </tr>\n",
       "    <tr>\n",
       "      <th>13</th>\n",
       "      <td>9</td>\n",
       "      <td>d</td>\n",
       "      <td>5</td>\n",
       "      <td>Z</td>\n",
       "      <td>3</td>\n",
       "      <td>radiotherapy</td>\n",
       "      <td>S</td>\n",
       "      <td>F</td>\n",
       "      <td>3.0</td>\n",
       "      <td>7.0</td>\n",
       "      <td>Urgent</td>\n",
       "      <td>Extreme</td>\n",
       "      <td>2</td>\n",
       "      <td>51-60</td>\n",
       "      <td>7243.5</td>\n",
       "      <td>21-30</td>\n",
       "    </tr>\n",
       "    <tr>\n",
       "      <th>14</th>\n",
       "      <td>6</td>\n",
       "      <td>a</td>\n",
       "      <td>6</td>\n",
       "      <td>X</td>\n",
       "      <td>4</td>\n",
       "      <td>gynecology</td>\n",
       "      <td>Q</td>\n",
       "      <td>F</td>\n",
       "      <td>3.0</td>\n",
       "      <td>8.0</td>\n",
       "      <td>Emergency</td>\n",
       "      <td>Extreme</td>\n",
       "      <td>2</td>\n",
       "      <td>71-80</td>\n",
       "      <td>2685.0</td>\n",
       "      <td>0-10</td>\n",
       "    </tr>\n",
       "    <tr>\n",
       "      <th>15</th>\n",
       "      <td>6</td>\n",
       "      <td>a</td>\n",
       "      <td>6</td>\n",
       "      <td>X</td>\n",
       "      <td>3</td>\n",
       "      <td>gynecology</td>\n",
       "      <td>Q</td>\n",
       "      <td>F</td>\n",
       "      <td>3.0</td>\n",
       "      <td>8.0</td>\n",
       "      <td>Emergency</td>\n",
       "      <td>Extreme</td>\n",
       "      <td>2</td>\n",
       "      <td>71-80</td>\n",
       "      <td>7243.5</td>\n",
       "      <td>0-10</td>\n",
       "    </tr>\n",
       "    <tr>\n",
       "      <th>16</th>\n",
       "      <td>23</td>\n",
       "      <td>a</td>\n",
       "      <td>6</td>\n",
       "      <td>X</td>\n",
       "      <td>4</td>\n",
       "      <td>radiotherapy</td>\n",
       "      <td>Q</td>\n",
       "      <td>F</td>\n",
       "      <td>3.0</td>\n",
       "      <td>8.0</td>\n",
       "      <td>Urgent</td>\n",
       "      <td>Extreme</td>\n",
       "      <td>4</td>\n",
       "      <td>71-80</td>\n",
       "      <td>2933.0</td>\n",
       "      <td>0-10</td>\n",
       "    </tr>\n",
       "    <tr>\n",
       "      <th>17</th>\n",
       "      <td>29</td>\n",
       "      <td>a</td>\n",
       "      <td>4</td>\n",
       "      <td>X</td>\n",
       "      <td>4</td>\n",
       "      <td>anesthesia</td>\n",
       "      <td>S</td>\n",
       "      <td>F</td>\n",
       "      <td>3.0</td>\n",
       "      <td>8.0</td>\n",
       "      <td>Emergency</td>\n",
       "      <td>Extreme</td>\n",
       "      <td>2</td>\n",
       "      <td>71-80</td>\n",
       "      <td>5342.0</td>\n",
       "      <td>11-20</td>\n",
       "    </tr>\n",
       "    <tr>\n",
       "      <th>18</th>\n",
       "      <td>32</td>\n",
       "      <td>f</td>\n",
       "      <td>9</td>\n",
       "      <td>Y</td>\n",
       "      <td>4</td>\n",
       "      <td>radiotherapy</td>\n",
       "      <td>S</td>\n",
       "      <td>B</td>\n",
       "      <td>2.0</td>\n",
       "      <td>8.0</td>\n",
       "      <td>Trauma</td>\n",
       "      <td>Extreme</td>\n",
       "      <td>2</td>\n",
       "      <td>71-80</td>\n",
       "      <td>7243.5</td>\n",
       "      <td>21-30</td>\n",
       "    </tr>\n",
       "    <tr>\n",
       "      <th>19</th>\n",
       "      <td>12</td>\n",
       "      <td>a</td>\n",
       "      <td>9</td>\n",
       "      <td>Y</td>\n",
       "      <td>4</td>\n",
       "      <td>radiotherapy</td>\n",
       "      <td>Q</td>\n",
       "      <td>B</td>\n",
       "      <td>2.0</td>\n",
       "      <td>8.0</td>\n",
       "      <td>Trauma</td>\n",
       "      <td>Extreme</td>\n",
       "      <td>2</td>\n",
       "      <td>71-80</td>\n",
       "      <td>5155.0</td>\n",
       "      <td>31-40</td>\n",
       "    </tr>\n",
       "    <tr>\n",
       "      <th>20</th>\n",
       "      <td>16</td>\n",
       "      <td>c</td>\n",
       "      <td>3</td>\n",
       "      <td>Z</td>\n",
       "      <td>2</td>\n",
       "      <td>anesthesia</td>\n",
       "      <td>S</td>\n",
       "      <td>A</td>\n",
       "      <td>3.0</td>\n",
       "      <td>8.0</td>\n",
       "      <td>Trauma</td>\n",
       "      <td>Extreme</td>\n",
       "      <td>2</td>\n",
       "      <td>71-80</td>\n",
       "      <td>7243.5</td>\n",
       "      <td>31-40</td>\n",
       "    </tr>\n",
       "    <tr>\n",
       "      <th>21</th>\n",
       "      <td>3</td>\n",
       "      <td>c</td>\n",
       "      <td>3</td>\n",
       "      <td>Z</td>\n",
       "      <td>2</td>\n",
       "      <td>anesthesia</td>\n",
       "      <td>R</td>\n",
       "      <td>A</td>\n",
       "      <td>3.0</td>\n",
       "      <td>8.0</td>\n",
       "      <td>Trauma</td>\n",
       "      <td>Extreme</td>\n",
       "      <td>2</td>\n",
       "      <td>71-80</td>\n",
       "      <td>6672.0</td>\n",
       "      <td>21-30</td>\n",
       "    </tr>\n",
       "    <tr>\n",
       "      <th>22</th>\n",
       "      <td>21</td>\n",
       "      <td>c</td>\n",
       "      <td>3</td>\n",
       "      <td>Z</td>\n",
       "      <td>2</td>\n",
       "      <td>anesthesia</td>\n",
       "      <td>S</td>\n",
       "      <td>A</td>\n",
       "      <td>3.0</td>\n",
       "      <td>8.0</td>\n",
       "      <td>Trauma</td>\n",
       "      <td>Extreme</td>\n",
       "      <td>2</td>\n",
       "      <td>71-80</td>\n",
       "      <td>6364.0</td>\n",
       "      <td>11-20</td>\n",
       "    </tr>\n",
       "    <tr>\n",
       "      <th>23</th>\n",
       "      <td>6</td>\n",
       "      <td>a</td>\n",
       "      <td>6</td>\n",
       "      <td>X</td>\n",
       "      <td>3</td>\n",
       "      <td>anesthesia</td>\n",
       "      <td>R</td>\n",
       "      <td>F</td>\n",
       "      <td>3.0</td>\n",
       "      <td>8.0</td>\n",
       "      <td>Urgent</td>\n",
       "      <td>Extreme</td>\n",
       "      <td>2</td>\n",
       "      <td>71-80</td>\n",
       "      <td>4664.0</td>\n",
       "      <td>21-30</td>\n",
       "    </tr>\n",
       "    <tr>\n",
       "      <th>24</th>\n",
       "      <td>26</td>\n",
       "      <td>b</td>\n",
       "      <td>2</td>\n",
       "      <td>Y</td>\n",
       "      <td>4</td>\n",
       "      <td>radiotherapy</td>\n",
       "      <td>Q</td>\n",
       "      <td>D</td>\n",
       "      <td>1.0</td>\n",
       "      <td>8.0</td>\n",
       "      <td>Trauma</td>\n",
       "      <td>Extreme</td>\n",
       "      <td>4</td>\n",
       "      <td>71-80</td>\n",
       "      <td>4091.0</td>\n",
       "      <td>31-40</td>\n",
       "    </tr>\n",
       "  </tbody>\n",
       "</table>\n",
       "</div>"
      ],
      "text/plain": [
       "    Hospital_code Hospital_type_code  City_Code_Hospital Hospital_region_code  \\\n",
       "0               8                  c                   3                    Z   \n",
       "1               2                  c                   5                    Z   \n",
       "2              10                  e                   1                    X   \n",
       "3              26                  b                   2                    Y   \n",
       "4              26                  b                   2                    Y   \n",
       "5              23                  a                   6                    X   \n",
       "6              32                  f                   9                    Y   \n",
       "7              23                  a                   6                    X   \n",
       "8               1                  d                  10                    Y   \n",
       "9              10                  e                   1                    X   \n",
       "10             22                  g                   9                    Y   \n",
       "11             26                  b                   2                    Y   \n",
       "12             16                  c                   3                    Z   \n",
       "13              9                  d                   5                    Z   \n",
       "14              6                  a                   6                    X   \n",
       "15              6                  a                   6                    X   \n",
       "16             23                  a                   6                    X   \n",
       "17             29                  a                   4                    X   \n",
       "18             32                  f                   9                    Y   \n",
       "19             12                  a                   9                    Y   \n",
       "20             16                  c                   3                    Z   \n",
       "21              3                  c                   3                    Z   \n",
       "22             21                  c                   3                    Z   \n",
       "23              6                  a                   6                    X   \n",
       "24             26                  b                   2                    Y   \n",
       "\n",
       "    Available Extra Rooms in Hospital    Department Ward_Type  \\\n",
       "0                                   3  radiotherapy         R   \n",
       "1                                   2  radiotherapy         S   \n",
       "2                                   2    anesthesia         S   \n",
       "3                                   2  radiotherapy         R   \n",
       "4                                   2  radiotherapy         S   \n",
       "5                                   2    anesthesia         S   \n",
       "6                                   1  radiotherapy         S   \n",
       "7                                   4  radiotherapy         Q   \n",
       "8                                   2    gynecology         R   \n",
       "9                                   2    gynecology         S   \n",
       "10                                  2  radiotherapy         S   \n",
       "11                                  4  radiotherapy         R   \n",
       "12                                  2  radiotherapy         R   \n",
       "13                                  3  radiotherapy         S   \n",
       "14                                  4    gynecology         Q   \n",
       "15                                  3    gynecology         Q   \n",
       "16                                  4  radiotherapy         Q   \n",
       "17                                  4    anesthesia         S   \n",
       "18                                  4  radiotherapy         S   \n",
       "19                                  4  radiotherapy         Q   \n",
       "20                                  2    anesthesia         S   \n",
       "21                                  2    anesthesia         R   \n",
       "22                                  2    anesthesia         S   \n",
       "23                                  3    anesthesia         R   \n",
       "24                                  4  radiotherapy         Q   \n",
       "\n",
       "   Ward_Facility_Code  Bed Grade  City_Code_Patient Type of Admission  \\\n",
       "0                   F        2.0                7.0         Emergency   \n",
       "1                   F        2.0                7.0            Trauma   \n",
       "2                   E        2.0                7.0            Trauma   \n",
       "3                   D        2.0                7.0            Trauma   \n",
       "4                   D        2.0                7.0            Trauma   \n",
       "5                   F        2.0                7.0            Trauma   \n",
       "6                   B        3.0                7.0         Emergency   \n",
       "7                   F        3.0                7.0            Trauma   \n",
       "8                   B        4.0                7.0            Trauma   \n",
       "9                   E        3.0                7.0            Trauma   \n",
       "10                  B        2.0                7.0            Urgent   \n",
       "11                  D        1.0                7.0            Urgent   \n",
       "12                  A        3.0                7.0         Emergency   \n",
       "13                  F        3.0                7.0            Urgent   \n",
       "14                  F        3.0                8.0         Emergency   \n",
       "15                  F        3.0                8.0         Emergency   \n",
       "16                  F        3.0                8.0            Urgent   \n",
       "17                  F        3.0                8.0         Emergency   \n",
       "18                  B        2.0                8.0            Trauma   \n",
       "19                  B        2.0                8.0            Trauma   \n",
       "20                  A        3.0                8.0            Trauma   \n",
       "21                  A        3.0                8.0            Trauma   \n",
       "22                  A        3.0                8.0            Trauma   \n",
       "23                  F        3.0                8.0            Urgent   \n",
       "24                  D        1.0                8.0            Trauma   \n",
       "\n",
       "   Severity of Illness  Visitors with Patient    Age  Admission_Deposit   Stay  \n",
       "0              Extreme                      2  51-60             4911.0   0-10  \n",
       "1              Extreme                      2  51-60             5954.0  41-50  \n",
       "2              Extreme                      2  51-60             4745.0  31-40  \n",
       "3              Extreme                      2  51-60             7243.5  41-50  \n",
       "4              Extreme                      2  51-60             5558.0  41-50  \n",
       "5              Extreme                      2  51-60             4449.0  11-20  \n",
       "6              Extreme                      2  51-60             6167.0   0-10  \n",
       "7              Extreme                      2  51-60             5571.0  41-50  \n",
       "8              Extreme                      2  51-60             7223.0  51-60  \n",
       "9              Extreme                      2  51-60             6056.0  31-40  \n",
       "10             Extreme                      2  51-60             5797.0  21-30  \n",
       "11             Extreme                      2  51-60             5993.0  11-20  \n",
       "12             Extreme                      2  51-60             5141.0   0-10  \n",
       "13             Extreme                      2  51-60             7243.5  21-30  \n",
       "14             Extreme                      2  71-80             2685.0   0-10  \n",
       "15             Extreme                      2  71-80             7243.5   0-10  \n",
       "16             Extreme                      4  71-80             2933.0   0-10  \n",
       "17             Extreme                      2  71-80             5342.0  11-20  \n",
       "18             Extreme                      2  71-80             7243.5  21-30  \n",
       "19             Extreme                      2  71-80             5155.0  31-40  \n",
       "20             Extreme                      2  71-80             7243.5  31-40  \n",
       "21             Extreme                      2  71-80             6672.0  21-30  \n",
       "22             Extreme                      2  71-80             6364.0  11-20  \n",
       "23             Extreme                      2  71-80             4664.0  21-30  \n",
       "24             Extreme                      4  71-80             4091.0  31-40  "
      ]
     },
     "execution_count": 43,
     "metadata": {},
     "output_type": "execute_result"
    }
   ],
   "source": [
    "data.head(25)"
   ]
  },
  {
   "cell_type": "code",
   "execution_count": 5,
   "metadata": {
    "executionInfo": {
     "elapsed": 48047,
     "status": "ok",
     "timestamp": 1611668735538,
     "user": {
      "displayName": "Justin Thomas",
      "photoUrl": "",
      "userId": "11559670223272214698"
     },
     "user_tz": -330
    },
    "id": "u4m_XAGAjRpP"
   },
   "outputs": [],
   "source": [
    "data = data.drop(['case_id','patientid'],axis = 1)"
   ]
  },
  {
   "cell_type": "code",
   "execution_count": 6,
   "metadata": {
    "colab": {
     "base_uri": "https://localhost:8080/"
    },
    "executionInfo": {
     "elapsed": 48046,
     "status": "ok",
     "timestamp": 1611668735544,
     "user": {
      "displayName": "Justin Thomas",
      "photoUrl": "",
      "userId": "11559670223272214698"
     },
     "user_tz": -330
    },
    "id": "EHW0zuWFjRpP",
    "outputId": "b3d86bc4-4014-4b5b-c3e0-34ecb7c92931"
   },
   "outputs": [
    {
     "data": {
      "text/plain": [
       "21-30                 87491\n",
       "11-20                 78139\n",
       "31-40                 55159\n",
       "51-60                 35018\n",
       "0-10                  23604\n",
       "41-50                 11743\n",
       "71-80                 10254\n",
       "More than 100 Days     6683\n",
       "81-90                  4838\n",
       "91-100                 2765\n",
       "61-70                  2744\n",
       "Name: Stay, dtype: int64"
      ]
     },
     "execution_count": 6,
     "metadata": {},
     "output_type": "execute_result"
    }
   ],
   "source": [
    "data.Stay.value_counts()"
   ]
  },
  {
   "cell_type": "code",
   "execution_count": 7,
   "metadata": {
    "colab": {
     "base_uri": "https://localhost:8080/"
    },
    "executionInfo": {
     "elapsed": 48040,
     "status": "ok",
     "timestamp": 1611668735546,
     "user": {
      "displayName": "Justin Thomas",
      "photoUrl": "",
      "userId": "11559670223272214698"
     },
     "user_tz": -330
    },
    "id": "LZxDOBSSjRpQ",
    "outputId": "d14c6e67-be86-48fb-d8df-3112d82c2343"
   },
   "outputs": [
    {
     "data": {
      "text/plain": [
       "Hospital_code                          int64\n",
       "Hospital_type_code                    object\n",
       "City_Code_Hospital                     int64\n",
       "Hospital_region_code                  object\n",
       "Available Extra Rooms in Hospital      int64\n",
       "Department                            object\n",
       "Ward_Type                             object\n",
       "Ward_Facility_Code                    object\n",
       "Bed Grade                            float64\n",
       "City_Code_Patient                    float64\n",
       "Type of Admission                     object\n",
       "Severity of Illness                   object\n",
       "Visitors with Patient                  int64\n",
       "Age                                   object\n",
       "Admission_Deposit                    float64\n",
       "Stay                                  object\n",
       "dtype: object"
      ]
     },
     "execution_count": 7,
     "metadata": {},
     "output_type": "execute_result"
    }
   ],
   "source": [
    "data.dtypes"
   ]
  },
  {
   "cell_type": "code",
   "execution_count": 8,
   "metadata": {
    "colab": {
     "base_uri": "https://localhost:8080/"
    },
    "executionInfo": {
     "elapsed": 48034,
     "status": "ok",
     "timestamp": 1611668735548,
     "user": {
      "displayName": "Justin Thomas",
      "photoUrl": "",
      "userId": "11559670223272214698"
     },
     "user_tz": -330
    },
    "id": "iFWuE0BRjRpR",
    "outputId": "87e59b5e-1dca-4e27-a392-728dac9caaf5"
   },
   "outputs": [
    {
     "data": {
      "text/plain": [
       "(318438, 16)"
      ]
     },
     "execution_count": 8,
     "metadata": {},
     "output_type": "execute_result"
    }
   ],
   "source": [
    "data.shape"
   ]
  },
  {
   "cell_type": "code",
   "execution_count": 9,
   "metadata": {
    "colab": {
     "base_uri": "https://localhost:8080/"
    },
    "executionInfo": {
     "elapsed": 48025,
     "status": "ok",
     "timestamp": 1611668735548,
     "user": {
      "displayName": "Justin Thomas",
      "photoUrl": "",
      "userId": "11559670223272214698"
     },
     "user_tz": -330
    },
    "id": "6J-Jv2F5jRpR",
    "outputId": "83e59413-b165-4732-fc4b-3b3a52d1538a"
   },
   "outputs": [
    {
     "data": {
      "text/plain": [
       "Hospital_code                           0\n",
       "Hospital_type_code                      0\n",
       "City_Code_Hospital                      0\n",
       "Hospital_region_code                    0\n",
       "Available Extra Rooms in Hospital       0\n",
       "Department                              0\n",
       "Ward_Type                               0\n",
       "Ward_Facility_Code                      0\n",
       "Bed Grade                             113\n",
       "City_Code_Patient                    4532\n",
       "Type of Admission                       0\n",
       "Severity of Illness                     0\n",
       "Visitors with Patient                   0\n",
       "Age                                     0\n",
       "Admission_Deposit                       0\n",
       "Stay                                    0\n",
       "dtype: int64"
      ]
     },
     "execution_count": 9,
     "metadata": {},
     "output_type": "execute_result"
    }
   ],
   "source": [
    "# checking for any null values\n",
    "data.isna().sum()"
   ]
  },
  {
   "cell_type": "code",
   "execution_count": 10,
   "metadata": {
    "executionInfo": {
     "elapsed": 48019,
     "status": "ok",
     "timestamp": 1611668735549,
     "user": {
      "displayName": "Justin Thomas",
      "photoUrl": "",
      "userId": "11559670223272214698"
     },
     "user_tz": -330
    },
    "id": "dLVHoFfYjRpR"
   },
   "outputs": [],
   "source": [
    "# removing null values"
   ]
  },
  {
   "cell_type": "code",
   "execution_count": 11,
   "metadata": {
    "colab": {
     "base_uri": "https://localhost:8080/"
    },
    "executionInfo": {
     "elapsed": 48012,
     "status": "ok",
     "timestamp": 1611668735550,
     "user": {
      "displayName": "Justin Thomas",
      "photoUrl": "",
      "userId": "11559670223272214698"
     },
     "user_tz": -330
    },
    "id": "jyONvuXjjRpS",
    "outputId": "c8e31446-35ee-4fef-f260-63cfc5d7e0a8"
   },
   "outputs": [
    {
     "name": "stderr",
     "output_type": "stream",
     "text": [
      "<ipython-input-11-4d2b37fe59b8>:1: SettingWithCopyWarning: \n",
      "A value is trying to be set on a copy of a slice from a DataFrame\n",
      "\n",
      "See the caveats in the documentation: https://pandas.pydata.org/pandas-docs/stable/user_guide/indexing.html#returning-a-view-versus-a-copy\n",
      "  data['City_Code_Patient'][data['City_Code_Patient'].isna()] = data['City_Code_Patient'].mean()\n"
     ]
    }
   ],
   "source": [
    "data['City_Code_Patient'][data['City_Code_Patient'].isna()] = data['City_Code_Patient'].mean()"
   ]
  },
  {
   "cell_type": "code",
   "execution_count": 12,
   "metadata": {
    "colab": {
     "base_uri": "https://localhost:8080/"
    },
    "executionInfo": {
     "elapsed": 48004,
     "status": "ok",
     "timestamp": 1611668735550,
     "user": {
      "displayName": "Justin Thomas",
      "photoUrl": "",
      "userId": "11559670223272214698"
     },
     "user_tz": -330
    },
    "id": "XFNpqCL1jRpS",
    "outputId": "802cd06a-3568-4cf7-bcb7-98dcfd4a1e26"
   },
   "outputs": [
    {
     "name": "stderr",
     "output_type": "stream",
     "text": [
      "<ipython-input-12-c24a2a56cf01>:1: SettingWithCopyWarning: \n",
      "A value is trying to be set on a copy of a slice from a DataFrame\n",
      "\n",
      "See the caveats in the documentation: https://pandas.pydata.org/pandas-docs/stable/user_guide/indexing.html#returning-a-view-versus-a-copy\n",
      "  data['Bed Grade'][data['Bed Grade'].isna()] = data['Bed Grade'].mean()\n"
     ]
    }
   ],
   "source": [
    "data['Bed Grade'][data['Bed Grade'].isna()] = data['Bed Grade'].mean()"
   ]
  },
  {
   "cell_type": "code",
   "execution_count": 13,
   "metadata": {
    "colab": {
     "base_uri": "https://localhost:8080/"
    },
    "executionInfo": {
     "elapsed": 47996,
     "status": "ok",
     "timestamp": 1611668735551,
     "user": {
      "displayName": "Justin Thomas",
      "photoUrl": "",
      "userId": "11559670223272214698"
     },
     "user_tz": -330
    },
    "id": "k8NPaaZtjRpS",
    "outputId": "230b5792-8722-4a0d-e8a6-3351818ef179"
   },
   "outputs": [
    {
     "data": {
      "text/plain": [
       "Hospital_code                        0\n",
       "Hospital_type_code                   0\n",
       "City_Code_Hospital                   0\n",
       "Hospital_region_code                 0\n",
       "Available Extra Rooms in Hospital    0\n",
       "Department                           0\n",
       "Ward_Type                            0\n",
       "Ward_Facility_Code                   0\n",
       "Bed Grade                            0\n",
       "City_Code_Patient                    0\n",
       "Type of Admission                    0\n",
       "Severity of Illness                  0\n",
       "Visitors with Patient                0\n",
       "Age                                  0\n",
       "Admission_Deposit                    0\n",
       "Stay                                 0\n",
       "dtype: int64"
      ]
     },
     "execution_count": 13,
     "metadata": {},
     "output_type": "execute_result"
    }
   ],
   "source": [
    "data.isna().sum()"
   ]
  },
  {
   "cell_type": "code",
   "execution_count": 14,
   "metadata": {
    "colab": {
     "base_uri": "https://localhost:8080/"
    },
    "executionInfo": {
     "elapsed": 47989,
     "status": "ok",
     "timestamp": 1611668735552,
     "user": {
      "displayName": "Justin Thomas",
      "photoUrl": "",
      "userId": "11559670223272214698"
     },
     "user_tz": -330
    },
    "id": "2IeTX8nVjRpT",
    "outputId": "1cd1c245-8dc0-4d32-ce30-4a2fd1973689"
   },
   "outputs": [
    {
     "data": {
      "text/plain": [
       "Hospital_type_code      object\n",
       "Hospital_region_code    object\n",
       "Department              object\n",
       "Ward_Type               object\n",
       "Ward_Facility_Code      object\n",
       "Type of Admission       object\n",
       "Severity of Illness     object\n",
       "Age                     object\n",
       "Stay                    object\n",
       "dtype: object"
      ]
     },
     "execution_count": 14,
     "metadata": {},
     "output_type": "execute_result"
    }
   ],
   "source": [
    "obj_Cols = data.dtypes[data.dtypes == 'object']\n",
    "obj_Cols"
   ]
  },
  {
   "cell_type": "code",
   "execution_count": 15,
   "metadata": {
    "executionInfo": {
     "elapsed": 47983,
     "status": "ok",
     "timestamp": 1611668735553,
     "user": {
      "displayName": "Justin Thomas",
      "photoUrl": "",
      "userId": "11559670223272214698"
     },
     "user_tz": -330
    },
    "id": "4u2_BxlFjRpT"
   },
   "outputs": [],
   "source": [
    "# checking for any outliers"
   ]
  },
  {
   "cell_type": "code",
   "execution_count": 16,
   "metadata": {
    "executionInfo": {
     "elapsed": 48519,
     "status": "ok",
     "timestamp": 1611668736094,
     "user": {
      "displayName": "Justin Thomas",
      "photoUrl": "",
      "userId": "11559670223272214698"
     },
     "user_tz": -330
    },
    "id": "ugE6pu3cjRpT"
   },
   "outputs": [],
   "source": [
    "import seaborn as sns"
   ]
  },
  {
   "cell_type": "code",
   "execution_count": 17,
   "metadata": {
    "executionInfo": {
     "elapsed": 48515,
     "status": "ok",
     "timestamp": 1611668736096,
     "user": {
      "displayName": "Justin Thomas",
      "photoUrl": "",
      "userId": "11559670223272214698"
     },
     "user_tz": -330
    },
    "id": "eZQwKeM8jRpT"
   },
   "outputs": [],
   "source": [
    "numcols = data.dtypes[(data.dtypes=='int64') | (data.dtypes=='float64')].index"
   ]
  },
  {
   "cell_type": "code",
   "execution_count": 18,
   "metadata": {
    "colab": {
     "base_uri": "https://localhost:8080/",
     "height": 1000
    },
    "executionInfo": {
     "elapsed": 49122,
     "status": "ok",
     "timestamp": 1611668736710,
     "user": {
      "displayName": "Justin Thomas",
      "photoUrl": "",
      "userId": "11559670223272214698"
     },
     "user_tz": -330
    },
    "id": "2oNg8vqJjRpU",
    "outputId": "3decbdfe-fefc-4dd1-f61f-8313ab4aabfc"
   },
   "outputs": [
    {
     "data": {
      "image/png": "[encoded data removed]",
      "text/plain": [
       "<Figure size 432x288 with 1 Axes>"
      ]
     },
     "metadata": {
      "needs_background": "light"
     },
     "output_type": "display_data"
    },
    {
     "data": {
      "image/png": "[encoded data removed]",
      "text/plain": [
       "<Figure size 432x288 with 1 Axes>"
      ]
     },
     "metadata": {
      "needs_background": "light"
     },
     "output_type": "display_data"
    },
    {
     "data": {
      "image/png": "[encoded data removed]",
      "text/plain": [
       "<Figure size 432x288 with 1 Axes>"
      ]
     },
     "metadata": {
      "needs_background": "light"
     },
     "output_type": "display_data"
    },
    {
     "data": {
      "image/png": "[encoded data removed]",
      "text/plain": [
       "<Figure size 432x288 with 1 Axes>"
      ]
     },
     "metadata": {
      "needs_background": "light"
     },
     "output_type": "display_data"
    },
    {
     "data": {
      "image/png": "[encoded data removed]",
      "text/plain": [
       "<Figure size 432x288 with 1 Axes>"
      ]
     },
     "metadata": {
      "needs_background": "light"
     },
     "output_type": "display_data"
    },
    {
     "data": {
      "image/png": "[encoded data removed]",
      "text/plain": [
       "<Figure size 432x288 with 1 Axes>"
      ]
     },
     "metadata": {
      "needs_background": "light"
     },
     "output_type": "display_data"
    },
    {
     "data": {
      "image/png": "[encoded data removed]",
      "text/plain": [
       "<Figure size 432x288 with 1 Axes>"
      ]
     },
     "metadata": {
      "needs_background": "light"
     },
     "output_type": "display_data"
    }
   ],
   "source": [
    "for i in numcols:\n",
    "    sns.boxplot(data[i])\n",
    "    plt.title(i)\n",
    "    plt.show()"
   ]
  },
  {
   "cell_type": "code",
   "execution_count": 19,
   "metadata": {
    "executionInfo": {
     "elapsed": 49114,
     "status": "ok",
     "timestamp": 1611668736712,
     "user": {
      "displayName": "Justin Thomas",
      "photoUrl": "",
      "userId": "11559670223272214698"
     },
     "user_tz": -330
    },
    "id": "4BJmBHbIjRpU"
   },
   "outputs": [],
   "source": [
    "# removing outlies"
   ]
  },
  {
   "cell_type": "code",
   "execution_count": 20,
   "metadata": {
    "colab": {
     "base_uri": "https://localhost:8080/"
    },
    "executionInfo": {
     "elapsed": 49108,
     "status": "ok",
     "timestamp": 1611668736713,
     "user": {
      "displayName": "Justin Thomas",
      "photoUrl": "",
      "userId": "11559670223272214698"
     },
     "user_tz": -330
    },
    "id": "2hlNoZ8bjRpU",
    "outputId": "0c9b11fb-1cd2-45da-cea6-ea811045b95d"
   },
   "outputs": [
    {
     "name": "stderr",
     "output_type": "stream",
     "text": [
      "<ipython-input-20-06bbd9f88cce>:6: SettingWithCopyWarning: \n",
      "A value is trying to be set on a copy of a slice from a DataFrame\n",
      "\n",
      "See the caveats in the documentation: https://pandas.pydata.org/pandas-docs/stable/user_guide/indexing.html#returning-a-view-versus-a-copy\n",
      "  data[i][data[i]>upper_limit] = upper_limit\n",
      "<ipython-input-20-06bbd9f88cce>:7: SettingWithCopyWarning: \n",
      "A value is trying to be set on a copy of a slice from a DataFrame\n",
      "\n",
      "See the caveats in the documentation: https://pandas.pydata.org/pandas-docs/stable/user_guide/indexing.html#returning-a-view-versus-a-copy\n",
      "  data[i][data[i]<lower_limit] = lower_limit\n",
      "<ipython-input-20-06bbd9f88cce>:6: SettingWithCopyWarning: \n",
      "A value is trying to be set on a copy of a slice from a DataFrame\n",
      "\n",
      "See the caveats in the documentation: https://pandas.pydata.org/pandas-docs/stable/user_guide/indexing.html#returning-a-view-versus-a-copy\n",
      "  data[i][data[i]>upper_limit] = upper_limit\n",
      "<ipython-input-20-06bbd9f88cce>:7: SettingWithCopyWarning: \n",
      "A value is trying to be set on a copy of a slice from a DataFrame\n",
      "\n",
      "See the caveats in the documentation: https://pandas.pydata.org/pandas-docs/stable/user_guide/indexing.html#returning-a-view-versus-a-copy\n",
      "  data[i][data[i]<lower_limit] = lower_limit\n",
      "<ipython-input-20-06bbd9f88cce>:6: SettingWithCopyWarning: \n",
      "A value is trying to be set on a copy of a slice from a DataFrame\n",
      "\n",
      "See the caveats in the documentation: https://pandas.pydata.org/pandas-docs/stable/user_guide/indexing.html#returning-a-view-versus-a-copy\n",
      "  data[i][data[i]>upper_limit] = upper_limit\n",
      "<ipython-input-20-06bbd9f88cce>:7: SettingWithCopyWarning: \n",
      "A value is trying to be set on a copy of a slice from a DataFrame\n",
      "\n",
      "See the caveats in the documentation: https://pandas.pydata.org/pandas-docs/stable/user_guide/indexing.html#returning-a-view-versus-a-copy\n",
      "  data[i][data[i]<lower_limit] = lower_limit\n"
     ]
    }
   ],
   "source": [
    "for i in numcols:\n",
    "    desc = data[i].describe()\n",
    "    IQR = desc['75%'] - desc['25%']\n",
    "    upper_limit = desc['75%'] + 1.5 * IQR\n",
    "    lower_limit = desc['25%'] - 1.5 * IQR\n",
    "    data[i][data[i]>upper_limit] = upper_limit\n",
    "    data[i][data[i]<lower_limit] = lower_limit"
   ]
  },
  {
   "cell_type": "code",
   "execution_count": 21,
   "metadata": {
    "colab": {
     "base_uri": "https://localhost:8080/",
     "height": 1000
    },
    "executionInfo": {
     "elapsed": 50279,
     "status": "ok",
     "timestamp": 1611668737893,
     "user": {
      "displayName": "Justin Thomas",
      "photoUrl": "",
      "userId": "11559670223272214698"
     },
     "user_tz": -330
    },
    "id": "qFiGVtTajRpU",
    "outputId": "80fb8233-49f4-49ac-c77d-24d042401e94"
   },
   "outputs": [
    {
     "data": {
      "image/png": "[encoded data removed]",
      "text/plain": [
       "<Figure size 432x288 with 1 Axes>"
      ]
     },
     "metadata": {
      "needs_background": "light"
     },
     "output_type": "display_data"
    },
    {
     "data": {
      "image/png": "[encoded data removed]",
      "text/plain": [
       "<Figure size 432x288 with 1 Axes>"
      ]
     },
     "metadata": {
      "needs_background": "light"
     },
     "output_type": "display_data"
    },
    {
     "data": {
      "image/png": "[encoded data removed]",
      "text/plain": [
       "<Figure size 432x288 with 1 Axes>"
      ]
     },
     "metadata": {
      "needs_background": "light"
     },
     "output_type": "display_data"
    },
    {
     "data": {
      "image/png": "[encoded data removed]",
      "text/plain": [
       "<Figure size 432x288 with 1 Axes>"
      ]
     },
     "metadata": {
      "needs_background": "light"
     },
     "output_type": "display_data"
    },
    {
     "data": {
      "image/png": "[encoded data removed]",
      "text/plain": [
       "<Figure size 432x288 with 1 Axes>"
      ]
     },
     "metadata": {
      "needs_background": "light"
     },
     "output_type": "display_data"
    },
    {
     "data": {
      "image/png": "[encoded data removed]",
      "text/plain": [
       "<Figure size 432x288 with 1 Axes>"
      ]
     },
     "metadata": {
      "needs_background": "light"
     },
     "output_type": "display_data"
    },
    {
     "data": {
      "image/png": "[encoded data removed]",
      "text/plain": [
       "<Figure size 432x288 with 1 Axes>"
      ]
     },
     "metadata": {
      "needs_background": "light"
     },
     "output_type": "display_data"
    }
   ],
   "source": [
    "for i in numcols:\n",
    "    sns.boxplot(data[i])\n",
    "    plt.title(i)\n",
    "    plt.show()"
   ]
  },
  {
   "cell_type": "code",
   "execution_count": 22,
   "metadata": {
    "colab": {
     "base_uri": "https://localhost:8080/"
    },
    "executionInfo": {
     "elapsed": 50271,
     "status": "ok",
     "timestamp": 1611668737895,
     "user": {
      "displayName": "Justin Thomas",
      "photoUrl": "",
      "userId": "11559670223272214698"
     },
     "user_tz": -330
    },
    "id": "iqH5e7EjjRpV",
    "outputId": "018747a0-9ef3-4367-8af8-74e206d0e845"
   },
   "outputs": [
    {
     "data": {
      "text/plain": [
       "array(['0-10', '41-50', '31-40', '11-20', '51-60', '21-30', '71-80',\n",
       "       'More than 100 Days', '81-90', '61-70', '91-100'], dtype=object)"
      ]
     },
     "execution_count": 22,
     "metadata": {},
     "output_type": "execute_result"
    }
   ],
   "source": [
    "data['Stay'].unique()"
   ]
  },
  {
   "cell_type": "code",
   "execution_count": 23,
   "metadata": {
    "colab": {
     "base_uri": "https://localhost:8080/"
    },
    "executionInfo": {
     "elapsed": 50264,
     "status": "ok",
     "timestamp": 1611668737896,
     "user": {
      "displayName": "Justin Thomas",
      "photoUrl": "",
      "userId": "11559670223272214698"
     },
     "user_tz": -330
    },
    "id": "_uDFvX6FjRpV",
    "outputId": "030e0d7a-e443-4a8f-f20e-08b99551c7ea"
   },
   "outputs": [
    {
     "data": {
      "text/plain": [
       "Hospital_code                          int64\n",
       "Hospital_type_code                    object\n",
       "City_Code_Hospital                     int64\n",
       "Hospital_region_code                  object\n",
       "Available Extra Rooms in Hospital      int64\n",
       "Department                            object\n",
       "Ward_Type                             object\n",
       "Ward_Facility_Code                    object\n",
       "Bed Grade                            float64\n",
       "City_Code_Patient                    float64\n",
       "Type of Admission                     object\n",
       "Severity of Illness                   object\n",
       "Visitors with Patient                  int64\n",
       "Age                                   object\n",
       "Admission_Deposit                    float64\n",
       "Stay                                  object\n",
       "dtype: object"
      ]
     },
     "execution_count": 23,
     "metadata": {},
     "output_type": "execute_result"
    }
   ],
   "source": [
    "data.dtypes"
   ]
  },
  {
   "cell_type": "code",
   "execution_count": 24,
   "metadata": {
    "colab": {
     "base_uri": "https://localhost:8080/",
     "height": 360
    },
    "executionInfo": {
     "elapsed": 50256,
     "status": "ok",
     "timestamp": 1611668737897,
     "user": {
      "displayName": "Justin Thomas",
      "photoUrl": "",
      "userId": "11559670223272214698"
     },
     "user_tz": -330
    },
    "id": "GUOC5-1tjRpV",
    "outputId": "b68b7de3-4e9b-4216-dcdd-4a0bb6fe9ac2"
   },
   "outputs": [
    {
     "data": {
      "text/html": [
       "<div>\n",
       "<style scoped>\n",
       "    .dataframe tbody tr th:only-of-type {\n",
       "        vertical-align: middle;\n",
       "    }\n",
       "\n",
       "    .dataframe tbody tr th {\n",
       "        vertical-align: top;\n",
       "    }\n",
       "\n",
       "    .dataframe thead th {\n",
       "        text-align: right;\n",
       "    }\n",
       "</style>\n",
       "<table border=\"1\" class=\"dataframe\">\n",
       "  <thead>\n",
       "    <tr style=\"text-align: right;\">\n",
       "      <th></th>\n",
       "      <th>Hospital_code</th>\n",
       "      <th>Hospital_type_code</th>\n",
       "      <th>City_Code_Hospital</th>\n",
       "      <th>Hospital_region_code</th>\n",
       "      <th>Available Extra Rooms in Hospital</th>\n",
       "      <th>Department</th>\n",
       "      <th>Ward_Type</th>\n",
       "      <th>Ward_Facility_Code</th>\n",
       "      <th>Bed Grade</th>\n",
       "      <th>City_Code_Patient</th>\n",
       "      <th>Type of Admission</th>\n",
       "      <th>Severity of Illness</th>\n",
       "      <th>Visitors with Patient</th>\n",
       "      <th>Age</th>\n",
       "      <th>Admission_Deposit</th>\n",
       "      <th>Stay</th>\n",
       "    </tr>\n",
       "  </thead>\n",
       "  <tbody>\n",
       "    <tr>\n",
       "      <th>0</th>\n",
       "      <td>8</td>\n",
       "      <td>c</td>\n",
       "      <td>3</td>\n",
       "      <td>Z</td>\n",
       "      <td>3</td>\n",
       "      <td>radiotherapy</td>\n",
       "      <td>R</td>\n",
       "      <td>F</td>\n",
       "      <td>2.0</td>\n",
       "      <td>7.0</td>\n",
       "      <td>Emergency</td>\n",
       "      <td>Extreme</td>\n",
       "      <td>2</td>\n",
       "      <td>51-60</td>\n",
       "      <td>4911.0</td>\n",
       "      <td>0-10</td>\n",
       "    </tr>\n",
       "    <tr>\n",
       "      <th>1</th>\n",
       "      <td>2</td>\n",
       "      <td>c</td>\n",
       "      <td>5</td>\n",
       "      <td>Z</td>\n",
       "      <td>2</td>\n",
       "      <td>radiotherapy</td>\n",
       "      <td>S</td>\n",
       "      <td>F</td>\n",
       "      <td>2.0</td>\n",
       "      <td>7.0</td>\n",
       "      <td>Trauma</td>\n",
       "      <td>Extreme</td>\n",
       "      <td>2</td>\n",
       "      <td>51-60</td>\n",
       "      <td>5954.0</td>\n",
       "      <td>41-50</td>\n",
       "    </tr>\n",
       "    <tr>\n",
       "      <th>2</th>\n",
       "      <td>10</td>\n",
       "      <td>e</td>\n",
       "      <td>1</td>\n",
       "      <td>X</td>\n",
       "      <td>2</td>\n",
       "      <td>anesthesia</td>\n",
       "      <td>S</td>\n",
       "      <td>E</td>\n",
       "      <td>2.0</td>\n",
       "      <td>7.0</td>\n",
       "      <td>Trauma</td>\n",
       "      <td>Extreme</td>\n",
       "      <td>2</td>\n",
       "      <td>51-60</td>\n",
       "      <td>4745.0</td>\n",
       "      <td>31-40</td>\n",
       "    </tr>\n",
       "    <tr>\n",
       "      <th>3</th>\n",
       "      <td>26</td>\n",
       "      <td>b</td>\n",
       "      <td>2</td>\n",
       "      <td>Y</td>\n",
       "      <td>2</td>\n",
       "      <td>radiotherapy</td>\n",
       "      <td>R</td>\n",
       "      <td>D</td>\n",
       "      <td>2.0</td>\n",
       "      <td>7.0</td>\n",
       "      <td>Trauma</td>\n",
       "      <td>Extreme</td>\n",
       "      <td>2</td>\n",
       "      <td>51-60</td>\n",
       "      <td>7243.5</td>\n",
       "      <td>41-50</td>\n",
       "    </tr>\n",
       "    <tr>\n",
       "      <th>4</th>\n",
       "      <td>26</td>\n",
       "      <td>b</td>\n",
       "      <td>2</td>\n",
       "      <td>Y</td>\n",
       "      <td>2</td>\n",
       "      <td>radiotherapy</td>\n",
       "      <td>S</td>\n",
       "      <td>D</td>\n",
       "      <td>2.0</td>\n",
       "      <td>7.0</td>\n",
       "      <td>Trauma</td>\n",
       "      <td>Extreme</td>\n",
       "      <td>2</td>\n",
       "      <td>51-60</td>\n",
       "      <td>5558.0</td>\n",
       "      <td>41-50</td>\n",
       "    </tr>\n",
       "  </tbody>\n",
       "</table>\n",
       "</div>"
      ],
      "text/plain": [
       "   Hospital_code Hospital_type_code  City_Code_Hospital Hospital_region_code  \\\n",
       "0              8                  c                   3                    Z   \n",
       "1              2                  c                   5                    Z   \n",
       "2             10                  e                   1                    X   \n",
       "3             26                  b                   2                    Y   \n",
       "4             26                  b                   2                    Y   \n",
       "\n",
       "   Available Extra Rooms in Hospital    Department Ward_Type  \\\n",
       "0                                  3  radiotherapy         R   \n",
       "1                                  2  radiotherapy         S   \n",
       "2                                  2    anesthesia         S   \n",
       "3                                  2  radiotherapy         R   \n",
       "4                                  2  radiotherapy         S   \n",
       "\n",
       "  Ward_Facility_Code  Bed Grade  City_Code_Patient Type of Admission  \\\n",
       "0                  F        2.0                7.0         Emergency   \n",
       "1                  F        2.0                7.0            Trauma   \n",
       "2                  E        2.0                7.0            Trauma   \n",
       "3                  D        2.0                7.0            Trauma   \n",
       "4                  D        2.0                7.0            Trauma   \n",
       "\n",
       "  Severity of Illness  Visitors with Patient    Age  Admission_Deposit   Stay  \n",
       "0             Extreme                      2  51-60             4911.0   0-10  \n",
       "1             Extreme                      2  51-60             5954.0  41-50  \n",
       "2             Extreme                      2  51-60             4745.0  31-40  \n",
       "3             Extreme                      2  51-60             7243.5  41-50  \n",
       "4             Extreme                      2  51-60             5558.0  41-50  "
      ]
     },
     "execution_count": 24,
     "metadata": {},
     "output_type": "execute_result"
    }
   ],
   "source": [
    "data.head()"
   ]
  },
  {
   "cell_type": "code",
   "execution_count": 25,
   "metadata": {
    "executionInfo": {
     "elapsed": 50248,
     "status": "ok",
     "timestamp": 1611668737898,
     "user": {
      "displayName": "Justin Thomas",
      "photoUrl": "",
      "userId": "11559670223272214698"
     },
     "user_tz": -330
    },
    "id": "e3ddl9EVjRpW"
   },
   "outputs": [],
   "source": [
    "x = data.drop(['Stay'],axis = 1)\n",
    "y = data['Stay']"
   ]
  },
  {
   "cell_type": "code",
   "execution_count": 26,
   "metadata": {
    "executionInfo": {
     "elapsed": 50243,
     "status": "ok",
     "timestamp": 1611668737900,
     "user": {
      "displayName": "Justin Thomas",
      "photoUrl": "",
      "userId": "11559670223272214698"
     },
     "user_tz": -330
    },
    "id": "9GZQSBVkjRpW"
   },
   "outputs": [],
   "source": [
    "from sklearn import preprocessing\n",
    "x = pd.get_dummies(x)"
   ]
  },
  {
   "cell_type": "code",
   "execution_count": 27,
   "metadata": {
    "colab": {
     "base_uri": "https://localhost:8080/",
     "height": 275
    },
    "executionInfo": {
     "elapsed": 50236,
     "status": "ok",
     "timestamp": 1611668737901,
     "user": {
      "displayName": "Justin Thomas",
      "photoUrl": "",
      "userId": "11559670223272214698"
     },
     "user_tz": -330
    },
    "id": "OMIN8kP2jRpW",
    "outputId": "590db67c-182f-4901-cb3e-8577dc7ac43d"
   },
   "outputs": [
    {
     "data": {
      "text/html": [
       "<div>\n",
       "<style scoped>\n",
       "    .dataframe tbody tr th:only-of-type {\n",
       "        vertical-align: middle;\n",
       "    }\n",
       "\n",
       "    .dataframe tbody tr th {\n",
       "        vertical-align: top;\n",
       "    }\n",
       "\n",
       "    .dataframe thead th {\n",
       "        text-align: right;\n",
       "    }\n",
       "</style>\n",
       "<table border=\"1\" class=\"dataframe\">\n",
       "  <thead>\n",
       "    <tr style=\"text-align: right;\">\n",
       "      <th></th>\n",
       "      <th>Hospital_code</th>\n",
       "      <th>City_Code_Hospital</th>\n",
       "      <th>Available Extra Rooms in Hospital</th>\n",
       "      <th>Bed Grade</th>\n",
       "      <th>City_Code_Patient</th>\n",
       "      <th>Visitors with Patient</th>\n",
       "      <th>Admission_Deposit</th>\n",
       "      <th>Hospital_type_code_a</th>\n",
       "      <th>Hospital_type_code_b</th>\n",
       "      <th>Hospital_type_code_c</th>\n",
       "      <th>...</th>\n",
       "      <th>Age_0-10</th>\n",
       "      <th>Age_11-20</th>\n",
       "      <th>Age_21-30</th>\n",
       "      <th>Age_31-40</th>\n",
       "      <th>Age_41-50</th>\n",
       "      <th>Age_51-60</th>\n",
       "      <th>Age_61-70</th>\n",
       "      <th>Age_71-80</th>\n",
       "      <th>Age_81-90</th>\n",
       "      <th>Age_91-100</th>\n",
       "    </tr>\n",
       "  </thead>\n",
       "  <tbody>\n",
       "    <tr>\n",
       "      <th>0</th>\n",
       "      <td>8</td>\n",
       "      <td>3</td>\n",
       "      <td>3</td>\n",
       "      <td>2.0</td>\n",
       "      <td>7.0</td>\n",
       "      <td>2</td>\n",
       "      <td>4911.0</td>\n",
       "      <td>0</td>\n",
       "      <td>0</td>\n",
       "      <td>1</td>\n",
       "      <td>...</td>\n",
       "      <td>0</td>\n",
       "      <td>0</td>\n",
       "      <td>0</td>\n",
       "      <td>0</td>\n",
       "      <td>0</td>\n",
       "      <td>1</td>\n",
       "      <td>0</td>\n",
       "      <td>0</td>\n",
       "      <td>0</td>\n",
       "      <td>0</td>\n",
       "    </tr>\n",
       "    <tr>\n",
       "      <th>1</th>\n",
       "      <td>2</td>\n",
       "      <td>5</td>\n",
       "      <td>2</td>\n",
       "      <td>2.0</td>\n",
       "      <td>7.0</td>\n",
       "      <td>2</td>\n",
       "      <td>5954.0</td>\n",
       "      <td>0</td>\n",
       "      <td>0</td>\n",
       "      <td>1</td>\n",
       "      <td>...</td>\n",
       "      <td>0</td>\n",
       "      <td>0</td>\n",
       "      <td>0</td>\n",
       "      <td>0</td>\n",
       "      <td>0</td>\n",
       "      <td>1</td>\n",
       "      <td>0</td>\n",
       "      <td>0</td>\n",
       "      <td>0</td>\n",
       "      <td>0</td>\n",
       "    </tr>\n",
       "    <tr>\n",
       "      <th>2</th>\n",
       "      <td>10</td>\n",
       "      <td>1</td>\n",
       "      <td>2</td>\n",
       "      <td>2.0</td>\n",
       "      <td>7.0</td>\n",
       "      <td>2</td>\n",
       "      <td>4745.0</td>\n",
       "      <td>0</td>\n",
       "      <td>0</td>\n",
       "      <td>0</td>\n",
       "      <td>...</td>\n",
       "      <td>0</td>\n",
       "      <td>0</td>\n",
       "      <td>0</td>\n",
       "      <td>0</td>\n",
       "      <td>0</td>\n",
       "      <td>1</td>\n",
       "      <td>0</td>\n",
       "      <td>0</td>\n",
       "      <td>0</td>\n",
       "      <td>0</td>\n",
       "    </tr>\n",
       "    <tr>\n",
       "      <th>3</th>\n",
       "      <td>26</td>\n",
       "      <td>2</td>\n",
       "      <td>2</td>\n",
       "      <td>2.0</td>\n",
       "      <td>7.0</td>\n",
       "      <td>2</td>\n",
       "      <td>7243.5</td>\n",
       "      <td>0</td>\n",
       "      <td>1</td>\n",
       "      <td>0</td>\n",
       "      <td>...</td>\n",
       "      <td>0</td>\n",
       "      <td>0</td>\n",
       "      <td>0</td>\n",
       "      <td>0</td>\n",
       "      <td>0</td>\n",
       "      <td>1</td>\n",
       "      <td>0</td>\n",
       "      <td>0</td>\n",
       "      <td>0</td>\n",
       "      <td>0</td>\n",
       "    </tr>\n",
       "    <tr>\n",
       "      <th>4</th>\n",
       "      <td>26</td>\n",
       "      <td>2</td>\n",
       "      <td>2</td>\n",
       "      <td>2.0</td>\n",
       "      <td>7.0</td>\n",
       "      <td>2</td>\n",
       "      <td>5558.0</td>\n",
       "      <td>0</td>\n",
       "      <td>1</td>\n",
       "      <td>0</td>\n",
       "      <td>...</td>\n",
       "      <td>0</td>\n",
       "      <td>0</td>\n",
       "      <td>0</td>\n",
       "      <td>0</td>\n",
       "      <td>0</td>\n",
       "      <td>1</td>\n",
       "      <td>0</td>\n",
       "      <td>0</td>\n",
       "      <td>0</td>\n",
       "      <td>0</td>\n",
       "    </tr>\n",
       "  </tbody>\n",
       "</table>\n",
       "<p>5 rows × 50 columns</p>\n",
       "</div>"
      ],
      "text/plain": [
       "   Hospital_code  City_Code_Hospital  Available Extra Rooms in Hospital  \\\n",
       "0              8                   3                                  3   \n",
       "1              2                   5                                  2   \n",
       "2             10                   1                                  2   \n",
       "3             26                   2                                  2   \n",
       "4             26                   2                                  2   \n",
       "\n",
       "   Bed Grade  City_Code_Patient  Visitors with Patient  Admission_Deposit  \\\n",
       "0        2.0                7.0                      2             4911.0   \n",
       "1        2.0                7.0                      2             5954.0   \n",
       "2        2.0                7.0                      2             4745.0   \n",
       "3        2.0                7.0                      2             7243.5   \n",
       "4        2.0                7.0                      2             5558.0   \n",
       "\n",
       "   Hospital_type_code_a  Hospital_type_code_b  Hospital_type_code_c  ...  \\\n",
       "0                     0                     0                     1  ...   \n",
       "1                     0                     0                     1  ...   \n",
       "2                     0                     0                     0  ...   \n",
       "3                     0                     1                     0  ...   \n",
       "4                     0                     1                     0  ...   \n",
       "\n",
       "   Age_0-10  Age_11-20  Age_21-30  Age_31-40  Age_41-50  Age_51-60  Age_61-70  \\\n",
       "0         0          0          0          0          0          1          0   \n",
       "1         0          0          0          0          0          1          0   \n",
       "2         0          0          0          0          0          1          0   \n",
       "3         0          0          0          0          0          1          0   \n",
       "4         0          0          0          0          0          1          0   \n",
       "\n",
       "   Age_71-80  Age_81-90  Age_91-100  \n",
       "0          0          0           0  \n",
       "1          0          0           0  \n",
       "2          0          0           0  \n",
       "3          0          0           0  \n",
       "4          0          0           0  \n",
       "\n",
       "[5 rows x 50 columns]"
      ]
     },
     "execution_count": 27,
     "metadata": {},
     "output_type": "execute_result"
    }
   ],
   "source": [
    "x.head()"
   ]
  },
  {
   "cell_type": "code",
   "execution_count": 28,
   "metadata": {
    "colab": {
     "base_uri": "https://localhost:8080/"
    },
    "executionInfo": {
     "elapsed": 50225,
     "status": "ok",
     "timestamp": 1611668737902,
     "user": {
      "displayName": "Justin Thomas",
      "photoUrl": "",
      "userId": "11559670223272214698"
     },
     "user_tz": -330
    },
    "id": "ZelG7IDRjRpW",
    "outputId": "5ac3cffb-77e2-4b38-ee69-23fa246637fe"
   },
   "outputs": [
    {
     "data": {
      "text/plain": [
       "(318438, 50)"
      ]
     },
     "execution_count": 28,
     "metadata": {},
     "output_type": "execute_result"
    }
   ],
   "source": [
    "x.shape"
   ]
  },
  {
   "cell_type": "markdown",
   "metadata": {},
   "source": [
    "### Normalization"
   ]
  },
  {
   "cell_type": "code",
   "execution_count": 29,
   "metadata": {
    "executionInfo": {
     "elapsed": 50686,
     "status": "ok",
     "timestamp": 1611668738370,
     "user": {
      "displayName": "Justin Thomas",
      "photoUrl": "",
      "userId": "11559670223272214698"
     },
     "user_tz": -330
    },
    "id": "ouAhjOcqjRpX"
   },
   "outputs": [],
   "source": [
    "norm = preprocessing.MinMaxScaler()\n",
    "normalized_x = norm.fit_transform(x)"
   ]
  },
  {
   "cell_type": "code",
   "execution_count": 30,
   "metadata": {},
   "outputs": [],
   "source": [
    "from sklearn.model_selection import train_test_split\n",
    "x_train,x_test,y_train,y_test = train_test_split(normalized_x,y,test_size = 0.3,random_state=42)"
   ]
  },
  {
   "cell_type": "code",
   "execution_count": 31,
   "metadata": {},
   "outputs": [],
   "source": [
    "from sklearn.metrics import accuracy_score"
   ]
  },
  {
   "cell_type": "markdown",
   "metadata": {},
   "source": [
    "### Logistic Regression"
   ]
  },
  {
   "cell_type": "code",
   "execution_count": 32,
   "metadata": {
    "executionInfo": {
     "elapsed": 50681,
     "status": "ok",
     "timestamp": 1611668738370,
     "user": {
      "displayName": "Justin Thomas",
      "photoUrl": "",
      "userId": "11559670223272214698"
     },
     "user_tz": -330
    },
    "id": "tJclIW44jRpX"
   },
   "outputs": [],
   "source": [
    "from sklearn.linear_model import LogisticRegression\n",
    "classifier = LogisticRegression()"
   ]
  },
  {
   "cell_type": "code",
   "execution_count": 33,
   "metadata": {
    "colab": {
     "base_uri": "https://localhost:8080/"
    },
    "executionInfo": {
     "elapsed": 28309,
     "status": "ok",
     "timestamp": 1611641099928,
     "user": {
      "displayName": "Justin Thomas",
      "photoUrl": "",
      "userId": "11559670223272214698"
     },
     "user_tz": -330
    },
    "id": "-dsBiFrxjRpY",
    "outputId": "24c16b92-8452-452a-e8e8-59b19a8a66a8"
   },
   "outputs": [
    {
     "name": "stderr",
     "output_type": "stream",
     "text": [
      "/home/user/anaconda3/lib/python3.8/site-packages/sklearn/linear_model/_logistic.py:762: ConvergenceWarning: lbfgs failed to converge (status=1):\n",
      "STOP: TOTAL NO. of ITERATIONS REACHED LIMIT.\n",
      "\n",
      "Increase the number of iterations (max_iter) or scale the data as shown in:\n",
      "    https://scikit-learn.org/stable/modules/preprocessing.html\n",
      "Please also refer to the documentation for alternative solver options:\n",
      "    https://scikit-learn.org/stable/modules/linear_model.html#logistic-regression\n",
      "  n_iter_i = _check_optimize_result(\n"
     ]
    },
    {
     "data": {
      "text/plain": [
       "LogisticRegression()"
      ]
     },
     "execution_count": 33,
     "metadata": {},
     "output_type": "execute_result"
    }
   ],
   "source": [
    "classifier.fit(x_train,y_train)"
   ]
  },
  {
   "cell_type": "code",
   "execution_count": 34,
   "metadata": {
    "executionInfo": {
     "elapsed": 1262,
     "status": "ok",
     "timestamp": 1611641118032,
     "user": {
      "displayName": "Justin Thomas",
      "photoUrl": "",
      "userId": "11559670223272214698"
     },
     "user_tz": -330
    },
    "id": "xe7Q8xa4jRpY"
   },
   "outputs": [],
   "source": [
    "y_pred_nor = classifier.predict(x_test)"
   ]
  },
  {
   "cell_type": "code",
   "execution_count": 35,
   "metadata": {
    "colab": {
     "base_uri": "https://localhost:8080/"
    },
    "executionInfo": {
     "elapsed": 1330,
     "status": "ok",
     "timestamp": 1611641124121,
     "user": {
      "displayName": "Justin Thomas",
      "photoUrl": "",
      "userId": "11559670223272214698"
     },
     "user_tz": -330
    },
    "id": "XC-O5EKxjRpY",
    "outputId": "4cf81e0e-cfb1-4302-f0ca-09d36c380325"
   },
   "outputs": [
    {
     "data": {
      "text/plain": [
       "0.38994263702214965"
      ]
     },
     "execution_count": 35,
     "metadata": {},
     "output_type": "execute_result"
    }
   ],
   "source": [
    "accuracy_score(y_test,y_pred_nor)"
   ]
  },
  {
   "cell_type": "code",
   "execution_count": 36,
   "metadata": {
    "executionInfo": {
     "elapsed": 1351,
     "status": "ok",
     "timestamp": 1611669245104,
     "user": {
      "displayName": "Justin Thomas",
      "photoUrl": "",
      "userId": "11559670223272214698"
     },
     "user_tz": -330
    },
    "id": "160kR2rH-PzX"
   },
   "outputs": [],
   "source": [
    "from sklearn.model_selection import GridSearchCV"
   ]
  },
  {
   "cell_type": "markdown",
   "metadata": {
    "id": "bBc--byVjRpZ"
   },
   "source": [
    "### Random Forest classifier"
   ]
  },
  {
   "cell_type": "code",
   "execution_count": 37,
   "metadata": {
    "executionInfo": {
     "elapsed": 3253,
     "status": "ok",
     "timestamp": 1611640559423,
     "user": {
      "displayName": "Justin Thomas",
      "photoUrl": "",
      "userId": "11559670223272214698"
     },
     "user_tz": -330
    },
    "id": "Yknchvh7jRpZ"
   },
   "outputs": [],
   "source": [
    "from sklearn.ensemble import RandomForestClassifier\n",
    "RFC = RandomForestClassifier()"
   ]
  },
  {
   "cell_type": "code",
   "execution_count": 38,
   "metadata": {
    "executionInfo": {
     "elapsed": 101856,
     "status": "ok",
     "timestamp": 1611639667290,
     "user": {
      "displayName": "Justin Thomas",
      "photoUrl": "",
      "userId": "11559670223272214698"
     },
     "user_tz": -330
    },
    "id": "aItcHkBajRpZ"
   },
   "outputs": [],
   "source": [
    "X_train,x_test,y_train,y_test = train_test_split(x,y,test_size=0.3,random_state = 42)"
   ]
  },
  {
   "cell_type": "code",
   "execution_count": 42,
   "metadata": {
    "colab": {
     "base_uri": "https://localhost:8080/",
     "height": 275
    },
    "executionInfo": {
     "elapsed": 101849,
     "status": "ok",
     "timestamp": 1611639667291,
     "user": {
      "displayName": "Justin Thomas",
      "photoUrl": "",
      "userId": "11559670223272214698"
     },
     "user_tz": -330
    },
    "id": "j2EohZt5jRpZ",
    "outputId": "ca81025a-d052-49d2-bfda-acac4ff2b15b"
   },
   "outputs": [
    {
     "data": {
      "text/html": [
       "<div>\n",
       "<style scoped>\n",
       "    .dataframe tbody tr th:only-of-type {\n",
       "        vertical-align: middle;\n",
       "    }\n",
       "\n",
       "    .dataframe tbody tr th {\n",
       "        vertical-align: top;\n",
       "    }\n",
       "\n",
       "    .dataframe thead th {\n",
       "        text-align: right;\n",
       "    }\n",
       "</style>\n",
       "<table border=\"1\" class=\"dataframe\">\n",
       "  <thead>\n",
       "    <tr style=\"text-align: right;\">\n",
       "      <th></th>\n",
       "      <th>Hospital_code</th>\n",
       "      <th>City_Code_Hospital</th>\n",
       "      <th>Available Extra Rooms in Hospital</th>\n",
       "      <th>Bed Grade</th>\n",
       "      <th>City_Code_Patient</th>\n",
       "      <th>Visitors with Patient</th>\n",
       "      <th>Admission_Deposit</th>\n",
       "      <th>Hospital_type_code_a</th>\n",
       "      <th>Hospital_type_code_b</th>\n",
       "      <th>Hospital_type_code_c</th>\n",
       "      <th>...</th>\n",
       "      <th>Age_0-10</th>\n",
       "      <th>Age_11-20</th>\n",
       "      <th>Age_21-30</th>\n",
       "      <th>Age_31-40</th>\n",
       "      <th>Age_41-50</th>\n",
       "      <th>Age_51-60</th>\n",
       "      <th>Age_61-70</th>\n",
       "      <th>Age_71-80</th>\n",
       "      <th>Age_81-90</th>\n",
       "      <th>Age_91-100</th>\n",
       "    </tr>\n",
       "  </thead>\n",
       "  <tbody>\n",
       "    <tr>\n",
       "      <th>181718</th>\n",
       "      <td>26</td>\n",
       "      <td>2</td>\n",
       "      <td>4</td>\n",
       "      <td>3.0</td>\n",
       "      <td>14.0</td>\n",
       "      <td>2</td>\n",
       "      <td>4436.0</td>\n",
       "      <td>0</td>\n",
       "      <td>1</td>\n",
       "      <td>0</td>\n",
       "      <td>...</td>\n",
       "      <td>0</td>\n",
       "      <td>0</td>\n",
       "      <td>1</td>\n",
       "      <td>0</td>\n",
       "      <td>0</td>\n",
       "      <td>0</td>\n",
       "      <td>0</td>\n",
       "      <td>0</td>\n",
       "      <td>0</td>\n",
       "      <td>0</td>\n",
       "    </tr>\n",
       "    <tr>\n",
       "      <th>82240</th>\n",
       "      <td>13</td>\n",
       "      <td>5</td>\n",
       "      <td>4</td>\n",
       "      <td>2.0</td>\n",
       "      <td>5.0</td>\n",
       "      <td>2</td>\n",
       "      <td>4627.0</td>\n",
       "      <td>1</td>\n",
       "      <td>0</td>\n",
       "      <td>0</td>\n",
       "      <td>...</td>\n",
       "      <td>0</td>\n",
       "      <td>0</td>\n",
       "      <td>0</td>\n",
       "      <td>1</td>\n",
       "      <td>0</td>\n",
       "      <td>0</td>\n",
       "      <td>0</td>\n",
       "      <td>0</td>\n",
       "      <td>0</td>\n",
       "      <td>0</td>\n",
       "    </tr>\n",
       "    <tr>\n",
       "      <th>234367</th>\n",
       "      <td>27</td>\n",
       "      <td>7</td>\n",
       "      <td>3</td>\n",
       "      <td>3.0</td>\n",
       "      <td>14.0</td>\n",
       "      <td>2</td>\n",
       "      <td>5899.0</td>\n",
       "      <td>1</td>\n",
       "      <td>0</td>\n",
       "      <td>0</td>\n",
       "      <td>...</td>\n",
       "      <td>0</td>\n",
       "      <td>0</td>\n",
       "      <td>0</td>\n",
       "      <td>0</td>\n",
       "      <td>1</td>\n",
       "      <td>0</td>\n",
       "      <td>0</td>\n",
       "      <td>0</td>\n",
       "      <td>0</td>\n",
       "      <td>0</td>\n",
       "    </tr>\n",
       "    <tr>\n",
       "      <th>122616</th>\n",
       "      <td>8</td>\n",
       "      <td>3</td>\n",
       "      <td>4</td>\n",
       "      <td>2.0</td>\n",
       "      <td>4.0</td>\n",
       "      <td>2</td>\n",
       "      <td>3389.0</td>\n",
       "      <td>0</td>\n",
       "      <td>0</td>\n",
       "      <td>1</td>\n",
       "      <td>...</td>\n",
       "      <td>0</td>\n",
       "      <td>0</td>\n",
       "      <td>1</td>\n",
       "      <td>0</td>\n",
       "      <td>0</td>\n",
       "      <td>0</td>\n",
       "      <td>0</td>\n",
       "      <td>0</td>\n",
       "      <td>0</td>\n",
       "      <td>0</td>\n",
       "    </tr>\n",
       "    <tr>\n",
       "      <th>80368</th>\n",
       "      <td>28</td>\n",
       "      <td>11</td>\n",
       "      <td>3</td>\n",
       "      <td>4.0</td>\n",
       "      <td>1.0</td>\n",
       "      <td>3</td>\n",
       "      <td>6340.0</td>\n",
       "      <td>0</td>\n",
       "      <td>1</td>\n",
       "      <td>0</td>\n",
       "      <td>...</td>\n",
       "      <td>0</td>\n",
       "      <td>0</td>\n",
       "      <td>0</td>\n",
       "      <td>0</td>\n",
       "      <td>0</td>\n",
       "      <td>1</td>\n",
       "      <td>0</td>\n",
       "      <td>0</td>\n",
       "      <td>0</td>\n",
       "      <td>0</td>\n",
       "    </tr>\n",
       "  </tbody>\n",
       "</table>\n",
       "<p>5 rows × 50 columns</p>\n",
       "</div>"
      ],
      "text/plain": [
       "        Hospital_code  City_Code_Hospital  Available Extra Rooms in Hospital  \\\n",
       "181718             26                   2                                  4   \n",
       "82240              13                   5                                  4   \n",
       "234367             27                   7                                  3   \n",
       "122616              8                   3                                  4   \n",
       "80368              28                  11                                  3   \n",
       "\n",
       "        Bed Grade  City_Code_Patient  Visitors with Patient  \\\n",
       "181718        3.0               14.0                      2   \n",
       "82240         2.0                5.0                      2   \n",
       "234367        3.0               14.0                      2   \n",
       "122616        2.0                4.0                      2   \n",
       "80368         4.0                1.0                      3   \n",
       "\n",
       "        Admission_Deposit  Hospital_type_code_a  Hospital_type_code_b  \\\n",
       "181718             4436.0                     0                     1   \n",
       "82240              4627.0                     1                     0   \n",
       "234367             5899.0                     1                     0   \n",
       "122616             3389.0                     0                     0   \n",
       "80368              6340.0                     0                     1   \n",
       "\n",
       "        Hospital_type_code_c  ...  Age_0-10  Age_11-20  Age_21-30  Age_31-40  \\\n",
       "181718                     0  ...         0          0          1          0   \n",
       "82240                      0  ...         0          0          0          1   \n",
       "234367                     0  ...         0          0          0          0   \n",
       "122616                     1  ...         0          0          1          0   \n",
       "80368                      0  ...         0          0          0          0   \n",
       "\n",
       "        Age_41-50  Age_51-60  Age_61-70  Age_71-80  Age_81-90  Age_91-100  \n",
       "181718          0          0          0          0          0           0  \n",
       "82240           0          0          0          0          0           0  \n",
       "234367          1          0          0          0          0           0  \n",
       "122616          0          0          0          0          0           0  \n",
       "80368           0          1          0          0          0           0  \n",
       "\n",
       "[5 rows x 50 columns]"
      ]
     },
     "execution_count": 42,
     "metadata": {},
     "output_type": "execute_result"
    }
   ],
   "source": [
    "X_train.head()"
   ]
  },
  {
   "cell_type": "code",
   "execution_count": 116,
   "metadata": {
    "colab": {
     "base_uri": "https://localhost:8080/"
    },
    "executionInfo": {
     "elapsed": 578113,
     "status": "ok",
     "timestamp": 1611645430373,
     "user": {
      "displayName": "Justin Thomas",
      "photoUrl": "",
      "userId": "11559670223272214698"
     },
     "user_tz": -330
    },
    "id": "nMVhtgWfjRpq",
    "outputId": "ae181c0e-a985-4e58-f18d-7a70b0ad23b2"
   },
   "outputs": [
    {
     "data": {
      "text/plain": [
       "GridSearchCV(cv=None, error_score=nan,\n",
       "             estimator=RandomForestClassifier(bootstrap=True, ccp_alpha=0.0,\n",
       "                                              class_weight=None,\n",
       "                                              criterion='gini', max_depth=None,\n",
       "                                              max_features='auto',\n",
       "                                              max_leaf_nodes=None,\n",
       "                                              max_samples=None,\n",
       "                                              min_impurity_decrease=0.0,\n",
       "                                              min_impurity_split=None,\n",
       "                                              min_samples_leaf=1,\n",
       "                                              min_samples_split=2,\n",
       "                                              min_weight_fraction_leaf=0.0,\n",
       "                                              n_estimators=100, n_jobs=None,\n",
       "                                              oob_score=False,\n",
       "                                              random_state=None, verbose=0,\n",
       "                                              warm_start=False),\n",
       "             iid='deprecated', n_jobs=None,\n",
       "             param_grid={'criterion': ['gini', 'entropy'],\n",
       "                         'max_depth': [10, 13, 15, 18, 20],\n",
       "                         'n_estimators': [33, 40, 46, 55, 65, 80]},\n",
       "             pre_dispatch='2*n_jobs', refit=True, return_train_score=False,\n",
       "             scoring=None, verbose=0)"
      ]
     },
     "execution_count": 116,
     "metadata": {
      "tags": []
     },
     "output_type": "execute_result"
    }
   ],
   "source": [
    "n_estimators = [33,40,46,55,65,80]\n",
    "criterion = ['gini','entropy']\n",
    "max_depth = [10,13,15,18,20]\n",
    "parameters = {'n_estimators': n_estimators,'criterion':criterion,'max_depth':max_depth}\n",
    "RFC_cls =GridSearchCV(RFC,parameters)\n",
    "\n",
    "RFC_cls.fit(x_train,y_train)"
   ]
  },
  {
   "cell_type": "code",
   "execution_count": 118,
   "metadata": {
    "colab": {
     "base_uri": "https://localhost:8080/"
    },
    "executionInfo": {
     "elapsed": 1656,
     "status": "ok",
     "timestamp": 1611646141998,
     "user": {
      "displayName": "Justin Thomas",
      "photoUrl": "",
      "userId": "11559670223272214698"
     },
     "user_tz": -330
    },
    "id": "Ubcinq7rjRpr",
    "outputId": "f5354c31-2a2f-4bdf-c36b-4f07dce7d652"
   },
   "outputs": [
    {
     "data": {
      "text/plain": [
       "{'criterion': 'gini', 'max_depth': 15, 'n_estimators': 55}"
      ]
     },
     "execution_count": 118,
     "metadata": {
      "tags": []
     },
     "output_type": "execute_result"
    }
   ],
   "source": [
    "RFC_cls.best_params_"
   ]
  },
  {
   "cell_type": "code",
   "execution_count": 119,
   "metadata": {
    "colab": {
     "base_uri": "https://localhost:8080/"
    },
    "executionInfo": {
     "elapsed": 13328,
     "status": "ok",
     "timestamp": 1611646175559,
     "user": {
      "displayName": "Justin Thomas",
      "photoUrl": "",
      "userId": "11559670223272214698"
     },
     "user_tz": -330
    },
    "id": "H98XduxNjRpr",
    "outputId": "1ed00c20-7063-47ea-fb50-9c3d3e13fac8"
   },
   "outputs": [
    {
     "data": {
      "text/plain": [
       "RandomForestClassifier(bootstrap=True, ccp_alpha=0.0, class_weight=None,\n",
       "                       criterion='gini', max_depth=15, max_features='auto',\n",
       "                       max_leaf_nodes=None, max_samples=None,\n",
       "                       min_impurity_decrease=0.0, min_impurity_split=None,\n",
       "                       min_samples_leaf=1, min_samples_split=2,\n",
       "                       min_weight_fraction_leaf=0.0, n_estimators=55,\n",
       "                       n_jobs=None, oob_score=False, random_state=None,\n",
       "                       verbose=0, warm_start=False)"
      ]
     },
     "execution_count": 119,
     "metadata": {
      "tags": []
     },
     "output_type": "execute_result"
    }
   ],
   "source": [
    "cls_rfc = RandomForestClassifier(n_estimators = 55,criterion = 'gini', max_depth = 15)\n",
    "cls_rfc.fit(X_train,y_train)"
   ]
  },
  {
   "cell_type": "code",
   "execution_count": 120,
   "metadata": {
    "colab": {
     "base_uri": "https://localhost:8080/"
    },
    "executionInfo": {
     "elapsed": 1963,
     "status": "ok",
     "timestamp": 1611646183508,
     "user": {
      "displayName": "Justin Thomas",
      "photoUrl": "",
      "userId": "11559670223272214698"
     },
     "user_tz": -330
    },
    "id": "HyhTFyGbjRps",
    "outputId": "aa334afc-97fc-484a-a484-93fde907344d"
   },
   "outputs": [
    {
     "data": {
      "text/plain": [
       "0.41755642088514844"
      ]
     },
     "execution_count": 120,
     "metadata": {
      "tags": []
     },
     "output_type": "execute_result"
    }
   ],
   "source": [
    "y_pred_rfc = cls_rfc.predict(x_test)\n",
    "accuracy_score(y_test,y_pred_rfc)"
   ]
  },
  {
   "cell_type": "markdown",
   "metadata": {
    "id": "RSYYROBU7oox"
   },
   "source": [
    "### XGboost"
   ]
  },
  {
   "cell_type": "code",
   "execution_count": 39,
   "metadata": {
    "colab": {
     "base_uri": "https://localhost:8080/"
    },
    "executionInfo": {
     "elapsed": 267224,
     "status": "ok",
     "timestamp": 1611669031589,
     "user": {
      "displayName": "Justin Thomas",
      "photoUrl": "",
      "userId": "11559670223272214698"
     },
     "user_tz": -330
    },
    "id": "Uj5kA_Aj7na3",
    "outputId": "4e9810c6-6052-410f-ac46-b80c9828ad7b"
   },
   "outputs": [
    {
     "name": "stderr",
     "output_type": "stream",
     "text": [
      "/home/user/anaconda3/lib/python3.8/site-packages/xgboost/sklearn.py:892: UserWarning: The use of label encoder in XGBClassifier is deprecated and will be removed in a future release. To remove this warning, do the following: 1) Pass option use_label_encoder=False when constructing XGBClassifier object; and 2) Encode your labels (y) as integers starting with 0, i.e. 0, 1, 2, ..., [num_class - 1].\n",
      "  warnings.warn(label_encoder_deprecation_msg, UserWarning)\n"
     ]
    },
    {
     "name": "stdout",
     "output_type": "stream",
     "text": [
      "[10:48:58] WARNING: ../src/learner.cc:1061: Starting in XGBoost 1.3.0, the default evaluation metric used with the objective 'multi:softprob' was changed from 'merror' to 'mlogloss'. Explicitly set eval_metric if you'd like to restore the old behavior.\n"
     ]
    },
    {
     "data": {
      "text/plain": [
       "XGBClassifier(base_score=0.5, booster='gbtree', colsample_bylevel=1,\n",
       "              colsample_bynode=1, colsample_bytree=1, gamma=0, gpu_id=-1,\n",
       "              importance_type='gain', interaction_constraints='',\n",
       "              learning_rate=0.300000012, max_delta_step=0, max_depth=6,\n",
       "              min_child_weight=1, missing=nan, monotone_constraints='()',\n",
       "              n_estimators=100, n_jobs=4, num_parallel_tree=1,\n",
       "              objective='multi:softprob', random_state=0, reg_alpha=0,\n",
       "              reg_lambda=1, scale_pos_weight=None, subsample=1,\n",
       "              tree_method='exact', validate_parameters=1, verbosity=None)"
      ]
     },
     "execution_count": 39,
     "metadata": {},
     "output_type": "execute_result"
    }
   ],
   "source": [
    "import xgboost as xgb\n",
    "classifier = xgb.XGBClassifier()\n",
    "classifier.fit(x_train, y_train)"
   ]
  },
  {
   "cell_type": "code",
   "execution_count": 40,
   "metadata": {
    "colab": {
     "base_uri": "https://localhost:8080/"
    },
    "executionInfo": {
     "elapsed": 7143,
     "status": "ok",
     "timestamp": 1611669038737,
     "user": {
      "displayName": "Justin Thomas",
      "photoUrl": "",
      "userId": "11559670223272214698"
     },
     "user_tz": -330
    },
    "id": "8RXUeJCM8hhS",
    "outputId": "274587b7-e8a5-4f62-af47-2490b2b3a281"
   },
   "outputs": [
    {
     "name": "stdout",
     "output_type": "stream",
     "text": [
      "[[ 1207  3417  2404    53     6    30     0     2     0     0     3]\n",
      " [  691 11585  9332  1049    15   721     1    16     5     2     8]\n",
      " [  552  7355 17562   366    12   403     1    13    40     1    35]\n",
      " [  305  2783  6799  3673    15  2662     0    42    42     3   101]\n",
      " [  131   613  2213   217    15   247     0     7    14     1    34]\n",
      " [  134   791  1547  2467    11  5132     1    62   203    11   233]\n",
      " [   30   108   428    72     3   144     2     5     8     2    37]\n",
      " [   37   173   345   574     8  1569     2    55    62     6   201]\n",
      " [   16    48    74   154     2   669     1    16   247     1   209]\n",
      " [    8    34    96   114     0   426     1    19    19     4   101]\n",
      " [   27    82   119   129     7   627     1    41   151     9   813]]\n"
     ]
    },
    {
     "data": {
      "text/plain": [
       "0.42179583804379683"
      ]
     },
     "execution_count": 40,
     "metadata": {},
     "output_type": "execute_result"
    }
   ],
   "source": [
    "from sklearn.metrics import confusion_matrix, accuracy_score\n",
    "y_pred = classifier.predict(x_test)\n",
    "cm = confusion_matrix(y_test, y_pred)\n",
    "print(cm)\n",
    "accuracy_score(y_test, y_pred)"
   ]
  },
  {
   "cell_type": "raw",
   "metadata": {},
   "source": [
    "import seaborn as sns\n",
    "import matplotlib.pyplot as plt"
   ]
  },
  {
   "cell_type": "markdown",
   "metadata": {
    "id": "uZCkTp8N9qxD"
   },
   "source": [
    "### SVM"
   ]
  },
  {
   "cell_type": "code",
   "execution_count": 44,
   "metadata": {
    "executionInfo": {
     "elapsed": 1183,
     "status": "ok",
     "timestamp": 1611669265120,
     "user": {
      "displayName": "Justin Thomas",
      "photoUrl": "",
      "userId": "11559670223272214698"
     },
     "user_tz": -330
    },
    "id": "51sSvuty7vqF"
   },
   "outputs": [],
   "source": [
    "from sklearn.svm import SVC  #SVC - Supoprt Vector Classifier\n",
    "cls=SVC()\n",
    "from sklearn.model_selection import GridSearchCV\n",
    "parameters = {'C':[0.001,0.1,10], 'gamma':[0.1,0.01,'auto'],'kernel':['rbf']}"
   ]
  },
  {
   "cell_type": "code",
   "execution_count": null,
   "metadata": {
    "id": "5_KtbMZ39t1i"
   },
   "outputs": [],
   "source": [
    "grid = GridSearchCV(cls, parameters) \n",
    "grid.fit(x_train, y_train)"
   ]
  },
  {
   "cell_type": "markdown",
   "metadata": {
    "id": "jIpwumQQ92w9"
   },
   "source": [
    "### KNN"
   ]
  },
  {
   "cell_type": "code",
   "execution_count": 1,
   "metadata": {},
   "outputs": [],
   "source": [
    "from sklearn.neighbors import KNeighborsClassifier\n",
    "n_classifier = KNeighborsClassifier(n_neighbors=5)"
   ]
  },
  {
   "cell_type": "code",
   "execution_count": 31,
   "metadata": {},
   "outputs": [],
   "source": [
    "n_classifier.fit(x_train,y_train)\n",
    "y_pred_KNN=n_classifier.predict(x_test)"
   ]
  },
  {
   "cell_type": "code",
   "execution_count": 34,
   "metadata": {},
   "outputs": [
    {
     "data": {
      "text/plain": [
       "0.2900180044383034"
      ]
     },
     "execution_count": 34,
     "metadata": {},
     "output_type": "execute_result"
    }
   ],
   "source": [
    "accuracy_score(y_test,y_pred_KNN)"
   ]
  },
  {
   "cell_type": "markdown",
   "metadata": {},
   "source": [
    "### Naive Bayes"
   ]
  },
  {
   "cell_type": "code",
   "execution_count": 35,
   "metadata": {},
   "outputs": [],
   "source": [
    "from sklearn.naive_bayes import GaussianNB\n",
    "naive_classifier = GaussianNB()"
   ]
  },
  {
   "cell_type": "code",
   "execution_count": 36,
   "metadata": {},
   "outputs": [
    {
     "data": {
      "text/plain": [
       "GaussianNB()"
      ]
     },
     "execution_count": 36,
     "metadata": {},
     "output_type": "execute_result"
    }
   ],
   "source": [
    "naive_classifier.fit(x_train,y_train)"
   ]
  },
  {
   "cell_type": "code",
   "execution_count": 37,
   "metadata": {},
   "outputs": [],
   "source": [
    "y_pred=naive_classifier.predict(x_test)"
   ]
  },
  {
   "cell_type": "code",
   "execution_count": 38,
   "metadata": {},
   "outputs": [
    {
     "data": {
      "text/plain": [
       "0.1377967592011054"
      ]
     },
     "execution_count": 38,
     "metadata": {},
     "output_type": "execute_result"
    }
   ],
   "source": [
    "accuracy_score(y_test,y_pred)"
   ]
  },
  {
   "cell_type": "markdown",
   "metadata": {},
   "source": [
    "#  Logistic regression  accuracy = 38.99\n",
    "#  Random Forest Classifier        = 41.75\n",
    "# XG boost                                     = 42.17\n",
    "# SVM                                             =?!\n"
   ]
  },
  {
   "cell_type": "markdown",
   "metadata": {},
   "source": [
    "# KNN              = 29.0\n",
    "# Naive bayes = 13.27"
   ]
  },
  {
   "cell_type": "code",
   "execution_count": null,
   "metadata": {},
   "outputs": [],
   "source": []
  }
 ],
 "metadata": {
  "accelerator": "GPU",
  "colab": {
   "collapsed_sections": [
    "ABt4Sng9jRpa",
    "R7oRQFWPjRpe"
   ],
   "name": "health_care_analysis.ipynb",
   "provenance": []
  },
  "kernelspec": {
   "display_name": "Python 3",
   "language": "python",
   "name": "python3"
  },
  "language_info": {
   "codemirror_mode": {
    "name": "ipython",
    "version": 3
   },
   "file_extension": ".py",
   "mimetype": "text/x-python",
   "name": "python",
   "nbconvert_exporter": "python",
   "pygments_lexer": "ipython3",
   "version": "3.8.3"
  }
 },
 "nbformat": 4,
 "nbformat_minor": 1
}
